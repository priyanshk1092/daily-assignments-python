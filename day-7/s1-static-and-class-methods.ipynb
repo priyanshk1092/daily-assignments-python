{
 "cells": [
  {
   "cell_type": "markdown",
   "id": "522a0a87-4733-417a-bef8-0a0c4b1cf684",
   "metadata": {},
   "source": [
    "### Static Methods"
   ]
  },
  {
   "cell_type": "markdown",
   "id": "bb2592a5-b60e-477d-8b13-68f11cbad41d",
   "metadata": {},
   "source": [
    "A static method is one that does not operate on the self/object. It simply behaves like an ordinary functions. They can be used in the class as helper funcitons. They need not essentially work on class or the instance variable"
   ]
  },
  {
   "cell_type": "code",
   "execution_count": 4,
   "id": "0cd754dc-b151-4d5c-93bc-78c0df137465",
   "metadata": {},
   "outputs": [],
   "source": [
    "class MathOps(object):\n",
    "\n",
    "    classVar = 0\n",
    "    \n",
    "    def __init__(self):\n",
    "        self.instVar = 0\n",
    "        print(\"MathOps created.\")\n",
    "\n",
    "    def add(x, y):\n",
    "        return x + y\n",
    "\n",
    "    def multiply(x, y):\n",
    "        return x * y\n",
    "\n",
    "    add = staticmethod(add)\n",
    "    multiply = staticmethod(multiply)"
   ]
  },
  {
   "cell_type": "code",
   "execution_count": 6,
   "id": "a881d656-ce40-4b4e-b8b2-5145abb5aabd",
   "metadata": {},
   "outputs": [
    {
     "name": "stdout",
     "output_type": "stream",
     "text": [
      "MathOps created.\n"
     ]
    }
   ],
   "source": [
    "m = MathOps()"
   ]
  },
  {
   "cell_type": "code",
   "execution_count": 8,
   "id": "da1152b0-9ce8-4418-b967-118d733e3b98",
   "metadata": {},
   "outputs": [
    {
     "data": {
      "text/plain": [
       "30"
      ]
     },
     "execution_count": 8,
     "metadata": {},
     "output_type": "execute_result"
    }
   ],
   "source": [
    "m.add(10,20)"
   ]
  },
  {
   "cell_type": "code",
   "execution_count": 10,
   "id": "cffe8649-de88-4670-8e64-276fdd875ccd",
   "metadata": {},
   "outputs": [
    {
     "data": {
      "text/plain": [
       "200"
      ]
     },
     "execution_count": 10,
     "metadata": {},
     "output_type": "execute_result"
    }
   ],
   "source": [
    "MathOps.multiply(10, 20)"
   ]
  },
  {
   "cell_type": "markdown",
   "id": "dc827c34-d3f2-41d5-8e5f-6bdb52402da1",
   "metadata": {},
   "source": [
    "### Class Method"
   ]
  },
  {
   "cell_type": "markdown",
   "id": "e3a3beec-6de1-45ac-b401-7090a3d99c98",
   "metadata": {},
   "source": [
    "A class method operates on a class rather than on the objects/instances. It takes cls as the first parameter. It can be used to modify class level attributes and create alternative constructors"
   ]
  },
  {
   "cell_type": "code",
   "execution_count": 40,
   "id": "0777d20f-64ad-44f8-819a-aea4dcc9911c",
   "metadata": {},
   "outputs": [],
   "source": [
    "# All classes automatically inherit from object, even if you don’t explicitly write it.\n",
    "\n",
    "class Person(object):\n",
    "\n",
    "    nPersons = 0\n",
    "\n",
    "    def __init__(self, name, age):\n",
    "        self.name = name\n",
    "        self.age  = age\n",
    "\n",
    "    def from_birth_year(cls, name, birth_year):\n",
    "        cls.nPersons += 1\n",
    "        return cls(name, 2025 - birth_year)\n",
    "\n",
    "    from_birth_year = classmethod(from_birth_year)"
   ]
  },
  {
   "cell_type": "code",
   "execution_count": 32,
   "id": "26710cb5-5538-4ac9-94d0-851888d3fe59",
   "metadata": {},
   "outputs": [
    {
     "data": {
      "text/plain": [
       "45"
      ]
     },
     "execution_count": 32,
     "metadata": {},
     "output_type": "execute_result"
    }
   ],
   "source": [
    "p1 = Person('Anil', 45)\n",
    "getattr(p1, \"age\")"
   ]
  },
  {
   "cell_type": "code",
   "execution_count": 34,
   "id": "7379b3b3-f558-4f15-96ad-0a839484eb34",
   "metadata": {},
   "outputs": [
    {
     "data": {
      "text/plain": [
       "30"
      ]
     },
     "execution_count": 34,
     "metadata": {},
     "output_type": "execute_result"
    }
   ],
   "source": [
    "p2 = Person.from_birth_year(\"Sunil\", 1995)\n",
    "getattr(p2, \"age\")"
   ]
  },
  {
   "cell_type": "code",
   "execution_count": 38,
   "id": "32f36dab-23ab-4502-8015-3a6d87e25d20",
   "metadata": {},
   "outputs": [
    {
     "data": {
      "text/plain": [
       "['__class__',\n",
       " '__delattr__',\n",
       " '__dict__',\n",
       " '__dir__',\n",
       " '__doc__',\n",
       " '__eq__',\n",
       " '__format__',\n",
       " '__ge__',\n",
       " '__getattribute__',\n",
       " '__getstate__',\n",
       " '__gt__',\n",
       " '__hash__',\n",
       " '__init__',\n",
       " '__init_subclass__',\n",
       " '__le__',\n",
       " '__lt__',\n",
       " '__module__',\n",
       " '__ne__',\n",
       " '__new__',\n",
       " '__reduce__',\n",
       " '__reduce_ex__',\n",
       " '__repr__',\n",
       " '__setattr__',\n",
       " '__sizeof__',\n",
       " '__str__',\n",
       " '__subclasshook__',\n",
       " '__weakref__',\n",
       " 'age',\n",
       " 'from_birth_year',\n",
       " 'nPersons',\n",
       " 'name']"
      ]
     },
     "execution_count": 38,
     "metadata": {},
     "output_type": "execute_result"
    }
   ],
   "source": [
    "dir(p1)"
   ]
  },
  {
   "cell_type": "code",
   "execution_count": null,
   "id": "825a5e4b-0e1c-47d7-b84f-95021bbbd2d7",
   "metadata": {},
   "outputs": [],
   "source": []
  }
 ],
 "metadata": {
  "kernelspec": {
   "display_name": "Python 3 (ipykernel)",
   "language": "python",
   "name": "python3"
  },
  "language_info": {
   "codemirror_mode": {
    "name": "ipython",
    "version": 3
   },
   "file_extension": ".py",
   "mimetype": "text/x-python",
   "name": "python",
   "nbconvert_exporter": "python",
   "pygments_lexer": "ipython3",
   "version": "3.12.7"
  }
 },
 "nbformat": 4,
 "nbformat_minor": 5
}
