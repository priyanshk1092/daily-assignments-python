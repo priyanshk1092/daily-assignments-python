{
 "cells": [
  {
   "cell_type": "markdown",
   "id": "9b51b231-822e-4f97-a36e-5cb77324f061",
   "metadata": {},
   "source": [
    "### Inheritance of the Student class\n",
    "\n",
    "##### Inherited class derives the data and behaviour from the parent class"
   ]
  },
  {
   "cell_type": "code",
   "execution_count": 2,
   "id": "f95764f9-f26d-4cea-b990-618dbae1714f",
   "metadata": {},
   "outputs": [],
   "source": [
    "class Student:\n",
    "\n",
    "    nstudents = 0\n",
    "\n",
    "    # attributes\n",
    "    def __init__(self, name, age, grade):\n",
    "        self.name = name\n",
    "        self.age  = age\n",
    "        self.grade = grade\n",
    "        self.marks = {}\n",
    "        Student.nstudents += 1\n",
    "\n",
    "    # functions\n",
    "    def set_marks(self, subj, marks):\n",
    "        if subj in ['phy', 'chem', 'bio', 'math']:\n",
    "            if isinstance(marks, float):\n",
    "                self.marks[subj] = marks\n",
    "        else:\n",
    "            return \"Invalid Subject or Marks\"\n",
    "\n",
    "    def average(self):\n",
    "        self.average = sum(self.marks.values()) / len(self.marks.values())\n",
    "        return self.average\n",
    "\n",
    "    def print_report(self):\n",
    "        print(f\"\\nSELF -> {self}\")\n",
    "        print(\"---------------------------------------------\")\n",
    "        print(f\"NAME         | {self.name}\")\n",
    "        print(f\"AGE          | {self.age}\")\n",
    "        print(f\"GRADE        | {self.grade}\")\n",
    "        print(\"---------------------------------------------\")\n",
    "        for k, v in self.marks.items():\n",
    "            print(str(k).rjust(10), \"|\", str(v).ljust(5))\n",
    "        print(\"---------------------------------------------\")\n",
    "        print(f\"AVERAGE      | {self.average}\")\n",
    "        print(\"---------------------------------------------\")"
   ]
  },
  {
   "cell_type": "markdown",
   "id": "26f9cde9-52f2-4fca-956b-9c7a13d15326",
   "metadata": {},
   "source": [
    "##### How to create an inherited class/child class?"
   ]
  },
  {
   "cell_type": "code",
   "execution_count": 6,
   "id": "e2c2fa61-68ec-41ea-a9ce-be9b3f670b0e",
   "metadata": {},
   "outputs": [],
   "source": [
    "class extStudent(Student):\n",
    "    pass"
   ]
  },
  {
   "cell_type": "code",
   "execution_count": 8,
   "id": "0e53b023-2e12-42e0-bf1e-5502ea0ed6e9",
   "metadata": {},
   "outputs": [],
   "source": [
    "s1 = extStudent(\"Anil\", 12, 7)"
   ]
  },
  {
   "cell_type": "code",
   "execution_count": 10,
   "id": "c0247288-4c7d-44d2-9136-bc0df22591d3",
   "metadata": {},
   "outputs": [],
   "source": [
    "s1.set_marks('phy', 100.0)\n",
    "s1.set_marks('chem', 100.0)\n",
    "s1.set_marks('math', 100.0)\n",
    "s1.set_marks('bio', 100.0)"
   ]
  },
  {
   "cell_type": "code",
   "execution_count": 12,
   "id": "f68bd09c-22a6-4b2e-b347-9c148ad97aaf",
   "metadata": {},
   "outputs": [
    {
     "data": {
      "text/plain": [
       "100.0"
      ]
     },
     "execution_count": 12,
     "metadata": {},
     "output_type": "execute_result"
    }
   ],
   "source": [
    "s1.average()"
   ]
  },
  {
   "cell_type": "code",
   "execution_count": 14,
   "id": "59f07bc5-2e31-495e-baf0-eedd617c9acd",
   "metadata": {},
   "outputs": [
    {
     "name": "stdout",
     "output_type": "stream",
     "text": [
      "\n",
      "SELF -> <__main__.extStudent object at 0x000001B7D4D1F8F0>\n",
      "---------------------------------------------\n",
      "NAME         | Anil\n",
      "AGE          | 12\n",
      "GRADE        | 7\n",
      "---------------------------------------------\n",
      "       phy | 100.0\n",
      "      chem | 100.0\n",
      "      math | 100.0\n",
      "       bio | 100.0\n",
      "---------------------------------------------\n",
      "AVERAGE      | 100.0\n",
      "---------------------------------------------\n"
     ]
    }
   ],
   "source": [
    "s1.print_report()"
   ]
  },
  {
   "cell_type": "markdown",
   "id": "736d1693-cfd1-4a82-bc4a-6a7d32f226f0",
   "metadata": {},
   "source": [
    "##### All the properties and funcitons of the parent class is automatically available for the child"
   ]
  },
  {
   "cell_type": "code",
   "execution_count": 43,
   "id": "eaeb7767-da99-400d-a884-0c0d8f782dfe",
   "metadata": {},
   "outputs": [],
   "source": [
    "class newStudent(Student):\n",
    "\n",
    "    def __init__(self, name, age, grade, phone, addr):\n",
    "        super().__init__(name, age, grade)\n",
    "        self.phone = phone\n",
    "        self.addr  = addr\n",
    "        self.hobbies = []\n",
    "\n",
    "    def changePhone(self, phone):\n",
    "        self.phone = phone\n",
    "\n",
    "    def changeAddr(self, addr):\n",
    "        self.addr = addr\n",
    "\n",
    "    def addHobby(self, hobby):\n",
    "        self.hobbies.append(hobby)\n",
    "\n",
    "    def removeHobby(self, hobby):\n",
    "        if hobby in self.hobbies:\n",
    "            self.hobbies.remove(hobby)\n",
    "        else:\n",
    "            return \"No hobby found\"\n",
    "            \n",
    "    # If you do not re-define print_report() here\n",
    "    # It will automatically access print_report() of the parent\n",
    "    # Method overloading\n",
    "    def print_report(self):\n",
    "        print(\"Printing from the child class\")\n",
    "        super().print_report()\n",
    "        print(\"---------------------------------------------\")\n",
    "        print(f\"PHONE    -> {self.phone}\")\n",
    "        print(f\"ADDRESS  -> {self.addr}\")\n",
    "        print(f\"HOBBIES  -> {self.hobbies}\")\n",
    "        print(\"---------------------------------------------\")\n",
    "        \n",
    "        \n",
    "        "
   ]
  },
  {
   "cell_type": "code",
   "execution_count": 45,
   "id": "8ca38cd8-5b77-4190-857a-b2aed0622f02",
   "metadata": {},
   "outputs": [],
   "source": [
    "s1 = newStudent(\"Anil\", 12, 7, '9876534524', 'Bangalore')"
   ]
  },
  {
   "cell_type": "code",
   "execution_count": 47,
   "id": "cecabb91-b866-4786-8f4d-8faada55490f",
   "metadata": {},
   "outputs": [],
   "source": [
    "s1.set_marks('phy', 100.0)\n",
    "s1.set_marks('chem', 100.0)\n",
    "s1.set_marks('math', 100.0)\n",
    "s1.set_marks('bio', 100.0)"
   ]
  },
  {
   "cell_type": "code",
   "execution_count": 49,
   "id": "037406f0-62fe-4269-bb83-becc38652b32",
   "metadata": {},
   "outputs": [],
   "source": [
    "s1.addHobby('Cricket')\n",
    "s1.addHobby('Movies')"
   ]
  },
  {
   "cell_type": "code",
   "execution_count": 51,
   "id": "d2eef69b-42e5-43d6-aee7-4e25c1d5b109",
   "metadata": {},
   "outputs": [
    {
     "data": {
      "text/plain": [
       "100.0"
      ]
     },
     "execution_count": 51,
     "metadata": {},
     "output_type": "execute_result"
    }
   ],
   "source": [
    "s1.average()"
   ]
  },
  {
   "cell_type": "code",
   "execution_count": 53,
   "id": "718ad8a9-3890-4293-a8b1-944953fe2007",
   "metadata": {},
   "outputs": [
    {
     "name": "stdout",
     "output_type": "stream",
     "text": [
      "Printing from the child class\n",
      "\n",
      "SELF -> <__main__.newStudent object at 0x000001B7D37A7A70>\n",
      "---------------------------------------------\n",
      "NAME         | Anil\n",
      "AGE          | 12\n",
      "GRADE        | 7\n",
      "---------------------------------------------\n",
      "       phy | 100.0\n",
      "      chem | 100.0\n",
      "      math | 100.0\n",
      "       bio | 100.0\n",
      "---------------------------------------------\n",
      "AVERAGE      | 100.0\n",
      "---------------------------------------------\n",
      "---------------------------------------------\n",
      "PHONE    -> 9876534524\n",
      "ADDRESS  -> Bangalore\n",
      "HOBBIES  -> ['Cricket', 'Movies']\n",
      "---------------------------------------------\n"
     ]
    }
   ],
   "source": [
    "s1.print_report()"
   ]
  },
  {
   "cell_type": "code",
   "execution_count": 66,
   "id": "988612ba-8aa4-43d6-92fc-3580344b5626",
   "metadata": {},
   "outputs": [
    {
     "data": {
      "text/plain": [
       "4"
      ]
     },
     "execution_count": 66,
     "metadata": {},
     "output_type": "execute_result"
    }
   ],
   "source": [
    "# access the class variable from the child class\n",
    "s1.nstudents"
   ]
  },
  {
   "cell_type": "markdown",
   "id": "9e158764-008a-45b0-84e6-2ae9f8b11f0d",
   "metadata": {},
   "source": [
    "### Inheritance of the Employee class"
   ]
  },
  {
   "cell_type": "code",
   "execution_count": 58,
   "id": "b85aa2da-6a86-4d1a-a7e0-abb7e41b45b5",
   "metadata": {},
   "outputs": [],
   "source": [
    "class employee:\n",
    "\n",
    "    # class variable\n",
    "    nEmployees = 0\n",
    "\n",
    "    # attributes\n",
    "    def __init__(self, name='', age=0, company='', salary=''):\n",
    "        self.name = name\n",
    "        self.age  = age\n",
    "        self.company = company\n",
    "        self.salary = salary  # 1000000 INR\n",
    "        self.taxrate = 0\n",
    "        self.bonus = 0\n",
    "        self.net_salary = self.salary \n",
    "        employee.nEmployees += 1\n",
    "\n",
    "    # methods\n",
    "\n",
    "    def set_taxrate(self, tr):\n",
    "        self.taxrate = tr\n",
    "        self.update_net_salary()\n",
    "        return\n",
    "\n",
    "    def set_bonus(self, bonus_pct):\n",
    "        try:\n",
    "            self.bonus = bonus_pct\n",
    "            temp = float(self.net_salary.split()[0])\n",
    "            temp = temp + (temp * self.bonus/100)\n",
    "            self.net_salary = ' '.join([str(temp), 'INR'])\n",
    "            return\n",
    "        except:\n",
    "            print(\"Incompatible operation\")\n",
    "\n",
    "    def update_net_salary(self):\n",
    "        try:\n",
    "            temp = float(self.salary.split()[0])\n",
    "            temp = temp - (temp * self.taxrate/100)\n",
    "            print(temp)\n",
    "            self.net_salary = ' '.join([str(temp), 'INR'])\n",
    "            return\n",
    "        except:\n",
    "            print(\"Incompatible input\")\n",
    "\n",
    "    def print(self):\n",
    "        print(\"\\n\")\n",
    "        print(\"NAME\".ljust(20), ' -> ', self.name)\n",
    "        print(\"AGE\".ljust(20), ' -> ', self.age)\n",
    "        print(\"COMPANY\".ljust(20), ' -> ', self.company)\n",
    "        print(\"-\"*80)\n",
    "        print(\"GROSS SALARY\".ljust(20), ' = ', self.salary)\n",
    "        print(\"TAX RATE\".ljust(20), ' = ', self.taxrate)\n",
    "        print(\"BONUS\".ljust(20), ' = ', self.bonus, ' pct')\n",
    "        print(\"-\"*80)\n",
    "        print(\"NET SALARY\".ljust(20), ' = ', self.net_salary)"
   ]
  },
  {
   "cell_type": "code",
   "execution_count": 60,
   "id": "574a8016-db63-4881-a7f5-b95dc692adf9",
   "metadata": {},
   "outputs": [],
   "source": [
    "import re\n",
    "\n",
    "class extEmployee(employee):\n",
    "\n",
    "    def __init__(self, name, age, company, salary, marital_status):\n",
    "        # New attributes\n",
    "        self.phone = \"+910000000000\"\n",
    "        self.address = \"\"\n",
    "        self.workmode = \"Office\"\n",
    "        self.maritalstatus = marital_status\n",
    "        # Attributes initialized in parent class\n",
    "        super().__init__(name, age, company, salary)\n",
    "\n",
    "    # New functions\n",
    "    def update_maritalstatus(self, status):\n",
    "        if(status in [\"married\", \"unmarried\", \"single\"]):\n",
    "            self.maritalstatus = status\n",
    "        return\n",
    "\n",
    "    def update_phone(self, phone):\n",
    "        if re.match(r\"\\+91\\d{10}\", phone):\n",
    "            self.phone = phone\n",
    "        return\n",
    "\n",
    "    def update_address(self, addr):\n",
    "        self.addr = addr\n",
    "\n",
    "    def update_workmode(self, mode):\n",
    "        if mode in [\"home\", \"office\", \"hybrid\"]:\n",
    "            self.workmode = mode\n",
    "\n",
    "    # Override the print()\n",
    "    def print(self):\n",
    "        super().print() # To print the parent side details\n",
    "        print(\"-\"*80)\n",
    "        print(\"MARITAL STATUS\".ljust(20), ' = ', self.maritalstatus)\n",
    "        print(\"PHONE\".ljust(20), ' = ', self.phone)\n",
    "        print(\"ADDRESS\".ljust(20), ' = ', self.address)\n",
    "        print(\"WORK MODE\".ljust(20), ' = ', self.workmode)"
   ]
  },
  {
   "cell_type": "code",
   "execution_count": 62,
   "id": "4710ced0-82c5-4a0d-89c2-f42304744db3",
   "metadata": {},
   "outputs": [
    {
     "name": "stdout",
     "output_type": "stream",
     "text": [
      "1350000.0\n",
      "\n",
      "\n",
      "NAME                  ->  Sunil\n",
      "AGE                   ->  35\n",
      "COMPANY               ->  UST Global\n",
      "--------------------------------------------------------------------------------\n",
      "GROSS SALARY          =  1500000 INR\n",
      "TAX RATE              =  10\n",
      "BONUS                 =  10  pct\n",
      "--------------------------------------------------------------------------------\n",
      "NET SALARY            =  1485000.0 INR\n",
      "--------------------------------------------------------------------------------\n",
      "MARITAL STATUS        =  married\n",
      "PHONE                 =  +918876534545\n",
      "ADDRESS               =  \n",
      "WORK MODE             =  Office\n"
     ]
    }
   ],
   "source": [
    "e = extEmployee(\"Sunil\", 35, \"UST Global\", \"1500000 INR\", \"married\")\n",
    "# Calling functions from parent side\n",
    "e.set_taxrate(10)\n",
    "e.set_bonus(10)\n",
    "# Calling functions from the child\n",
    "e.update_phone(\"+918876534545\")\n",
    "e.update_address(\"Jayanagar, Bengaluru - 560040\")\n",
    "# Print\n",
    "e.print()"
   ]
  },
  {
   "cell_type": "markdown",
   "id": "7e5f2521-667b-421b-83c5-ca8c1aeebf5a",
   "metadata": {},
   "source": [
    "### Polymorphism"
   ]
  },
  {
   "cell_type": "code",
   "execution_count": 71,
   "id": "a349c0ca-35ae-4c3c-97f4-a46c47717a4d",
   "metadata": {},
   "outputs": [],
   "source": [
    "e1 = employee(\"Sunil\", 35, \"UST Global\", \"1500000 INR\")\n",
    "e2 = extEmployee(\"Sunil\", 35, \"UST Global\", \"1500000 INR\", \"married\")"
   ]
  },
  {
   "cell_type": "code",
   "execution_count": 75,
   "id": "e4fcf8fe-037c-4042-ac21-5c22012baa09",
   "metadata": {},
   "outputs": [
    {
     "name": "stdout",
     "output_type": "stream",
     "text": [
      "\n",
      "\n",
      "NAME                  ->  Sunil\n",
      "AGE                   ->  35\n",
      "COMPANY               ->  UST Global\n",
      "--------------------------------------------------------------------------------\n",
      "GROSS SALARY          =  1500000 INR\n",
      "TAX RATE              =  0\n",
      "BONUS                 =  0  pct\n",
      "--------------------------------------------------------------------------------\n",
      "NET SALARY            =  1500000 INR\n",
      "--------------------------------------------------------------------------------\n",
      "MARITAL STATUS        =  married\n",
      "PHONE                 =  +910000000000\n",
      "ADDRESS               =  \n",
      "WORK MODE             =  Office\n"
     ]
    }
   ],
   "source": [
    "s = e2\n",
    "#s = e1\n",
    "s.print()"
   ]
  },
  {
   "cell_type": "markdown",
   "id": "4a9898b4-35c7-4f32-ac60-b9b60ad0bdf9",
   "metadata": {},
   "source": [
    "### Practical Use Cases:\n",
    "- GUI Frameworks\n",
    "- Payment Gateways\n",
    "- Machine Learning\n",
    "- Game Development\n",
    "- Web Development"
   ]
  },
  {
   "cell_type": "code",
   "execution_count": 80,
   "id": "3f92cd30-f666-41cb-9983-7172ec7ad182",
   "metadata": {},
   "outputs": [
    {
     "name": "stdout",
     "output_type": "stream",
     "text": [
      "πr²\n",
      "side²\n"
     ]
    }
   ],
   "source": [
    "class Shape:\n",
    "    def area(self):\n",
    "        pass\n",
    "\n",
    "class Circle(Shape):\n",
    "    def area(self):\n",
    "        return \"πr²\"\n",
    "\n",
    "class Square(Shape):\n",
    "    def area(self):\n",
    "        return \"side²\"\n",
    "\n",
    "shapes = [Circle(), Square()]\n",
    "for s in shapes:\n",
    "    print(s.area())\n"
   ]
  },
  {
   "cell_type": "code",
   "execution_count": null,
   "id": "19702386-2042-42d6-99fe-3ad8cc359157",
   "metadata": {},
   "outputs": [],
   "source": []
  }
 ],
 "metadata": {
  "kernelspec": {
   "display_name": "Python 3 (ipykernel)",
   "language": "python",
   "name": "python3"
  },
  "language_info": {
   "codemirror_mode": {
    "name": "ipython",
    "version": 3
   },
   "file_extension": ".py",
   "mimetype": "text/x-python",
   "name": "python",
   "nbconvert_exporter": "python",
   "pygments_lexer": "ipython3",
   "version": "3.12.7"
  }
 },
 "nbformat": 4,
 "nbformat_minor": 5
}
