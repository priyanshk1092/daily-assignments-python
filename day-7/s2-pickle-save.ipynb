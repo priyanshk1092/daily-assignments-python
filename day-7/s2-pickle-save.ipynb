{
 "cells": [
  {
   "cell_type": "markdown",
   "id": "5f164da8-a64d-4a90-aff8-efc86e2d7b25",
   "metadata": {},
   "source": [
    "### The pickle Module - Saving Data"
   ]
  },
  {
   "cell_type": "markdown",
   "id": "32eeca95-bf45-4db9-bb70-779c89a7b7fb",
   "metadata": {},
   "source": [
    "The pickle module implements binary protocols for serializing and de-serializing a Python object structure.\n",
    "\n",
    "Ref: https://docs.python.org/3/library/pickle.html"
   ]
  },
  {
   "cell_type": "code",
   "execution_count": 128,
   "id": "b85bde06-2f70-470f-9c1d-16dc203e5ac1",
   "metadata": {},
   "outputs": [],
   "source": [
    "import pickle"
   ]
  },
  {
   "cell_type": "code",
   "execution_count": 132,
   "id": "19cee750-7566-4f9a-bacc-2ab5b9bc1607",
   "metadata": {},
   "outputs": [],
   "source": [
    "data = {\n",
    "    \"name\": \"Ravi\",\n",
    "    \"age\": 35,\n",
    "    \"skills\": [\"Python\", \"Data Analysis\", \"Machine Learning\"]\n",
    "}"
   ]
  },
  {
   "cell_type": "code",
   "execution_count": 134,
   "id": "e2cb6433-fd3c-4b4c-a8d6-e48353f2f8d7",
   "metadata": {},
   "outputs": [],
   "source": [
    "# Saving the data\n",
    "with open(\"data.pkl\", \"wb\") as f:\n",
    "    pickle.dump(data, f)"
   ]
  },
  {
   "cell_type": "code",
   "execution_count": null,
   "id": "426c883d-1017-464e-9887-eec9fb29ae24",
   "metadata": {},
   "outputs": [],
   "source": []
  }
 ],
 "metadata": {
  "kernelspec": {
   "display_name": "Python 3 (ipykernel)",
   "language": "python",
   "name": "python3"
  },
  "language_info": {
   "codemirror_mode": {
    "name": "ipython",
    "version": 3
   },
   "file_extension": ".py",
   "mimetype": "text/x-python",
   "name": "python",
   "nbconvert_exporter": "python",
   "pygments_lexer": "ipython3",
   "version": "3.12.7"
  }
 },
 "nbformat": 4,
 "nbformat_minor": 5
}
