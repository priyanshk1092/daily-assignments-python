{
 "cells": [
  {
   "cell_type": "markdown",
   "id": "1ff94980-c475-4659-85df-36da14d4a0c6",
   "metadata": {},
   "source": [
    "### Why Operator Overloading?"
   ]
  },
  {
   "cell_type": "markdown",
   "id": "735131fa-add0-4fb4-8dee-88d6193600cb",
   "metadata": {},
   "source": [
    "m -> matrix\n",
    "n -> matrix\n",
    "\n",
    "For matrix addition, which syntax is convenient and intuitive?\n",
    "\n",
    "Method #1:\n",
    "m.add(n) or add(m, n)\n",
    "\n",
    "Method #2:\n",
    "m + n\n",
    "m - n\n",
    "m * n\n",
    "m * N\n",
    "m / N"
   ]
  },
  {
   "cell_type": "code",
   "execution_count": 2,
   "id": "204d238c-9dc4-4b63-a52e-639a7521b2ca",
   "metadata": {},
   "outputs": [],
   "source": [
    "class ComplexNumber:\n",
    "\n",
    "    def __init__(self, a, b):\n",
    "        self.real = a\n",
    "        self.img  = b\n",
    "\n",
    "    def print(self):\n",
    "        return f'{self.real} + j{self.img}'"
   ]
  },
  {
   "cell_type": "code",
   "execution_count": 4,
   "id": "f99487af-ecd0-470d-b870-002dad74a3c2",
   "metadata": {},
   "outputs": [],
   "source": [
    "a = ComplexNumber(10, 4)\n",
    "b = ComplexNumber(5, 6)"
   ]
  },
  {
   "cell_type": "code",
   "execution_count": 8,
   "id": "fcb9a54d-4bad-44a0-8510-d47974b9c56d",
   "metadata": {},
   "outputs": [
    {
     "data": {
      "text/plain": [
       "'10 + j4'"
      ]
     },
     "execution_count": 8,
     "metadata": {},
     "output_type": "execute_result"
    }
   ],
   "source": [
    "a.print()"
   ]
  },
  {
   "cell_type": "code",
   "execution_count": 10,
   "id": "5b866199-c354-45d2-a723-47e5527d927b",
   "metadata": {},
   "outputs": [
    {
     "data": {
      "text/plain": [
       "'5 + j6'"
      ]
     },
     "execution_count": 10,
     "metadata": {},
     "output_type": "execute_result"
    }
   ],
   "source": [
    "b.print()"
   ]
  },
  {
   "cell_type": "code",
   "execution_count": 12,
   "id": "77b48a7c-5d63-4db4-ac14-8f398520a600",
   "metadata": {},
   "outputs": [
    {
     "ename": "TypeError",
     "evalue": "unsupported operand type(s) for +: 'ComplexNumber' and 'ComplexNumber'",
     "output_type": "error",
     "traceback": [
      "\u001b[1;31m---------------------------------------------------------------------------\u001b[0m",
      "\u001b[1;31mTypeError\u001b[0m                                 Traceback (most recent call last)",
      "Cell \u001b[1;32mIn[12], line 1\u001b[0m\n\u001b[1;32m----> 1\u001b[0m a \u001b[38;5;241m+\u001b[39m b\n",
      "\u001b[1;31mTypeError\u001b[0m: unsupported operand type(s) for +: 'ComplexNumber' and 'ComplexNumber'"
     ]
    }
   ],
   "source": [
    "a + b"
   ]
  },
  {
   "cell_type": "code",
   "execution_count": 14,
   "id": "9b130748-beb4-4c5f-a9fd-8b29afc2f054",
   "metadata": {},
   "outputs": [
    {
     "ename": "TypeError",
     "evalue": "unsupported operand type(s) for -: 'ComplexNumber' and 'ComplexNumber'",
     "output_type": "error",
     "traceback": [
      "\u001b[1;31m---------------------------------------------------------------------------\u001b[0m",
      "\u001b[1;31mTypeError\u001b[0m                                 Traceback (most recent call last)",
      "Cell \u001b[1;32mIn[14], line 1\u001b[0m\n\u001b[1;32m----> 1\u001b[0m a \u001b[38;5;241m-\u001b[39m b\n",
      "\u001b[1;31mTypeError\u001b[0m: unsupported operand type(s) for -: 'ComplexNumber' and 'ComplexNumber'"
     ]
    }
   ],
   "source": [
    "a - b"
   ]
  },
  {
   "cell_type": "markdown",
   "id": "7ac6bd73-a5b7-4938-9f48-af859c8758d1",
   "metadata": {},
   "source": [
    "### Overloading + and -"
   ]
  },
  {
   "cell_type": "code",
   "execution_count": 18,
   "id": "4c918fbb-7ae5-4b85-8b94-55f28abe9989",
   "metadata": {},
   "outputs": [],
   "source": [
    "class ComplexNumber:\n",
    "\n",
    "    def __init__(self, a, b):\n",
    "        self.real = a\n",
    "        self.img  = b\n",
    "\n",
    "    '''\n",
    "        a + b\n",
    "        self -> a\n",
    "        other -> b\n",
    "    '''\n",
    "    def __add__(self, other):\n",
    "        return ComplexNumber((self.real + other.real), (self.img + other.img))\n",
    "\n",
    "    def __sub__(self, other):\n",
    "        return ComplexNumber((self.real - other.real), (self.img - other.img))\n",
    "\n",
    "    def print(self):\n",
    "        return f'{self.real} + j{self.img}'"
   ]
  },
  {
   "cell_type": "code",
   "execution_count": 20,
   "id": "9cbd0530-7ee7-4636-8c1c-62435b61cb0a",
   "metadata": {},
   "outputs": [],
   "source": [
    "a = ComplexNumber(10, 4)\n",
    "b = ComplexNumber(5, 6)"
   ]
  },
  {
   "cell_type": "code",
   "execution_count": 24,
   "id": "4759e1e2-5305-4020-9433-e63bb4fbd514",
   "metadata": {},
   "outputs": [],
   "source": [
    "c = a + b"
   ]
  },
  {
   "cell_type": "code",
   "execution_count": 26,
   "id": "db791b9e-f3ab-4395-83cc-57b7702e30b2",
   "metadata": {},
   "outputs": [
    {
     "data": {
      "text/plain": [
       "'15 + j10'"
      ]
     },
     "execution_count": 26,
     "metadata": {},
     "output_type": "execute_result"
    }
   ],
   "source": [
    "c.print()"
   ]
  },
  {
   "cell_type": "code",
   "execution_count": 28,
   "id": "43fcd447-eede-4611-b29b-420ea0a720bf",
   "metadata": {},
   "outputs": [
    {
     "data": {
      "text/plain": [
       "'5 + j-2'"
      ]
     },
     "execution_count": 28,
     "metadata": {},
     "output_type": "execute_result"
    }
   ],
   "source": [
    "d = a - b\n",
    "d.print()"
   ]
  },
  {
   "cell_type": "code",
   "execution_count": 30,
   "id": "32d13440-b042-4d36-bdca-21d56cbda149",
   "metadata": {},
   "outputs": [
    {
     "data": {
      "text/plain": [
       "(<__main__.ComplexNumber at 0x287bd28f8f0>,\n",
       " <__main__.ComplexNumber at 0x287bbcc04a0>)"
      ]
     },
     "execution_count": 30,
     "metadata": {},
     "output_type": "execute_result"
    }
   ],
   "source": [
    "a, b"
   ]
  },
  {
   "cell_type": "code",
   "execution_count": 40,
   "id": "3bf6ad22-a4cf-42d7-8b0e-fe0e93336846",
   "metadata": {},
   "outputs": [
    {
     "name": "stdout",
     "output_type": "stream",
     "text": [
      "<__main__.ComplexNumber object at 0x00000287BD28F8F0>\n",
      "<__main__.ComplexNumber object at 0x00000287BBCC04A0>\n"
     ]
    },
    {
     "data": {
      "text/plain": [
       "(None, None)"
      ]
     },
     "execution_count": 40,
     "metadata": {},
     "output_type": "execute_result"
    }
   ],
   "source": [
    "print(a), print(b)"
   ]
  },
  {
   "cell_type": "code",
   "execution_count": 34,
   "id": "032ef36e-e54f-49d5-be46-0fb63781b65f",
   "metadata": {},
   "outputs": [],
   "source": [
    "x = 10 \n",
    "y = 20"
   ]
  },
  {
   "cell_type": "code",
   "execution_count": 36,
   "id": "dde0393a-e49a-45f1-9ce1-5e76842e34d4",
   "metadata": {},
   "outputs": [
    {
     "data": {
      "text/plain": [
       "(10, 20)"
      ]
     },
     "execution_count": 36,
     "metadata": {},
     "output_type": "execute_result"
    }
   ],
   "source": [
    "x, y"
   ]
  },
  {
   "cell_type": "code",
   "execution_count": 38,
   "id": "f8a4701d-5834-4065-b53a-ecf43ecd587f",
   "metadata": {},
   "outputs": [
    {
     "name": "stdout",
     "output_type": "stream",
     "text": [
      "10\n",
      "20\n"
     ]
    },
    {
     "data": {
      "text/plain": [
       "(None, None)"
      ]
     },
     "execution_count": 38,
     "metadata": {},
     "output_type": "execute_result"
    }
   ],
   "source": [
    "print(x), print(y)"
   ]
  },
  {
   "cell_type": "markdown",
   "id": "4385eab7-81b4-4716-ae6f-f427a7002720",
   "metadata": {},
   "source": [
    "### Overloading Representations"
   ]
  },
  {
   "cell_type": "code",
   "execution_count": 80,
   "id": "4b69438a-2e7c-4a46-8679-b508c56ae2c9",
   "metadata": {},
   "outputs": [],
   "source": [
    "class ComplexNumber:\n",
    "\n",
    "    def __init__(self, a, b):\n",
    "        self.real = a\n",
    "        self.img  = b\n",
    "\n",
    "    '''\n",
    "        a + b\n",
    "        self -> a\n",
    "        other -> b\n",
    "    '''\n",
    "\n",
    "    # Overloading Representations\n",
    "    \n",
    "    def __str__(self): # print\n",
    "        return f'{self.real} + j{self.img}'\n",
    "\n",
    "    def __repr__(self): # fundamental representation\n",
    "        return f\"({self.real}, {self.img})\"\n",
    "\n",
    "    # Overloading Operators\n",
    "    \n",
    "    def __add__(self, other):\n",
    "        return ComplexNumber((self.real + other.real), (self.img + other.img))\n",
    "\n",
    "    def __sub__(self, other):\n",
    "        return ComplexNumber((self.real - other.real), (self.img - other.img))\n",
    "\n",
    "    '''\n",
    "    def print(self):\n",
    "        return f'{self.real} + j{self.img}'\n",
    "    '''"
   ]
  },
  {
   "cell_type": "code",
   "execution_count": 82,
   "id": "a4cc9477-a815-497b-90e6-cbd526838c4d",
   "metadata": {},
   "outputs": [],
   "source": [
    "a = ComplexNumber(10, 4)\n",
    "b = ComplexNumber(5, 6)"
   ]
  },
  {
   "cell_type": "code",
   "execution_count": 84,
   "id": "baa8243f-5e96-4c11-b4a6-46ca748324bd",
   "metadata": {},
   "outputs": [
    {
     "data": {
      "text/plain": [
       "(10, 4)"
      ]
     },
     "execution_count": 84,
     "metadata": {},
     "output_type": "execute_result"
    }
   ],
   "source": [
    "a"
   ]
  },
  {
   "cell_type": "code",
   "execution_count": 86,
   "id": "1bffc694-a2b8-4f1a-8a83-1f7ff010ec7f",
   "metadata": {},
   "outputs": [
    {
     "data": {
      "text/plain": [
       "(5, 6)"
      ]
     },
     "execution_count": 86,
     "metadata": {},
     "output_type": "execute_result"
    }
   ],
   "source": [
    "b"
   ]
  },
  {
   "cell_type": "code",
   "execution_count": 88,
   "id": "e0cf111c-f0a7-4960-ab5f-2cc34672ef10",
   "metadata": {},
   "outputs": [
    {
     "name": "stdout",
     "output_type": "stream",
     "text": [
      "10 + j4\n"
     ]
    }
   ],
   "source": [
    "print(a)"
   ]
  },
  {
   "cell_type": "code",
   "execution_count": 90,
   "id": "3543760f-c681-4eac-a9a5-dc89a476f667",
   "metadata": {},
   "outputs": [
    {
     "name": "stdout",
     "output_type": "stream",
     "text": [
      "5 + j6\n"
     ]
    }
   ],
   "source": [
    "print(b)"
   ]
  },
  {
   "cell_type": "code",
   "execution_count": 92,
   "id": "6d7b00b8-1160-4be7-b1ae-1691c06a9df5",
   "metadata": {},
   "outputs": [],
   "source": [
    "arr = [a, b]"
   ]
  },
  {
   "cell_type": "code",
   "execution_count": 94,
   "id": "e151b7a2-a0db-43be-88b4-78733924608f",
   "metadata": {},
   "outputs": [
    {
     "data": {
      "text/plain": [
       "[(10, 4), (5, 6)]"
      ]
     },
     "execution_count": 94,
     "metadata": {},
     "output_type": "execute_result"
    }
   ],
   "source": [
    "arr"
   ]
  },
  {
   "cell_type": "markdown",
   "id": "b2173726-b621-4bc3-b647-5545f5fe76cf",
   "metadata": {},
   "source": [
    "### Another Example"
   ]
  },
  {
   "cell_type": "code",
   "execution_count": 118,
   "id": "0c67ec10-a51b-416b-9435-a61ad7a8fecb",
   "metadata": {},
   "outputs": [],
   "source": [
    "class CustomString:\n",
    "    \n",
    "    def __init__(self, text):\n",
    "        self.text = text\n",
    "\n",
    "    def __str__(self):  # print()\n",
    "        return self.text\n",
    "\n",
    "    def __repr__(self): # common representation\n",
    "        return '.'+self.text+'.'\n",
    "\n",
    "    def __sub__(self, other):\n",
    "        \"\"\"Removes all characters from self.text that are in other.text\"\"\"\n",
    "        if not isinstance(other, CustomString):\n",
    "            return NotImplemented\n",
    "        return CustomString(\"\".join(c for c in self.text if c not in other.text))\n",
    "\n",
    "    def __and__(self, other):\n",
    "        \"\"\"Returns a string with only the common characters between self.text and other.text\"\"\"\n",
    "        if not isinstance(other, CustomString):\n",
    "            return NotImplemented\n",
    "        common_chars = set(other.text)  # Unique characters in other.text\n",
    "        return CustomString(\"\".join(c for c in self.text if c in common_chars))\n",
    "\n",
    "    def print(self):\n",
    "        return self.text"
   ]
  },
  {
   "cell_type": "code",
   "execution_count": 106,
   "id": "0acc4e9f-4b37-4a77-9c2f-0f3223c3f27d",
   "metadata": {},
   "outputs": [
    {
     "ename": "TypeError",
     "evalue": "unsupported operand type(s) for -: 'str' and 'str'",
     "output_type": "error",
     "traceback": [
      "\u001b[1;31m---------------------------------------------------------------------------\u001b[0m",
      "\u001b[1;31mTypeError\u001b[0m                                 Traceback (most recent call last)",
      "Cell \u001b[1;32mIn[106], line 1\u001b[0m\n\u001b[1;32m----> 1\u001b[0m \u001b[38;5;124m\"\u001b[39m\u001b[38;5;124mabcd\u001b[39m\u001b[38;5;124m\"\u001b[39m \u001b[38;5;241m-\u001b[39m \u001b[38;5;124m\"\u001b[39m\u001b[38;5;124mbcd\u001b[39m\u001b[38;5;124m\"\u001b[39m\n",
      "\u001b[1;31mTypeError\u001b[0m: unsupported operand type(s) for -: 'str' and 'str'"
     ]
    }
   ],
   "source": [
    "\"abcd\" - \"bcd\""
   ]
  },
  {
   "cell_type": "code",
   "execution_count": 108,
   "id": "ce68572d-2265-48b9-9f8a-2d5be6caf46d",
   "metadata": {},
   "outputs": [],
   "source": [
    "a = CustomString(\"abcd\")\n",
    "b = CustomString(\"bcd\")"
   ]
  },
  {
   "cell_type": "code",
   "execution_count": 110,
   "id": "aeb27fce-16cd-4871-98c0-7619a8ac070b",
   "metadata": {},
   "outputs": [
    {
     "data": {
      "text/plain": [
       ".a."
      ]
     },
     "execution_count": 110,
     "metadata": {},
     "output_type": "execute_result"
    }
   ],
   "source": [
    "a - b"
   ]
  },
  {
   "cell_type": "code",
   "execution_count": 112,
   "id": "f09df399-5ce7-4095-a9b5-195fcdecd526",
   "metadata": {},
   "outputs": [
    {
     "name": "stdout",
     "output_type": "stream",
     "text": [
      "a\n"
     ]
    }
   ],
   "source": [
    "print(a - b)"
   ]
  },
  {
   "cell_type": "code",
   "execution_count": 114,
   "id": "e2bf1660-cc54-4e5b-a15c-caa96d8894cd",
   "metadata": {},
   "outputs": [
    {
     "data": {
      "text/plain": [
       ".bcd."
      ]
     },
     "execution_count": 114,
     "metadata": {},
     "output_type": "execute_result"
    }
   ],
   "source": [
    "a & b"
   ]
  },
  {
   "cell_type": "code",
   "execution_count": 116,
   "id": "f75b287a-73d1-43a1-be60-f4a291a01565",
   "metadata": {},
   "outputs": [
    {
     "name": "stdout",
     "output_type": "stream",
     "text": [
      "bcd\n"
     ]
    }
   ],
   "source": [
    "print(a & b)"
   ]
  },
  {
   "cell_type": "code",
   "execution_count": 120,
   "id": "cb8f867e-aa7d-4c0a-b04b-9791e201a30e",
   "metadata": {},
   "outputs": [],
   "source": [
    "a = 'abc'"
   ]
  },
  {
   "cell_type": "code",
   "execution_count": 122,
   "id": "817c3f18-f5c8-4439-a355-e9e484f18ca5",
   "metadata": {},
   "outputs": [
    {
     "ename": "TypeError",
     "evalue": "unsupported operand type(s) for -: 'str' and 'CustomString'",
     "output_type": "error",
     "traceback": [
      "\u001b[1;31m---------------------------------------------------------------------------\u001b[0m",
      "\u001b[1;31mTypeError\u001b[0m                                 Traceback (most recent call last)",
      "Cell \u001b[1;32mIn[122], line 1\u001b[0m\n\u001b[1;32m----> 1\u001b[0m a \u001b[38;5;241m-\u001b[39m b\n",
      "\u001b[1;31mTypeError\u001b[0m: unsupported operand type(s) for -: 'str' and 'CustomString'"
     ]
    }
   ],
   "source": [
    "a - b"
   ]
  },
  {
   "cell_type": "code",
   "execution_count": null,
   "id": "dbda5d6e-0d55-42da-9c40-5bb64bc59096",
   "metadata": {},
   "outputs": [],
   "source": []
  }
 ],
 "metadata": {
  "kernelspec": {
   "display_name": "Python 3 (ipykernel)",
   "language": "python",
   "name": "python3"
  },
  "language_info": {
   "codemirror_mode": {
    "name": "ipython",
    "version": 3
   },
   "file_extension": ".py",
   "mimetype": "text/x-python",
   "name": "python",
   "nbconvert_exporter": "python",
   "pygments_lexer": "ipython3",
   "version": "3.12.7"
  }
 },
 "nbformat": 4,
 "nbformat_minor": 5
}
