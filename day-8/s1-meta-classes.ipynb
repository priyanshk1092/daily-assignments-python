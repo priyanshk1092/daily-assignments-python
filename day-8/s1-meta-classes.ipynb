{
 "cells": [
  {
   "cell_type": "markdown",
   "id": "853680e5-6415-45cd-983c-59d6901443aa",
   "metadata": {},
   "source": [
    "### Metaclass"
   ]
  },
  {
   "cell_type": "markdown",
   "id": "82814c42-b287-4533-9b7d-6732db61924f",
   "metadata": {},
   "source": [
    "A metaclass is a class of a class. \n",
    "It allows you to customize class creation and behavior\n",
    "\n",
    "What are the uses of metaclasses?\n",
    "- automatically register a class\n",
    "- validating class attributes and methods\n",
    "- modify the class even before it is created\n",
    "- enforce coding standards"
   ]
  },
  {
   "cell_type": "markdown",
   "id": "d31a02ee-116c-4b86-b646-f9e2741d0777",
   "metadata": {},
   "source": [
    "### Example"
   ]
  },
  {
   "cell_type": "code",
   "execution_count": null,
   "id": "6ea90de4-364e-4e9d-b4a1-9bf88d8cd31a",
   "metadata": {},
   "outputs": [],
   "source": [
    "class MyMeta(type):\n",
    "\n",
    "    def __new__(cls, name, bases, dct):\n",
    "        dct['class_id'] = name.upper()\n",
    "        print(\"Creating class: \")\n",
    "        print(cls)\n",
    "        print(name)\n",
    "        print(bases)\n",
    "        print(dct)\n",
    "        return super().__new__(cls, name, bases, dct)"
   ]
  },
  {
   "cell_type": "code",
   "execution_count": null,
   "id": "88b911ed-bb50-43db-b741-e3abf1ea9c0c",
   "metadata": {},
   "outputs": [],
   "source": [
    "class MyClass(metaclass=MyMeta):\n",
    "\n",
    "    def greet(self):\n",
    "        return f\"{self.class_id}\""
   ]
  },
  {
   "cell_type": "code",
   "execution_count": null,
   "id": "388222c7-2c47-41f1-99a7-910bd937bb2c",
   "metadata": {},
   "outputs": [],
   "source": [
    "m = MyClass()"
   ]
  },
  {
   "cell_type": "code",
   "execution_count": null,
   "id": "dc8c7e37-008d-45cf-a34d-ba1ce03ea6d1",
   "metadata": {},
   "outputs": [],
   "source": [
    "m.greet()"
   ]
  },
  {
   "cell_type": "code",
   "execution_count": null,
   "id": "991dc958-1e9e-46d6-aa34-1bd2b551b71a",
   "metadata": {},
   "outputs": [],
   "source": [
    "dir(m)"
   ]
  },
  {
   "cell_type": "markdown",
   "id": "ac3187bb-c8e0-4b4f-8fae-a8946bc3dce8",
   "metadata": {},
   "source": [
    "##### What is __new__()?\n",
    "- Special method -static method\n",
    "- Creates a new instance of a class\n",
    "- Gets called before the __init__\n",
    "- Hence it can be used to customize the class creation itself\n",
    "- Usually used when you want to control how classes are created\n",
    "- Sometime you may want to inject some attributes, methods and validation logic in to the class"
   ]
  },
  {
   "cell_type": "code",
   "execution_count": null,
   "id": "47fdfadd-6f32-403b-ae7f-1f3dc69cb59c",
   "metadata": {},
   "outputs": [],
   "source": [
    "class MyClass:\n",
    "\n",
    "    def __new__(cls):\n",
    "        print(\"Creating the class...\")\n",
    "        instance = super().__new__(cls)\n",
    "        return instance\n",
    "\n",
    "    def __init__(self):\n",
    "        print(\"Initialization starts...\")"
   ]
  },
  {
   "cell_type": "code",
   "execution_count": null,
   "id": "58a3336a-74d0-4e5a-9a9c-e20bc4bac35f",
   "metadata": {},
   "outputs": [],
   "source": [
    "m = MyClass()"
   ]
  },
  {
   "cell_type": "markdown",
   "id": "5c7d813d-fe96-4199-836e-a502d2a84a05",
   "metadata": {},
   "source": [
    "### Use Case"
   ]
  },
  {
   "cell_type": "markdown",
   "id": "9e83b30d-ed20-46a6-ad0e-d9fb274d08cb",
   "metadata": {},
   "source": [
    "Let's say we want to make sure that the classes implement the required_attrs and it should be in the form of a list. In this case, we can create a metaclass that makes sure of this"
   ]
  },
  {
   "cell_type": "code",
   "execution_count": null,
   "id": "b3a89965-7785-4ba1-af25-4ae5a14c74ff",
   "metadata": {},
   "outputs": [],
   "source": [
    "class ValidateAttrs(type):\n",
    "    \n",
    "    def __new__(cls, name, bases, dct):\n",
    "        if 'required_attrs' not in dct:\n",
    "            raise TypeError(f\"Class {name} should implement required_attrs\")\n",
    "        if not isinstance(dct['required_attrs'], list):\n",
    "            raise TypeError(f\"required_attrs in Class {name} should be of type list\")\n",
    "        return super().__new__(cls, name, bases, dct)"
   ]
  },
  {
   "cell_type": "code",
   "execution_count": null,
   "id": "d2ffce61-5cf4-4663-bfa7-48b9d75dc228",
   "metadata": {},
   "outputs": [],
   "source": [
    "# Implementing without required_attrs: it will not even allow your to create a class\n",
    "class A(metaclass=ValidateAttrs):\n",
    "\n",
    "    def __init__(self):\n",
    "        print(\"Class created\")"
   ]
  },
  {
   "cell_type": "code",
   "execution_count": null,
   "id": "c419773d-e419-4337-8ccc-cfe6015aa615",
   "metadata": {},
   "outputs": [],
   "source": [
    "# With required_attrs\n",
    "class A(metaclass=ValidateAttrs):\n",
    "\n",
    "    required_attrs = [\"name\", \"email\"]\n",
    "\n",
    "    def __init__(self):\n",
    "        print(\"Class created\")"
   ]
  },
  {
   "cell_type": "code",
   "execution_count": null,
   "id": "0a53a7aa-8d40-4004-b54c-4e35475653a9",
   "metadata": {},
   "outputs": [],
   "source": [
    "class Person(metaclass=ValidateAttrs):\n",
    "\n",
    "    required_attrs = ['name', 'email']\n",
    "\n",
    "    def __init__(self, **kargs):\n",
    "\n",
    "        missing = [attr for attr in Person.required_attrs if attr not in kargs]\n",
    "        if missing:\n",
    "            raise ValueError(f\"Missing attributes: {missing}\")\n",
    "\n",
    "        for key, value in dict(kargs).items():\n",
    "            setattr(self, key, value)"
   ]
  },
  {
   "cell_type": "code",
   "execution_count": null,
   "id": "025657ea-152a-4413-9369-030323a9a26b",
   "metadata": {},
   "outputs": [],
   "source": [
    "p = Person(name='Anil')"
   ]
  },
  {
   "cell_type": "code",
   "execution_count": null,
   "id": "73761d4e-14ad-4c19-a615-3b9de4d582d0",
   "metadata": {},
   "outputs": [],
   "source": [
    "p = Person(name=\"Anil\", email=\"anil@ust.com\")"
   ]
  },
  {
   "cell_type": "markdown",
   "id": "89d0c7f1-ecb9-4e34-ae31-8a2567641c32",
   "metadata": {},
   "source": [
    "##### The locals() Functions"
   ]
  },
  {
   "cell_type": "code",
   "execution_count": null,
   "id": "a7d7e6e4-d9be-4a54-a516-ad1050f51b35",
   "metadata": {},
   "outputs": [],
   "source": [
    "class Person(metaclass=ValidateAttrs):\n",
    "\n",
    "    required_attrs = ['name', 'email']\n",
    "\n",
    "    def __init__(self, **kargs):\n",
    "\n",
    "        print('LOCALS: ', locals())\n",
    "        \n",
    "        missing = [attr for attr in Person.required_attrs if attr not in kargs]\n",
    "        if missing:\n",
    "            raise ValueError(f\"Missing attributes: {missing}\")\n",
    "\n",
    "        for key, value in dict(kargs).items():\n",
    "            setattr(self, key, value)"
   ]
  },
  {
   "cell_type": "code",
   "execution_count": null,
   "id": "24a11afa-a81a-4042-bdaf-15480b299d02",
   "metadata": {},
   "outputs": [],
   "source": [
    "p = Person(name=\"Anil\", email=\"anil@ust.com\")"
   ]
  },
  {
   "cell_type": "markdown",
   "id": "566f004b-6211-46d4-b62b-640b99ad99ca",
   "metadata": {},
   "source": [
    "### Use Case"
   ]
  },
  {
   "cell_type": "markdown",
   "id": "ec613fe8-5216-4482-9f67-bb6e8db2bda0",
   "metadata": {},
   "source": [
    "Create a metaclass called EnforceFieldTypes that ensures any class using it must define a dictionary called field_types. This dictionary maps attribute names to their expected types (e.g., {\"name\": str, \"age\": int}).\n",
    "\n",
    "The metaclass should inject a custom __init__ method into the class that:\n",
    "\n",
    "    Accepts keyword arguments for all fields in field_types.\n",
    "    Validates that each provided argument matches the expected type.\n",
    "    Raises a TypeError if a field is missing or if the value type is incorrect.\n",
    "\n",
    "Use this metaclass to implement a Student class."
   ]
  },
  {
   "cell_type": "code",
   "execution_count": null,
   "id": "18af8fa0-df79-4f68-b2c2-b30e9d386b67",
   "metadata": {},
   "outputs": [],
   "source": [
    "# Meta Class\n",
    "class EnforceFieldTypes(type):\n",
    "\n",
    "    def __new__(cls, name, bases, dct):\n",
    "\n",
    "        # Extract field_types\n",
    "        field_types = dct.get('field_types') # dct['field_types']\n",
    "         \n",
    "        # Validate the field_types\n",
    "        if not isinstance(field_types, dict):\n",
    "            raise TypeError(f\"Class '{name}' must define 'field_types' dictionary\")\n",
    "\n",
    "        # We will also enforce __init__ to be defined in the class\n",
    "        if '__init__' not in dct:\n",
    "            raise TypeError(f\"Class '{name}' must define '__init__' function\")\n",
    "\n",
    "        return super().__new__(cls, name, bases, dct)"
   ]
  },
  {
   "cell_type": "code",
   "execution_count": null,
   "id": "86521bc5-c0da-4677-a5cd-bceed2bcd9a6",
   "metadata": {},
   "outputs": [],
   "source": [
    "class A(metaclass=EnforceFieldTypes):\n",
    "\n",
    "    def print(self):\n",
    "        print(\"This is a class\")"
   ]
  },
  {
   "cell_type": "code",
   "execution_count": null,
   "id": "feee553f-ba0a-4744-879d-26bacc3d0148",
   "metadata": {},
   "outputs": [],
   "source": [
    "# Let's add the field_types\n",
    "class A(metaclass=EnforceFieldTypes):\n",
    "\n",
    "    field_types = {'name':str, 'age':int}\n",
    "\n",
    "    def print(self):\n",
    "        print(\"This is a class\")"
   ]
  },
  {
   "cell_type": "code",
   "execution_count": null,
   "id": "8145d6ed-055f-4663-88c4-bd35214be7dd",
   "metadata": {},
   "outputs": [],
   "source": [
    "# Let's add the __init__()\n",
    "class A(metaclass=EnforceFieldTypes):\n",
    "\n",
    "    field_types = {'name':str, 'age':int}\n",
    "\n",
    "    def __init__(self):\n",
    "        self.name = \"Anil\"\n",
    "\n",
    "    def print(self):\n",
    "        print(\"This is a class\")"
   ]
  },
  {
   "cell_type": "markdown",
   "id": "a4deb257-7e09-400c-9b0b-1ef58a553a24",
   "metadata": {},
   "source": [
    "##### Injecting Functions through Metaclass"
   ]
  },
  {
   "cell_type": "code",
   "execution_count": null,
   "id": "53026a68-4783-4c97-bd22-e33f64403026",
   "metadata": {},
   "outputs": [],
   "source": [
    "# Meta Class with __init__ injection\n",
    "class EnforceFieldTypes(type):\n",
    "\n",
    "    def __new__(cls, name, bases, dct):\n",
    "\n",
    "        # Extract field_types\n",
    "        field_types = dct.get('field_types') # dct['field_types']\n",
    "         \n",
    "        # Validate the field_types\n",
    "        if not isinstance(field_types, dict):\n",
    "            raise TypeError(f\"Class '{name}' must define 'field_types' dictionary\")\n",
    "\n",
    "        '''\n",
    "        # We will also enforce __init__ to be defined in the class\n",
    "        # Since you're injecting the code, there is not need to validate\n",
    "        if '__init__' not in dct:\n",
    "            raise TypeError(f\"Class '{name}' must define '__init__' function\")\n",
    "        '''\n",
    "        # code to inject\n",
    "        def __init__(self, **kargs):\n",
    "            for field, expected_type in self.field_types.items():\n",
    "                if field not in kargs:\n",
    "                    raise TypeError(f\"Missing required field: {field}\")\n",
    "                if not isinstance(kargs[field], expected_type):\n",
    "                    raise TypeError(f\"{field} must of type {expected_type}\")\n",
    "                setattr(self, field, kargs[field])\n",
    "\n",
    "        # inject the code\n",
    "        dct['__init__'] = __init__\n",
    "\n",
    "        return super().__new__(cls, name, bases, dct)"
   ]
  },
  {
   "cell_type": "code",
   "execution_count": null,
   "id": "27656446-7a5d-48ed-affb-ab6df7b9c4e1",
   "metadata": {},
   "outputs": [],
   "source": [
    "class Student(metaclass=EnforceFieldTypes):\n",
    "\n",
    "    field_types = {\n",
    "        \"name\"  : str,\n",
    "        \"age\"   : int,\n",
    "        \"gpa\"   : float,\n",
    "        \"major\" : str\n",
    "    }\n",
    "\n",
    "    def get_details(self):\n",
    "        return self.name, self.age, self.gpa, self.major\n",
    "\n",
    "    def is_honors(self):\n",
    "        return self.gpa >= 3.5\n",
    "\n",
    "    def update_gpa(self, new_gpa):\n",
    "        if not isinstance(new_gpa, float):\n",
    "            raise TypeError(\"GPA must be a float\")\n",
    "        elif not (0.0 <= new_gpa <= 4.0):\n",
    "            raise ValueError(\"GPA must be between 0.0 and 4.0\")\n",
    "        self.gpa = new_gpa"
   ]
  },
  {
   "cell_type": "code",
   "execution_count": null,
   "id": "68e88ba0-de24-4525-b4f0-e0d3d6ae5194",
   "metadata": {},
   "outputs": [],
   "source": [
    "s = Student(name='Ram', age=21, gpa=4.0, major='AI')\n",
    "s.get_details()"
   ]
  },
  {
   "cell_type": "code",
   "execution_count": null,
   "id": "857da17a-b1dd-49d3-ad27-7bd4159b6b75",
   "metadata": {},
   "outputs": [],
   "source": []
  }
 ],
 "metadata": {
  "kernelspec": {
   "display_name": "Python 3 (ipykernel)",
   "language": "python",
   "name": "python3"
  },
  "language_info": {
   "codemirror_mode": {
    "name": "ipython",
    "version": 3
   },
   "file_extension": ".py",
   "mimetype": "text/x-python",
   "name": "python",
   "nbconvert_exporter": "python",
   "pygments_lexer": "ipython3",
   "version": "3.12.7"
  }
 },
 "nbformat": 4,
 "nbformat_minor": 5
}
