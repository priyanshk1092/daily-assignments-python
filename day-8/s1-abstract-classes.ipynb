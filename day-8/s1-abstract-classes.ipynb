{
 "cells": [
  {
   "cell_type": "markdown",
   "id": "c8407e12-61d7-4660-9231-b1d963daff5b",
   "metadata": {},
   "source": [
    "### Abstract Classes"
   ]
  },
  {
   "cell_type": "markdown",
   "id": "c1048200-e99e-4ecd-98fa-f2d52be1b5f4",
   "metadata": {},
   "source": [
    "##### Abstract classes are blueprints or prototypes for deriving other classes. It is class of a class"
   ]
  },
  {
   "cell_type": "markdown",
   "id": "bf1035eb-7a5f-4482-a2ec-1d9bace6dc89",
   "metadata": {},
   "source": [
    "They cannot be instantiated directly\n",
    "You can have abstract methods (methods with no implementation)\n",
    "    - will enforce the implementation of the function in the derived class"
   ]
  },
  {
   "cell_type": "markdown",
   "id": "c2132465-1774-4979-a1ef-1aabb01cf124",
   "metadata": {},
   "source": [
    "The abc module - https://docs.python.org/3/library/abc.html \n",
    "    - ABC - Abstract Base Class\n",
    "    - @abstractmethod\n",
    "    - Abstract Property - @property + @abstractmethod\n",
    "    - @staticmethod + @abstractmethod\n",
    "    - @classmethod + @abstractmethod\n",
    "\n",
    "It helps create abstract base classes.\n",
    "Prevents instantiating incomplete classes.\n",
    "Enforces implementation of required methods in derived classes."
   ]
  },
  {
   "cell_type": "markdown",
   "id": "3c283349-283a-45d7-991e-3e1a81790005",
   "metadata": {},
   "source": [
    "### Example"
   ]
  },
  {
   "cell_type": "code",
   "execution_count": null,
   "id": "3ab46e59-404f-4b5b-a1ca-fe281d3aed8b",
   "metadata": {},
   "outputs": [],
   "source": [
    "from abc import ABC, abstractmethod\n",
    "import math"
   ]
  },
  {
   "cell_type": "markdown",
   "id": "8af245d0-d67f-4893-835b-89448e853773",
   "metadata": {},
   "source": [
    "##### Abstract Method"
   ]
  },
  {
   "cell_type": "code",
   "execution_count": null,
   "id": "bdddb6ff-ad68-46c3-9984-e6e957c784ef",
   "metadata": {},
   "outputs": [],
   "source": [
    "class Shape(ABC):\n",
    "\n",
    "    @abstractmethod\n",
    "    def area(self):\n",
    "        pass"
   ]
  },
  {
   "cell_type": "code",
   "execution_count": null,
   "id": "be5043ec-d0ee-433c-9df4-ae7150d731f3",
   "metadata": {},
   "outputs": [],
   "source": [
    "class Circle(Shape):\n",
    "\n",
    "    def __init__(self, radius):\n",
    "        self.radius = radius\n",
    "\n",
    "    def area(self):\n",
    "        return math.pi * (self.radius)**2"
   ]
  },
  {
   "cell_type": "code",
   "execution_count": null,
   "id": "429a79a1-bb7a-4292-8bbc-71b27a483b3f",
   "metadata": {},
   "outputs": [],
   "source": [
    "c = Circle(5)"
   ]
  },
  {
   "cell_type": "code",
   "execution_count": null,
   "id": "119dd740-4074-41c4-a6b0-b4eec5b8d437",
   "metadata": {},
   "outputs": [],
   "source": [
    "c.area()"
   ]
  },
  {
   "cell_type": "code",
   "execution_count": null,
   "id": "fa1ed4b4-b564-45b8-bca3-785c7231998d",
   "metadata": {},
   "outputs": [],
   "source": [
    "class Triangle(Shape):\n",
    "\n",
    "    def __init__(self, a, b, c):\n",
    "        self.a = a\n",
    "        self.b = b\n",
    "        self.c = c\n",
    "\n",
    "    def circumference(self):\n",
    "        return self.a + self.b + self.c"
   ]
  },
  {
   "cell_type": "code",
   "execution_count": null,
   "id": "90dd81fb-5c4a-42d7-94d8-1a9a2f090822",
   "metadata": {},
   "outputs": [],
   "source": [
    "t = Triangle(10, 20, 30)"
   ]
  },
  {
   "cell_type": "markdown",
   "id": "ca7bd945-ac79-4287-b576-8b6cef1b1d56",
   "metadata": {},
   "source": [
    "What is the problem?\n",
    "The Triangle is derived from Shape.\n",
    "Shape has abstractmethod called area\n",
    "Triangle should implement area\n",
    "You are enforced to implement it"
   ]
  },
  {
   "cell_type": "markdown",
   "id": "fdbf2a45-598d-424a-85fd-c9b2bb9a6e8f",
   "metadata": {},
   "source": [
    "##### Abstract Property"
   ]
  },
  {
   "cell_type": "code",
   "execution_count": null,
   "id": "aefea11a-6c70-4031-9447-e42ab5441d5e",
   "metadata": {},
   "outputs": [],
   "source": [
    "class Shape(ABC):\n",
    "\n",
    "    @property\n",
    "    @abstractmethod\n",
    "    def area(self):\n",
    "        pass"
   ]
  },
  {
   "cell_type": "code",
   "execution_count": null,
   "id": "c7dd4bbd-8dcb-4e25-993a-cf6a4477ec73",
   "metadata": {},
   "outputs": [],
   "source": [
    "class Circle(Shape):\n",
    "\n",
    "    def __init__(self, radius):\n",
    "        self.radius = radius\n",
    "\n",
    "    @property\n",
    "    def area(self):\n",
    "        return math.pi * (self.radius)**2"
   ]
  },
  {
   "cell_type": "code",
   "execution_count": null,
   "id": "f8c2b79a-059a-452b-a361-e4e5e4d19e0c",
   "metadata": {},
   "outputs": [],
   "source": [
    "c = Circle(5)\n",
    "c.area"
   ]
  },
  {
   "cell_type": "markdown",
   "id": "1041bbb3-7d97-41e6-9936-a7e4ad73dd5b",
   "metadata": {},
   "source": [
    "##### Abstract Static Method"
   ]
  },
  {
   "cell_type": "code",
   "execution_count": null,
   "id": "65fad380-e0dc-4a44-9f31-eaadc9d98ae5",
   "metadata": {},
   "outputs": [],
   "source": [
    "from abc import ABC, abstractmethod\n",
    "\n",
    "class Utility(ABC):\n",
    "\n",
    "    @staticmethod\n",
    "    @abstractmethod\n",
    "    def add(x, y):\n",
    "        pass\n",
    "\n",
    "class MathTool(Utility):\n",
    "\n",
    "    @staticmethod\n",
    "    def add(x, y):\n",
    "        return x + y\n",
    "\n",
    "print(MathTool.add(5, 3))"
   ]
  },
  {
   "cell_type": "markdown",
   "id": "e83e2193-45c5-4ad8-9310-e9bb0f2d5d9d",
   "metadata": {},
   "source": [
    "##### Abstract Class Method"
   ]
  },
  {
   "cell_type": "code",
   "execution_count": null,
   "id": "51253cca-8cbe-42e7-9a86-b5512c44e583",
   "metadata": {},
   "outputs": [],
   "source": [
    "from abc import ABC, abstractmethod\n",
    "\n",
    "class Logger(ABC):\n",
    "    @classmethod\n",
    "    @abstractmethod\n",
    "    def log(cls, message):\n",
    "        pass\n",
    "\n",
    "class FileLogger(Logger):\n",
    "    @classmethod\n",
    "    def log(cls, message):\n",
    "        print(f\"[File]: {message}\")\n",
    "\n",
    "FileLogger.log(\"Write this to log file.\")"
   ]
  },
  {
   "cell_type": "code",
   "execution_count": null,
   "id": "65e945cb-3565-47b4-a25a-b8a1a210278e",
   "metadata": {},
   "outputs": [],
   "source": []
  }
 ],
 "metadata": {
  "kernelspec": {
   "display_name": "Python 3 (ipykernel)",
   "language": "python",
   "name": "python3"
  },
  "language_info": {
   "codemirror_mode": {
    "name": "ipython",
    "version": 3
   },
   "file_extension": ".py",
   "mimetype": "text/x-python",
   "name": "python",
   "nbconvert_exporter": "python",
   "pygments_lexer": "ipython3",
   "version": "3.12.7"
  }
 },
 "nbformat": 4,
 "nbformat_minor": 5
}
