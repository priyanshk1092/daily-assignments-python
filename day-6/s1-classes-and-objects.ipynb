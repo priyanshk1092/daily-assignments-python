{
 "cells": [
  {
   "cell_type": "markdown",
   "id": "e1992dfa-ee0d-48a3-a6d2-54ccb370671f",
   "metadata": {},
   "source": [
    "### Classes and Objects"
   ]
  },
  {
   "cell_type": "code",
   "execution_count": 10,
   "id": "9fc12e69-2093-4c40-be17-721d510502f0",
   "metadata": {},
   "outputs": [],
   "source": [
    "class Student:\n",
    "\n",
    "    # Attributes\n",
    "\n",
    "    # Class Variable\n",
    "    nstudents = 0\n",
    "\n",
    "    # Instance Attributes, Constructor\n",
    "    def __init__(self, a, b, c):\n",
    "        self.name = a\n",
    "        self.age  = b\n",
    "        self.grade = c\n",
    "\n",
    "\n",
    "    # Methods/functions/procedures\n",
    "    def printInfo(self, greet):\n",
    "        print(\"Self : \", self)\n",
    "        print(\"Class variable: \", Student.nstudents)\n",
    "        print(f\"{greet}, {self.name} --> {self.age} --> {self.grade}\")\n",
    "    "
   ]
  },
  {
   "cell_type": "code",
   "execution_count": 18,
   "id": "c7ff9ba9-91e3-471a-86be-ef002b615827",
   "metadata": {},
   "outputs": [],
   "source": [
    "s1 = Student(\"Anil\", 12, 9)"
   ]
  },
  {
   "cell_type": "code",
   "execution_count": 20,
   "id": "5dd394ca-dbc7-4f8a-956a-5dd9810e85e9",
   "metadata": {},
   "outputs": [
    {
     "data": {
      "text/plain": [
       "<__main__.Student at 0x22385effd70>"
      ]
     },
     "execution_count": 20,
     "metadata": {},
     "output_type": "execute_result"
    }
   ],
   "source": [
    "s1"
   ]
  },
  {
   "cell_type": "code",
   "execution_count": 22,
   "id": "3f3e3b29-1390-4ea7-b17a-2996c0521e11",
   "metadata": {},
   "outputs": [
    {
     "name": "stdout",
     "output_type": "stream",
     "text": [
      "Self :  <__main__.Student object at 0x0000022385EFFD70>\n",
      "Class variable:  0\n",
      "Hi, Anil --> 12 --> 9\n"
     ]
    }
   ],
   "source": [
    "s1.printInfo(\"Hi\")"
   ]
  },
  {
   "cell_type": "code",
   "execution_count": 24,
   "id": "658c93bd-9c32-4cb6-93db-13077364d9de",
   "metadata": {},
   "outputs": [],
   "source": [
    "s2 = Student(\"Sunil\", 12, 9)"
   ]
  },
  {
   "cell_type": "code",
   "execution_count": 26,
   "id": "8b9f87a4-507f-4f6b-9ced-fec78f065bad",
   "metadata": {},
   "outputs": [
    {
     "data": {
      "text/plain": [
       "<__main__.Student at 0x22385afcfb0>"
      ]
     },
     "execution_count": 26,
     "metadata": {},
     "output_type": "execute_result"
    }
   ],
   "source": [
    "s2"
   ]
  },
  {
   "cell_type": "code",
   "execution_count": 28,
   "id": "3837fe58-147a-4424-8218-2981297b654d",
   "metadata": {},
   "outputs": [
    {
     "name": "stdout",
     "output_type": "stream",
     "text": [
      "Self :  <__main__.Student object at 0x0000022385AFCFB0>\n",
      "Class variable:  0\n",
      "Hello, Sunil --> 12 --> 9\n"
     ]
    }
   ],
   "source": [
    "s2.printInfo(\"Hello\")"
   ]
  },
  {
   "cell_type": "markdown",
   "id": "8cb44028-1b1f-4f1a-9efc-df6da03b3763",
   "metadata": {},
   "source": [
    "### Exercise"
   ]
  },
  {
   "cell_type": "markdown",
   "id": "1aafb574-e0b8-429d-8d24-22dcb723cf9d",
   "metadata": {},
   "source": [
    "Create a employee class with the following features:\n",
    "name, age, company, gross_salary, tax_rate, net_salary\n",
    "Implement methods to: print information, create an object and use it to print the information\n",
    "Upgrade: calculate net_salary based on tax rate, set the gross salary, set the tax rate"
   ]
  },
  {
   "cell_type": "code",
   "execution_count": null,
   "id": "cae475f8-c508-49fa-be4a-3f7d419e0836",
   "metadata": {},
   "outputs": [],
   "source": []
  },
  {
   "cell_type": "markdown",
   "id": "35cc7cfd-350c-43ac-a82a-503fd598d268",
   "metadata": {},
   "source": [
    "### Detailed Student Class"
   ]
  },
  {
   "cell_type": "code",
   "execution_count": 41,
   "id": "be49c442-0436-47bc-a1f9-e63448bde315",
   "metadata": {},
   "outputs": [],
   "source": [
    "class Student:\n",
    "\n",
    "    nstudents = 0\n",
    "\n",
    "    # attributes\n",
    "    def __init__(self, name, age, grade):\n",
    "        self.name = name\n",
    "        self.age  = age\n",
    "        self.grade = grade\n",
    "        self.marks = {}\n",
    "        Student.nstudents += 1\n",
    "\n",
    "    # functions\n",
    "    def set_marks(self, subj, marks):\n",
    "        if subj in ['phy', 'chem', 'bio', 'math']:\n",
    "            if isinstance(marks, float):\n",
    "                self.marks[subj] = marks\n",
    "        else:\n",
    "            return \"Invalid Subject or Marks\"\n",
    "\n",
    "    def average(self):\n",
    "        self.average = sum(self.marks.values()) / len(self.marks.values())\n",
    "        return self.average\n",
    "\n",
    "    def print_report(self):\n",
    "        print(f\"\\nSELF -> {self}\")\n",
    "        print(\"---------------------------------------------\")\n",
    "        print(f\"NAME         | {self.name}\")\n",
    "        print(f\"AGE          | {self.age}\")\n",
    "        print(f\"GRADE        | {self.grade}\")\n",
    "        print(\"---------------------------------------------\")\n",
    "        for k, v in self.marks.items():\n",
    "            print(str(k).rjust(10), \"|\", str(v).ljust(5))\n",
    "        print(\"---------------------------------------------\")\n",
    "        print(f\"AVERAGE      | {self.average}\")\n",
    "        print(\"---------------------------------------------\")"
   ]
  },
  {
   "cell_type": "code",
   "execution_count": 43,
   "id": "6eb7a557-d127-4514-961d-df96a36ec8b0",
   "metadata": {},
   "outputs": [],
   "source": [
    "s1 = Student(\"Anil\", 12, 7)\n",
    "s2 = Student(\"Sunil\", 12, 7)"
   ]
  },
  {
   "cell_type": "code",
   "execution_count": 53,
   "id": "673cdf43-9dd3-4af8-9f65-85b18c150504",
   "metadata": {},
   "outputs": [],
   "source": [
    "s1.set_marks('phy', 100.0)\n",
    "s1.set_marks('chem', 100.0)\n",
    "s1.set_marks('math', 100.0)\n",
    "s1.set_marks('bio', 100.0)"
   ]
  },
  {
   "cell_type": "code",
   "execution_count": 55,
   "id": "28255c04-9f4a-4e73-a696-7026f5210a22",
   "metadata": {},
   "outputs": [],
   "source": [
    "s2.set_marks('phy', 90.0)\n",
    "s2.set_marks('chem', 80.0)\n",
    "s2.set_marks('math', 93.0)\n",
    "s2.set_marks('bio', 67.0)"
   ]
  },
  {
   "cell_type": "code",
   "execution_count": 57,
   "id": "ad820000-df8b-45d4-9179-7943056fbee6",
   "metadata": {},
   "outputs": [
    {
     "data": {
      "text/plain": [
       "100.0"
      ]
     },
     "execution_count": 57,
     "metadata": {},
     "output_type": "execute_result"
    }
   ],
   "source": [
    "s1.average()"
   ]
  },
  {
   "cell_type": "code",
   "execution_count": 59,
   "id": "11615bcf-93d6-44fb-a77d-09208dfadd65",
   "metadata": {},
   "outputs": [
    {
     "name": "stdout",
     "output_type": "stream",
     "text": [
      "\n",
      "SELF -> <__main__.Student object at 0x0000022384990AA0>\n",
      "---------------------------------------------\n",
      "NAME         | Anil\n",
      "AGE          | 12\n",
      "GRADE        | 7\n",
      "---------------------------------------------\n",
      "       phy | 100.0\n",
      "      chem | 100.0\n",
      "      math | 100.0\n",
      "       bio | 100.0\n",
      "---------------------------------------------\n",
      "AVERAGE      | 100.0\n",
      "---------------------------------------------\n"
     ]
    }
   ],
   "source": [
    "s1.print_report()"
   ]
  },
  {
   "cell_type": "code",
   "execution_count": 61,
   "id": "e891f9f7-c0fe-405c-befd-fcee5185db39",
   "metadata": {},
   "outputs": [
    {
     "name": "stdout",
     "output_type": "stream",
     "text": [
      "\n",
      "SELF -> <__main__.Student object at 0x0000022385AFE420>\n",
      "---------------------------------------------\n",
      "NAME         | Sunil\n",
      "AGE          | 12\n",
      "GRADE        | 7\n",
      "---------------------------------------------\n",
      "       phy | 90.0 \n",
      "      chem | 80.0 \n",
      "      math | 93.0 \n",
      "       bio | 67.0 \n",
      "---------------------------------------------\n",
      "AVERAGE      | <bound method Student.average of <__main__.Student object at 0x0000022385AFE420>>\n",
      "---------------------------------------------\n"
     ]
    }
   ],
   "source": [
    "s2.print_report()"
   ]
  },
  {
   "cell_type": "code",
   "execution_count": 63,
   "id": "dc84c432-5278-4769-a35f-a248865ecfc4",
   "metadata": {},
   "outputs": [
    {
     "data": {
      "text/plain": [
       "(2, 2, 2)"
      ]
     },
     "execution_count": 63,
     "metadata": {},
     "output_type": "execute_result"
    }
   ],
   "source": [
    "s1.nstudents, s2.nstudents, Student.nstudents"
   ]
  },
  {
   "cell_type": "markdown",
   "id": "fddcfd38-6ede-4db2-abb0-315c24e87fa5",
   "metadata": {},
   "source": [
    "### Detailed Employee Class"
   ]
  },
  {
   "cell_type": "markdown",
   "id": "ff487cfc-2894-415a-9bf9-7780d7412b18",
   "metadata": {},
   "source": [
    "##### Core Developer"
   ]
  },
  {
   "cell_type": "code",
   "execution_count": 72,
   "id": "ab2cefc1-b510-425c-bb84-df3d4555d7df",
   "metadata": {},
   "outputs": [],
   "source": [
    "class Employee:\n",
    "\n",
    "    # class variable\n",
    "    nEmployees = 0\n",
    "\n",
    "    # attributes\n",
    "    def __init__(self, name, age, company, salary):\n",
    "        self.name = name\n",
    "        self.age  = age\n",
    "        self.company = company\n",
    "        self.salary = salary  # 1000000 INR\n",
    "        self.taxrate = 0\n",
    "        self.bonus = 0\n",
    "        self.net_salary = self.salary \n",
    "        Employee.nEmployees += 1\n",
    "\n",
    "    # methods\n",
    "\n",
    "    def set_taxrate(self, tr):\n",
    "        self.taxrate = tr\n",
    "        self.update_net_salary()\n",
    "        return\n",
    "\n",
    "    def set_bonus(self, bonus_pct):\n",
    "        try:\n",
    "            self.bonus = bonus_pct\n",
    "            temp = float(self.net_salary.split()[0])\n",
    "            temp = temp + (temp * self.bonus/100)\n",
    "            self.net_salary = ' '.join([str(temp), 'INR'])\n",
    "            return\n",
    "        except:\n",
    "            return \"Incompatible operation\"\n",
    "\n",
    "    def update_net_salary(self):\n",
    "        try:\n",
    "            temp = float(self.salary.split()[0])\n",
    "            temp = temp - (temp * self.taxrate/100)\n",
    "            print(temp)\n",
    "            self.net_salary = ' '.join([str(temp), 'INR'])\n",
    "            return\n",
    "        except:\n",
    "            return \"Incompatible input\"\n",
    "\n",
    "    def print(self):\n",
    "        print(\"\\n\")\n",
    "        print(\"NAME\".ljust(20), ' -> ', self.name)\n",
    "        print(\"AGE\".ljust(20), ' -> ', self.age)\n",
    "        print(\"COMPANY\".ljust(20), ' -> ', self.company)\n",
    "        print(\"-\"*80)\n",
    "        print(\"GROSS SALARY\".ljust(20), ' = ', self.salary)\n",
    "        print(\"TAX RATE\".ljust(20), ' = ', self.taxrate)\n",
    "        print(\"BONUS\".ljust(20), ' = ', self.bonus, ' pct')\n",
    "        print(\"-\"*80)\n",
    "        print(\"NET SALARY\".ljust(20), ' = ', self.net_salary)"
   ]
  },
  {
   "cell_type": "markdown",
   "id": "a3638ac9-7342-4783-8f0d-a580191a8f45",
   "metadata": {},
   "source": [
    "##### Application Developer"
   ]
  },
  {
   "cell_type": "code",
   "execution_count": 75,
   "id": "c0a782ab-de4f-4e58-9039-6a792a46f9aa",
   "metadata": {},
   "outputs": [],
   "source": [
    "e = Employee(\"Anil\", 35, \"UST Global\", \"1500000 INR\")"
   ]
  },
  {
   "cell_type": "code",
   "execution_count": 77,
   "id": "25751a36-436a-4740-8fdc-e7079c69796b",
   "metadata": {},
   "outputs": [
    {
     "name": "stdout",
     "output_type": "stream",
     "text": [
      "\n",
      "\n",
      "NAME                  ->  Anil\n",
      "AGE                   ->  35\n",
      "COMPANY               ->  UST Global\n",
      "--------------------------------------------------------------------------------\n",
      "GROSS SALARY          =  1500000 INR\n",
      "TAX RATE              =  0\n",
      "BONUS                 =  0  pct\n",
      "--------------------------------------------------------------------------------\n",
      "NET SALARY            =  1500000 INR\n"
     ]
    }
   ],
   "source": [
    "e.print()"
   ]
  },
  {
   "cell_type": "code",
   "execution_count": 79,
   "id": "9caed600-997d-4df3-aec3-28497e116854",
   "metadata": {},
   "outputs": [
    {
     "name": "stdout",
     "output_type": "stream",
     "text": [
      "1350000.0\n",
      "\n",
      "\n",
      "NAME                  ->  Anil\n",
      "AGE                   ->  35\n",
      "COMPANY               ->  UST Global\n",
      "--------------------------------------------------------------------------------\n",
      "GROSS SALARY          =  1500000 INR\n",
      "TAX RATE              =  10\n",
      "BONUS                 =  0  pct\n",
      "--------------------------------------------------------------------------------\n",
      "NET SALARY            =  1350000.0 INR\n"
     ]
    }
   ],
   "source": [
    "e.set_taxrate(10)\n",
    "e.print()"
   ]
  },
  {
   "cell_type": "code",
   "execution_count": 81,
   "id": "ff44b1f0-dcec-4130-80f4-8d5c8915329c",
   "metadata": {},
   "outputs": [
    {
     "name": "stdout",
     "output_type": "stream",
     "text": [
      "\n",
      "\n",
      "NAME                  ->  Anil\n",
      "AGE                   ->  35\n",
      "COMPANY               ->  UST Global\n",
      "--------------------------------------------------------------------------------\n",
      "GROSS SALARY          =  1500000 INR\n",
      "TAX RATE              =  10\n",
      "BONUS                 =  5  pct\n",
      "--------------------------------------------------------------------------------\n",
      "NET SALARY            =  1417500.0 INR\n"
     ]
    }
   ],
   "source": [
    "e.set_bonus(5)\n",
    "e.print()"
   ]
  },
  {
   "cell_type": "code",
   "execution_count": null,
   "id": "bcd14c59-4a9a-4c25-81a6-d6e55573a679",
   "metadata": {},
   "outputs": [],
   "source": []
  }
 ],
 "metadata": {
  "kernelspec": {
   "display_name": "Python 3 (ipykernel)",
   "language": "python",
   "name": "python3"
  },
  "language_info": {
   "codemirror_mode": {
    "name": "ipython",
    "version": 3
   },
   "file_extension": ".py",
   "mimetype": "text/x-python",
   "name": "python",
   "nbconvert_exporter": "python",
   "pygments_lexer": "ipython3",
   "version": "3.12.7"
  }
 },
 "nbformat": 4,
 "nbformat_minor": 5
}
