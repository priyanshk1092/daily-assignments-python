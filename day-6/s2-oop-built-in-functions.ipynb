{
 "cells": [
  {
   "cell_type": "markdown",
   "id": "83f824fe-b771-41e1-ab0e-caf3651270c5",
   "metadata": {},
   "source": [
    "Class with Methods and Properties: Rectangle\n",
    "------------------------------------------------------------------\n",
    "Task: Design a Rectangle class:\n",
    "\n",
    "Attributes: length, width\n",
    "\n",
    "Methods:\n",
    "\n",
    "area(): Returns area.\n",
    "\n",
    "perimeter(): Returns perimeter.\n",
    "\n",
    "is_square(): Returns True if it’s a square, otherwise False.\n",
    "\n",
    "✅ Enhance: Use logic to prevent setting negative values for length and width."
   ]
  },
  {
   "cell_type": "code",
   "execution_count": null,
   "id": "8c2bb98d-a1a3-4001-97a8-1b2954b7dff1",
   "metadata": {},
   "outputs": [],
   "source": []
  },
  {
   "cell_type": "code",
   "execution_count": 2,
   "id": "8412f4b9-3009-4ac4-b9bd-c86cba8a2d1a",
   "metadata": {},
   "outputs": [],
   "source": [
    "class Rectangle:\n",
    "\n",
    "    def __init__(self, length, breadth):\n",
    "        self.length = length if length > 0 else 0\n",
    "        self.breadth = breadth if breadth > 0 else 0\n",
    "\n",
    "    def area(self):\n",
    "        return self.length * self.breadth\n",
    "\n",
    "    def perimeter(self):\n",
    "        return 2*(self.length + self.breadth)\n",
    "\n",
    "    def is_square(self):\n",
    "        return self.length == self.breadth"
   ]
  },
  {
   "cell_type": "code",
   "execution_count": 4,
   "id": "9840ce2e-02cd-4f35-945e-8a3cc691123a",
   "metadata": {},
   "outputs": [],
   "source": [
    "r = Rectangle(10, 10)"
   ]
  },
  {
   "cell_type": "code",
   "execution_count": 6,
   "id": "1869389e-fbe5-4943-a0d7-34319bb06661",
   "metadata": {},
   "outputs": [
    {
     "data": {
      "text/plain": [
       "100"
      ]
     },
     "execution_count": 6,
     "metadata": {},
     "output_type": "execute_result"
    }
   ],
   "source": [
    "r.area()"
   ]
  },
  {
   "cell_type": "code",
   "execution_count": 8,
   "id": "744b0cdf-de49-42ac-9c15-1b461b485a3a",
   "metadata": {},
   "outputs": [
    {
     "data": {
      "text/plain": [
       "40"
      ]
     },
     "execution_count": 8,
     "metadata": {},
     "output_type": "execute_result"
    }
   ],
   "source": [
    "r.perimeter()"
   ]
  },
  {
   "cell_type": "code",
   "execution_count": 10,
   "id": "889ae9cc-5c7e-4ea6-8f85-cd328b170c99",
   "metadata": {},
   "outputs": [
    {
     "data": {
      "text/plain": [
       "True"
      ]
     },
     "execution_count": 10,
     "metadata": {},
     "output_type": "execute_result"
    }
   ],
   "source": [
    "r.is_square()"
   ]
  },
  {
   "cell_type": "markdown",
   "id": "7f281774-be97-4ead-b7c7-46ffac5a6fcb",
   "metadata": {},
   "source": [
    "### Built-in Functions"
   ]
  },
  {
   "cell_type": "code",
   "execution_count": 13,
   "id": "46d28b6e-7971-41dc-9a7a-1de1f1d66a8a",
   "metadata": {},
   "outputs": [
    {
     "data": {
      "text/plain": [
       "10"
      ]
     },
     "execution_count": 13,
     "metadata": {},
     "output_type": "execute_result"
    }
   ],
   "source": [
    "getattr(r, 'length')"
   ]
  },
  {
   "cell_type": "code",
   "execution_count": 19,
   "id": "489962eb-c808-4002-b144-374fea88b9ac",
   "metadata": {},
   "outputs": [
    {
     "data": {
      "text/plain": [
       "(False, True)"
      ]
     },
     "execution_count": 19,
     "metadata": {},
     "output_type": "execute_result"
    }
   ],
   "source": [
    "hasattr(r, 'circumference'), hasattr(r, 'area')"
   ]
  },
  {
   "cell_type": "code",
   "execution_count": 21,
   "id": "8be3895d-c5dc-41ab-84cb-4b2ac0be1a30",
   "metadata": {},
   "outputs": [],
   "source": [
    "setattr(r, 'xyz', 'True')"
   ]
  },
  {
   "cell_type": "code",
   "execution_count": 23,
   "id": "881c0701-005f-40d2-ac97-09ea2c419cb4",
   "metadata": {},
   "outputs": [
    {
     "data": {
      "text/plain": [
       "'True'"
      ]
     },
     "execution_count": 23,
     "metadata": {},
     "output_type": "execute_result"
    }
   ],
   "source": [
    "getattr(r, 'xyz')"
   ]
  },
  {
   "cell_type": "code",
   "execution_count": 25,
   "id": "de97c003-cbdc-467f-91bf-9abfb2d759fe",
   "metadata": {},
   "outputs": [],
   "source": [
    "delattr(r, 'xyz')"
   ]
  },
  {
   "cell_type": "code",
   "execution_count": 27,
   "id": "11edaf5d-1eeb-4d73-80c5-bd768969107c",
   "metadata": {},
   "outputs": [
    {
     "ename": "AttributeError",
     "evalue": "'Rectangle' object has no attribute 'xyz'",
     "output_type": "error",
     "traceback": [
      "\u001b[1;31m---------------------------------------------------------------------------\u001b[0m",
      "\u001b[1;31mAttributeError\u001b[0m                            Traceback (most recent call last)",
      "Cell \u001b[1;32mIn[27], line 1\u001b[0m\n\u001b[1;32m----> 1\u001b[0m \u001b[38;5;28mgetattr\u001b[39m(r, \u001b[38;5;124m'\u001b[39m\u001b[38;5;124mxyz\u001b[39m\u001b[38;5;124m'\u001b[39m)\n",
      "\u001b[1;31mAttributeError\u001b[0m: 'Rectangle' object has no attribute 'xyz'"
     ]
    }
   ],
   "source": [
    "getattr(r, 'xyz')"
   ]
  },
  {
   "cell_type": "code",
   "execution_count": 29,
   "id": "1578cffc-6cfd-4ae1-87e4-d505db3f4797",
   "metadata": {},
   "outputs": [
    {
     "data": {
      "text/plain": [
       "True"
      ]
     },
     "execution_count": 29,
     "metadata": {},
     "output_type": "execute_result"
    }
   ],
   "source": [
    "isinstance(r, Rectangle)"
   ]
  },
  {
   "cell_type": "code",
   "execution_count": 33,
   "id": "a4bf6bb5-40ad-4b3d-bd62-7cb5ea8983ef",
   "metadata": {},
   "outputs": [
    {
     "data": {
      "text/plain": [
       "True"
      ]
     },
     "execution_count": 33,
     "metadata": {},
     "output_type": "execute_result"
    }
   ],
   "source": [
    "type(r) == Rectangle"
   ]
  },
  {
   "cell_type": "code",
   "execution_count": null,
   "id": "72361b82-af18-4947-a09f-b6453a4e7a22",
   "metadata": {},
   "outputs": [],
   "source": []
  }
 ],
 "metadata": {
  "kernelspec": {
   "display_name": "Python 3 (ipykernel)",
   "language": "python",
   "name": "python3"
  },
  "language_info": {
   "codemirror_mode": {
    "name": "ipython",
    "version": 3
   },
   "file_extension": ".py",
   "mimetype": "text/x-python",
   "name": "python",
   "nbconvert_exporter": "python",
   "pygments_lexer": "ipython3",
   "version": "3.12.7"
  }
 },
 "nbformat": 4,
 "nbformat_minor": 5
}
