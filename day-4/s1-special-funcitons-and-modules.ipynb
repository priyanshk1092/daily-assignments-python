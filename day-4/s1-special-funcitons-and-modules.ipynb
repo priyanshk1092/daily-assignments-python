{
 "cells": [
  {
   "cell_type": "markdown",
   "id": "df29c6b9-909a-4264-95fc-8e2fd2172ad6",
   "metadata": {},
   "source": [
    "### Lambda Functions"
   ]
  },
  {
   "cell_type": "markdown",
   "id": "8de6a839-7568-4745-a87b-8bc3354f469e",
   "metadata": {},
   "source": [
    "Syntax -> lambda a:b"
   ]
  },
  {
   "cell_type": "markdown",
   "id": "9f57ae1d-3917-4c2c-bde3-0c24379daed4",
   "metadata": {},
   "source": [
    "##### Anonymous expressions that return a callable function object"
   ]
  },
  {
   "cell_type": "code",
   "execution_count": 4,
   "id": "b94b957d-f762-4f7d-b097-07f2563e3439",
   "metadata": {},
   "outputs": [
    {
     "data": {
      "text/plain": [
       "<function __main__.<lambda>(a)>"
      ]
     },
     "execution_count": 4,
     "metadata": {},
     "output_type": "execute_result"
    }
   ],
   "source": [
    "lambda a:b"
   ]
  },
  {
   "cell_type": "code",
   "execution_count": 6,
   "id": "7fc65e84-77de-4885-ae90-2936698d1a1f",
   "metadata": {},
   "outputs": [],
   "source": [
    "f = lambda x:x**2"
   ]
  },
  {
   "cell_type": "code",
   "execution_count": 8,
   "id": "80c135ff-812a-4899-977e-15c46d084d1c",
   "metadata": {},
   "outputs": [
    {
     "data": {
      "text/plain": [
       "100"
      ]
     },
     "execution_count": 8,
     "metadata": {},
     "output_type": "execute_result"
    }
   ],
   "source": [
    "f(10)"
   ]
  },
  {
   "cell_type": "code",
   "execution_count": 10,
   "id": "4c1b7b8f-405d-433f-9dd0-b723eb9321ee",
   "metadata": {},
   "outputs": [],
   "source": [
    "f1 = lambda a, b:a + b"
   ]
  },
  {
   "cell_type": "code",
   "execution_count": 12,
   "id": "207cc78d-a523-4435-8656-d4a48c028b38",
   "metadata": {},
   "outputs": [
    {
     "data": {
      "text/plain": [
       "30"
      ]
     },
     "execution_count": 12,
     "metadata": {},
     "output_type": "execute_result"
    }
   ],
   "source": [
    "f1(10, 20)"
   ]
  },
  {
   "cell_type": "code",
   "execution_count": 14,
   "id": "6fa0ffd6-967b-4489-b899-cd3ff0cc1af2",
   "metadata": {},
   "outputs": [
    {
     "data": {
      "text/plain": [
       "'redshade'"
      ]
     },
     "execution_count": 14,
     "metadata": {},
     "output_type": "execute_result"
    }
   ],
   "source": [
    "f1(\"red\", \"shade\")"
   ]
  },
  {
   "cell_type": "code",
   "execution_count": 16,
   "id": "838b4455-b8d9-48eb-9db8-21f1875f3801",
   "metadata": {},
   "outputs": [
    {
     "data": {
      "text/plain": [
       "[1, 2, 3, 4, 5, 6]"
      ]
     },
     "execution_count": 16,
     "metadata": {},
     "output_type": "execute_result"
    }
   ],
   "source": [
    "f1([1, 2, 3], [4, 5, 6])"
   ]
  },
  {
   "cell_type": "markdown",
   "id": "51d4815e-df8d-4f0a-b300-de634ce8c15e",
   "metadata": {},
   "source": [
    "### Special Built-in Functions"
   ]
  },
  {
   "cell_type": "markdown",
   "id": "2d1a4625-cd2a-4ff7-95c6-1b35eafdd354",
   "metadata": {},
   "source": [
    "#### map()"
   ]
  },
  {
   "cell_type": "code",
   "execution_count": 20,
   "id": "368a5f1a-0447-4e02-b030-f4964d584e27",
   "metadata": {},
   "outputs": [],
   "source": [
    "T = [12, 34, 56, 78, 100]"
   ]
  },
  {
   "cell_type": "code",
   "execution_count": 22,
   "id": "96e1955e-bbd8-4076-87ee-eb896514f426",
   "metadata": {},
   "outputs": [],
   "source": [
    "F = []\n",
    "for temp in T:\n",
    "    F.append(temp * 1.8 + 32)"
   ]
  },
  {
   "cell_type": "code",
   "execution_count": 24,
   "id": "b9800b72-041d-449e-b28f-987aef11257c",
   "metadata": {},
   "outputs": [
    {
     "data": {
      "text/plain": [
       "[53.6, 93.2, 132.8, 172.4, 212.0]"
      ]
     },
     "execution_count": 24,
     "metadata": {},
     "output_type": "execute_result"
    }
   ],
   "source": [
    "F"
   ]
  },
  {
   "cell_type": "code",
   "execution_count": 26,
   "id": "9739dbb1-a335-4656-a00e-f508abd27073",
   "metadata": {},
   "outputs": [],
   "source": [
    "F1 = map(lambda t : t * 1.8 + 32, T)"
   ]
  },
  {
   "cell_type": "code",
   "execution_count": 30,
   "id": "3cd84bae-c290-480e-b884-61fe3c87fb76",
   "metadata": {},
   "outputs": [
    {
     "data": {
      "text/plain": [
       "[53.6, 93.2, 132.8, 172.4, 212.0]"
      ]
     },
     "execution_count": 30,
     "metadata": {},
     "output_type": "execute_result"
    }
   ],
   "source": [
    "list(F1)"
   ]
  },
  {
   "cell_type": "code",
   "execution_count": 32,
   "id": "a1a7df61-d5f1-460f-8bb6-5436da4d42ef",
   "metadata": {},
   "outputs": [],
   "source": [
    "L = [\"computer\", \"laptop\", \"mobile\"]"
   ]
  },
  {
   "cell_type": "code",
   "execution_count": 36,
   "id": "0a14f676-aa42-4f3e-b786-ac2a3daa0c6f",
   "metadata": {},
   "outputs": [
    {
     "data": {
      "text/plain": [
       "[8, 6, 6]"
      ]
     },
     "execution_count": 36,
     "metadata": {},
     "output_type": "execute_result"
    }
   ],
   "source": [
    "list(map(len, L))"
   ]
  },
  {
   "cell_type": "markdown",
   "id": "32ee0903-a37b-4f00-99c1-188e5777d18a",
   "metadata": {},
   "source": [
    "#### filter()"
   ]
  },
  {
   "cell_type": "code",
   "execution_count": 38,
   "id": "23706dae-0cb1-43a7-aebb-b6664f43a4f8",
   "metadata": {},
   "outputs": [],
   "source": [
    "N = list(range(100))"
   ]
  },
  {
   "cell_type": "code",
   "execution_count": 42,
   "id": "5f268a83-bf52-40fa-a987-9feba97fc50e",
   "metadata": {},
   "outputs": [
    {
     "data": {
      "text/plain": [
       "[0, 77]"
      ]
     },
     "execution_count": 42,
     "metadata": {},
     "output_type": "execute_result"
    }
   ],
   "source": [
    "L_11_7 = []\n",
    "for n in N:\n",
    "    if(n % 7 == 0 and n % 11 == 0):\n",
    "        L_11_7.append(n)\n",
    "L_11_7"
   ]
  },
  {
   "cell_type": "code",
   "execution_count": 50,
   "id": "eed10753-4435-44cb-b750-aaec6c5e12ec",
   "metadata": {},
   "outputs": [],
   "source": [
    "L_11_7_a = filter(lambda n : n % 7 == 0, N)"
   ]
  },
  {
   "cell_type": "code",
   "execution_count": 52,
   "id": "fb9475d3-cc1e-4fdb-b1b1-42bf605e29ae",
   "metadata": {},
   "outputs": [
    {
     "data": {
      "text/plain": [
       "[0, 7, 14, 21, 28, 35, 42, 49, 56, 63, 70, 77, 84, 91, 98]"
      ]
     },
     "execution_count": 52,
     "metadata": {},
     "output_type": "execute_result"
    }
   ],
   "source": [
    "list(L_11_7_a)"
   ]
  },
  {
   "cell_type": "markdown",
   "id": "5a15c885-1347-4e78-8abd-99bde598f3cb",
   "metadata": {},
   "source": [
    "### zip()"
   ]
  },
  {
   "cell_type": "code",
   "execution_count": 58,
   "id": "b252a6bd-aa39-472f-bf74-f31bbafdfe08",
   "metadata": {},
   "outputs": [],
   "source": [
    "T1 = (1, 2, 3)\n",
    "T2 = (\"red\", \"green\", \"blue\")"
   ]
  },
  {
   "cell_type": "code",
   "execution_count": 62,
   "id": "db4f9f40-5627-48d0-8caf-bc7f6a8b8efe",
   "metadata": {},
   "outputs": [
    {
     "data": {
      "text/plain": [
       "[(1, 'red'), (2, 'green'), (3, 'blue')]"
      ]
     },
     "execution_count": 62,
     "metadata": {},
     "output_type": "execute_result"
    }
   ],
   "source": [
    "list(zip(T1, T2))"
   ]
  },
  {
   "cell_type": "code",
   "execution_count": 64,
   "id": "228a337e-cf2a-48a3-82ff-3f7cf4b0554f",
   "metadata": {},
   "outputs": [
    {
     "data": {
      "text/plain": [
       "{1: 'red', 2: 'green', 3: 'blue'}"
      ]
     },
     "execution_count": 64,
     "metadata": {},
     "output_type": "execute_result"
    }
   ],
   "source": [
    "dict(zip(T1, T2))"
   ]
  },
  {
   "cell_type": "code",
   "execution_count": 66,
   "id": "60c211eb-ddd3-41d5-b1be-2f6adb1bce28",
   "metadata": {},
   "outputs": [],
   "source": [
    "D = {1: 'red', 2: 'green', 3: 'blue'}"
   ]
  },
  {
   "cell_type": "code",
   "execution_count": 70,
   "id": "a671756f-632d-4e9c-9225-15db2109f442",
   "metadata": {},
   "outputs": [
    {
     "data": {
      "text/plain": [
       "[(1, 2, 3), ('red', 'green', 'blue')]"
      ]
     },
     "execution_count": 70,
     "metadata": {},
     "output_type": "execute_result"
    }
   ],
   "source": [
    "list(zip(*D.items()))"
   ]
  },
  {
   "cell_type": "code",
   "execution_count": 78,
   "id": "1c335c61-8066-48df-9318-48f8dfbecf5c",
   "metadata": {},
   "outputs": [
    {
     "data": {
      "text/plain": [
       "<zip at 0x283b278bd40>"
      ]
     },
     "execution_count": 78,
     "metadata": {},
     "output_type": "execute_result"
    }
   ],
   "source": [
    "zip(*D.items())"
   ]
  },
  {
   "cell_type": "markdown",
   "id": "70ebbbd1-c48b-4466-a0f1-11ca21ce10a2",
   "metadata": {},
   "source": [
    "#### sort()"
   ]
  },
  {
   "cell_type": "code",
   "execution_count": 82,
   "id": "c94c93be-bf15-4d7b-aeb5-0e51a8f24279",
   "metadata": {},
   "outputs": [],
   "source": [
    "L = [ (\"apples\", 25), (\"cherries\", 5), (\"banana\", 34)]"
   ]
  },
  {
   "cell_type": "code",
   "execution_count": 84,
   "id": "0b08c74d-045d-48c7-9a2d-5dc88a54c54c",
   "metadata": {},
   "outputs": [],
   "source": [
    "L.sort()"
   ]
  },
  {
   "cell_type": "code",
   "execution_count": 86,
   "id": "e4eef256-6f48-4a3b-b43f-298f02eaeef2",
   "metadata": {},
   "outputs": [
    {
     "data": {
      "text/plain": [
       "[('apples', 25), ('banana', 34), ('cherries', 5)]"
      ]
     },
     "execution_count": 86,
     "metadata": {},
     "output_type": "execute_result"
    }
   ],
   "source": [
    "L"
   ]
  },
  {
   "cell_type": "code",
   "execution_count": 88,
   "id": "a58c3aaa-5d02-4f43-8104-af6271c3734f",
   "metadata": {},
   "outputs": [],
   "source": [
    "L.sort(key=lambda t : t[1])"
   ]
  },
  {
   "cell_type": "code",
   "execution_count": 90,
   "id": "47b31874-fe65-4d2e-9f7c-a34e48e2a8e0",
   "metadata": {},
   "outputs": [
    {
     "data": {
      "text/plain": [
       "[('cherries', 5), ('apples', 25), ('banana', 34)]"
      ]
     },
     "execution_count": 90,
     "metadata": {},
     "output_type": "execute_result"
    }
   ],
   "source": [
    "L"
   ]
  },
  {
   "cell_type": "markdown",
   "id": "45d72544-a5df-4ca6-b238-7a6bc0dd9a87",
   "metadata": {},
   "source": [
    "### Built-in Modules"
   ]
  },
  {
   "cell_type": "markdown",
   "id": "48ba7ea6-3eb2-41c3-b11e-92c267b851b6",
   "metadata": {},
   "source": [
    "#### Operator"
   ]
  },
  {
   "cell_type": "code",
   "execution_count": 94,
   "id": "2c1d627c-12e0-449c-bf18-3c4d57b518bc",
   "metadata": {},
   "outputs": [],
   "source": [
    "from operator import itemgetter"
   ]
  },
  {
   "cell_type": "code",
   "execution_count": 96,
   "id": "2c3e928f-f390-4c20-9cb1-914e2f8fdb59",
   "metadata": {},
   "outputs": [
    {
     "data": {
      "text/plain": [
       "'p'"
      ]
     },
     "execution_count": 96,
     "metadata": {},
     "output_type": "execute_result"
    }
   ],
   "source": [
    "itemgetter(1)(\"apples\")"
   ]
  },
  {
   "cell_type": "code",
   "execution_count": 98,
   "id": "3469f7d2-88ed-4f6c-aafd-130b00e57a84",
   "metadata": {},
   "outputs": [
    {
     "data": {
      "text/plain": [
       "'green'"
      ]
     },
     "execution_count": 98,
     "metadata": {},
     "output_type": "execute_result"
    }
   ],
   "source": [
    "itemgetter(1)([\"red\", \"green\", \"blue\"])"
   ]
  },
  {
   "cell_type": "code",
   "execution_count": 100,
   "id": "86be2a97-1c27-4542-bb15-57f419136635",
   "metadata": {},
   "outputs": [
    {
     "data": {
      "text/plain": [
       "[('cherries', 5), ('apples', 25), ('banana', 34)]"
      ]
     },
     "execution_count": 100,
     "metadata": {},
     "output_type": "execute_result"
    }
   ],
   "source": [
    "L"
   ]
  },
  {
   "cell_type": "code",
   "execution_count": 102,
   "id": "b21f366c-160a-483b-9e83-34a0c5111915",
   "metadata": {},
   "outputs": [],
   "source": [
    "L.sort(key=itemgetter(1))"
   ]
  },
  {
   "cell_type": "code",
   "execution_count": 104,
   "id": "4068168d-066a-4129-92f4-e0fb4250a67b",
   "metadata": {},
   "outputs": [
    {
     "data": {
      "text/plain": [
       "[('cherries', 5), ('apples', 25), ('banana', 34)]"
      ]
     },
     "execution_count": 104,
     "metadata": {},
     "output_type": "execute_result"
    }
   ],
   "source": [
    "L"
   ]
  },
  {
   "cell_type": "code",
   "execution_count": 108,
   "id": "d2fce727-8e63-4f1f-8aaf-2895d39cff36",
   "metadata": {},
   "outputs": [
    {
     "data": {
      "text/plain": [
       "operator.itemgetter"
      ]
     },
     "execution_count": 108,
     "metadata": {},
     "output_type": "execute_result"
    }
   ],
   "source": [
    "f = itemgetter(1)\n",
    "type(f)"
   ]
  },
  {
   "cell_type": "code",
   "execution_count": 112,
   "id": "4f9a1a1f-da3c-4089-bfc3-bc3cf17132bb",
   "metadata": {},
   "outputs": [
    {
     "data": {
      "text/plain": [
       "25"
      ]
     },
     "execution_count": 112,
     "metadata": {},
     "output_type": "execute_result"
    }
   ],
   "source": [
    "f(L[1])"
   ]
  },
  {
   "cell_type": "code",
   "execution_count": 114,
   "id": "68e8901f-c682-4069-8e95-9eb015876300",
   "metadata": {},
   "outputs": [
    {
     "data": {
      "text/plain": [
       "('apples', 25)"
      ]
     },
     "execution_count": 114,
     "metadata": {},
     "output_type": "execute_result"
    }
   ],
   "source": [
    "f(L)"
   ]
  },
  {
   "cell_type": "markdown",
   "id": "a80c5c15-fc62-4496-b7a5-9c7c1bff8205",
   "metadata": {},
   "source": [
    "#### datetime"
   ]
  },
  {
   "cell_type": "code",
   "execution_count": 117,
   "id": "2c7820a3-62ed-49c2-a118-482ac1014f9e",
   "metadata": {},
   "outputs": [],
   "source": [
    "from datetime import datetime"
   ]
  },
  {
   "cell_type": "code",
   "execution_count": 121,
   "id": "d5029662-4810-40ad-871e-1af5daf64f59",
   "metadata": {},
   "outputs": [
    {
     "data": {
      "text/plain": [
       "datetime.datetime(2025, 10, 13, 11, 3, 27, 186933)"
      ]
     },
     "execution_count": 121,
     "metadata": {},
     "output_type": "execute_result"
    }
   ],
   "source": [
    "t = datetime.now()\n",
    "t"
   ]
  },
  {
   "cell_type": "code",
   "execution_count": 123,
   "id": "dd602ca9-1bf8-4abe-aa29-3b8c1225b4b1",
   "metadata": {},
   "outputs": [
    {
     "name": "stdout",
     "output_type": "stream",
     "text": [
      "2025 10 13 11 3 27\n"
     ]
    }
   ],
   "source": [
    "print(t.year, t.month, t.day, t.hour, t.minute, t.second)"
   ]
  },
  {
   "cell_type": "code",
   "execution_count": 125,
   "id": "55d0ef56-aa40-42cd-b869-21b7bd8313aa",
   "metadata": {},
   "outputs": [
    {
     "name": "stdout",
     "output_type": "stream",
     "text": [
      "Monday, 13 October 2025, 11:03 AM\n"
     ]
    }
   ],
   "source": [
    "# Monday, 13 October 2025, 11:06 AM\n",
    "f = \"%A, %d %B %Y, %I:%M %p\"\n",
    "print(t.strftime(f))"
   ]
  },
  {
   "cell_type": "code",
   "execution_count": 127,
   "id": "7add2a5e-c231-4f8b-9cca-a4218f464f9c",
   "metadata": {},
   "outputs": [],
   "source": [
    "t1 = datetime.now()"
   ]
  },
  {
   "cell_type": "code",
   "execution_count": 129,
   "id": "cf493498-20eb-459f-a9ec-a18bdae2331b",
   "metadata": {},
   "outputs": [
    {
     "data": {
      "text/plain": [
       "datetime.timedelta(seconds=271, microseconds=506334)"
      ]
     },
     "execution_count": 129,
     "metadata": {},
     "output_type": "execute_result"
    }
   ],
   "source": [
    "t1 - t"
   ]
  },
  {
   "cell_type": "markdown",
   "id": "22ee1004-52ab-4285-bc87-9b6db9cf7507",
   "metadata": {},
   "source": [
    "#### itertools"
   ]
  },
  {
   "cell_type": "code",
   "execution_count": 132,
   "id": "a98f53d5-451c-4ff4-90e1-f25242c16437",
   "metadata": {},
   "outputs": [],
   "source": [
    "from itertools import permutations, combinations"
   ]
  },
  {
   "cell_type": "code",
   "execution_count": 134,
   "id": "71265da6-0a9d-4a99-b4e7-53682975e615",
   "metadata": {},
   "outputs": [],
   "source": [
    "s = \"abcd\""
   ]
  },
  {
   "cell_type": "code",
   "execution_count": 136,
   "id": "bcfa0fbb-b3b0-47ac-9a33-871a165d4740",
   "metadata": {},
   "outputs": [
    {
     "data": {
      "text/plain": [
       "[('a', 'b', 'c', 'd'),\n",
       " ('a', 'b', 'd', 'c'),\n",
       " ('a', 'c', 'b', 'd'),\n",
       " ('a', 'c', 'd', 'b'),\n",
       " ('a', 'd', 'b', 'c'),\n",
       " ('a', 'd', 'c', 'b'),\n",
       " ('b', 'a', 'c', 'd'),\n",
       " ('b', 'a', 'd', 'c'),\n",
       " ('b', 'c', 'a', 'd'),\n",
       " ('b', 'c', 'd', 'a'),\n",
       " ('b', 'd', 'a', 'c'),\n",
       " ('b', 'd', 'c', 'a'),\n",
       " ('c', 'a', 'b', 'd'),\n",
       " ('c', 'a', 'd', 'b'),\n",
       " ('c', 'b', 'a', 'd'),\n",
       " ('c', 'b', 'd', 'a'),\n",
       " ('c', 'd', 'a', 'b'),\n",
       " ('c', 'd', 'b', 'a'),\n",
       " ('d', 'a', 'b', 'c'),\n",
       " ('d', 'a', 'c', 'b'),\n",
       " ('d', 'b', 'a', 'c'),\n",
       " ('d', 'b', 'c', 'a'),\n",
       " ('d', 'c', 'a', 'b'),\n",
       " ('d', 'c', 'b', 'a')]"
      ]
     },
     "execution_count": 136,
     "metadata": {},
     "output_type": "execute_result"
    }
   ],
   "source": [
    "p = permutations(s)\n",
    "list(p)"
   ]
  },
  {
   "cell_type": "code",
   "execution_count": 138,
   "id": "91122cf6-879a-4efb-b4d0-51351396b297",
   "metadata": {},
   "outputs": [
    {
     "data": {
      "text/plain": [
       "[('a', 'b', 'c'), ('a', 'b', 'd'), ('a', 'c', 'd'), ('b', 'c', 'd')]"
      ]
     },
     "execution_count": 138,
     "metadata": {},
     "output_type": "execute_result"
    }
   ],
   "source": [
    "list(combinations(s, 3))"
   ]
  },
  {
   "cell_type": "markdown",
   "id": "7b972f7c-8e33-4bbe-96f8-5ba5becb2f44",
   "metadata": {},
   "source": [
    "#### collections"
   ]
  },
  {
   "cell_type": "code",
   "execution_count": 141,
   "id": "c5977f44-1e4e-4f90-92c2-a7033d028dc1",
   "metadata": {},
   "outputs": [],
   "source": [
    "s = \"mississippi\""
   ]
  },
  {
   "cell_type": "code",
   "execution_count": 143,
   "id": "87dba708-b81e-4daa-86b4-dbc26fda9ae1",
   "metadata": {},
   "outputs": [
    {
     "data": {
      "text/plain": [
       "{'m': 1, 'i': 4, 's': 4, 'p': 2}"
      ]
     },
     "execution_count": 143,
     "metadata": {},
     "output_type": "execute_result"
    }
   ],
   "source": [
    "ch = {}\n",
    "for c in s:\n",
    "    if c in ch.keys():\n",
    "        ch[c] = ch[c] + 1\n",
    "    else:\n",
    "        ch[c] = 1\n",
    "ch"
   ]
  },
  {
   "cell_type": "code",
   "execution_count": 145,
   "id": "dddddfef-1156-4d57-b325-ef0d8eefb110",
   "metadata": {},
   "outputs": [],
   "source": [
    "from collections import Counter"
   ]
  },
  {
   "cell_type": "code",
   "execution_count": 149,
   "id": "07b68e2f-500a-446b-bf2e-77ab2c8de62f",
   "metadata": {},
   "outputs": [
    {
     "data": {
      "text/plain": [
       "Counter({'i': 4, 's': 4, 'p': 2, 'm': 1})"
      ]
     },
     "execution_count": 149,
     "metadata": {},
     "output_type": "execute_result"
    }
   ],
   "source": [
    "t = Counter(s)\n",
    "t"
   ]
  },
  {
   "cell_type": "markdown",
   "id": "b92d2d3f-bf26-4708-b8e5-7d0dacf527ad",
   "metadata": {},
   "source": [
    "#### winsound"
   ]
  },
  {
   "cell_type": "code",
   "execution_count": 152,
   "id": "69b425d4-228c-47f2-81c9-566103b4dcf1",
   "metadata": {},
   "outputs": [],
   "source": [
    "import winsound\n",
    "# Play Windows exit sound.\n",
    "winsound.PlaySound(\"SystemExit\", winsound.SND_ALIAS)"
   ]
  },
  {
   "cell_type": "code",
   "execution_count": 154,
   "id": "d9cebbd5-dbe7-4156-9e3a-8d731476a633",
   "metadata": {},
   "outputs": [],
   "source": [
    "# Probably play Windows default sound, if any is registered (because\n",
    "# \"*\" probably isn't the registered name of any sound).\n",
    "winsound.PlaySound(\"*\", winsound.SND_ALIAS)"
   ]
  },
  {
   "cell_type": "markdown",
   "id": "dd15a02f-458f-4237-b053-98517e06e67a",
   "metadata": {},
   "source": [
    "### Exercise"
   ]
  },
  {
   "cell_type": "code",
   "execution_count": 157,
   "id": "5ad3bd57-7608-4488-83da-7c9a6da0b8a6",
   "metadata": {},
   "outputs": [],
   "source": [
    "products = ['Pen', 'Book', 'Bag']\n",
    "prices = [10, 200, 500]\n",
    "quantities = [5, 2, 1]\n"
   ]
  },
  {
   "cell_type": "code",
   "execution_count": 163,
   "id": "eb46de46-82d3-430f-a0c4-e65d5d441219",
   "metadata": {},
   "outputs": [
    {
     "data": {
      "text/plain": [
       "[(10, 5), (200, 2), (500, 1)]"
      ]
     },
     "execution_count": 163,
     "metadata": {},
     "output_type": "execute_result"
    }
   ],
   "source": [
    "sales_data = list(zip(prices, quantities))\n",
    "sales_data"
   ]
  },
  {
   "cell_type": "code",
   "execution_count": 165,
   "id": "b1fbdc65-7e69-439a-8584-7aa2b4c442cd",
   "metadata": {},
   "outputs": [
    {
     "data": {
      "text/plain": [
       "[50, 400, 500]"
      ]
     },
     "execution_count": 165,
     "metadata": {},
     "output_type": "execute_result"
    }
   ],
   "source": [
    "total_sales = list(map(lambda t : t[0] * t[1], sales_data))\n",
    "total_sales"
   ]
  },
  {
   "cell_type": "code",
   "execution_count": 167,
   "id": "93adfd70-d927-4759-a5eb-0a9b1bc8f1de",
   "metadata": {},
   "outputs": [
    {
     "data": {
      "text/plain": [
       "{'Pen': 50, 'Book': 400, 'Bag': 500}"
      ]
     },
     "execution_count": 167,
     "metadata": {},
     "output_type": "execute_result"
    }
   ],
   "source": [
    "dict(zip(products, total_sales))"
   ]
  },
  {
   "cell_type": "markdown",
   "id": "e35cb1a7-8841-4a58-b9cd-f71697819c0c",
   "metadata": {},
   "source": [
    "##### Alternatively,"
   ]
  },
  {
   "cell_type": "code",
   "execution_count": 174,
   "id": "d5144a93-a1e5-4bb5-b383-1ef9e8b5d99a",
   "metadata": {},
   "outputs": [
    {
     "data": {
      "text/plain": [
       "[('Pen', 10, 5), ('Book', 200, 2), ('Bag', 500, 1)]"
      ]
     },
     "execution_count": 174,
     "metadata": {},
     "output_type": "execute_result"
    }
   ],
   "source": [
    "data = list(zip(products, prices, quantities))\n",
    "data"
   ]
  },
  {
   "cell_type": "code",
   "execution_count": 178,
   "id": "9b568d0e-d764-4dbb-8300-75189f29d99b",
   "metadata": {},
   "outputs": [
    {
     "data": {
      "text/plain": [
       "{'Pen': 50, 'Book': 400, 'Bag': 500}"
      ]
     },
     "execution_count": 178,
     "metadata": {},
     "output_type": "execute_result"
    }
   ],
   "source": [
    "dict(map(lambda t : (t[0], t[1]*t[2]), data))"
   ]
  },
  {
   "cell_type": "code",
   "execution_count": null,
   "id": "07ae0f9b-f294-4c6f-8d3f-f87cd0c94067",
   "metadata": {},
   "outputs": [],
   "source": []
  },
  {
   "cell_type": "markdown",
   "id": "a244336e-be67-4d89-8a69-ba894dd9cca4",
   "metadata": {},
   "source": [
    "##### functools.reduce"
   ]
  },
  {
   "cell_type": "code",
   "execution_count": 187,
   "id": "ac24b378-bba7-475b-a3ef-f1843fdb2d0e",
   "metadata": {},
   "outputs": [],
   "source": [
    "nums = [2, 3, 4, 5]"
   ]
  },
  {
   "cell_type": "code",
   "execution_count": 181,
   "id": "e2faeb6d-58d1-4449-ba2b-026a183ee166",
   "metadata": {},
   "outputs": [],
   "source": [
    "from functools import reduce"
   ]
  },
  {
   "cell_type": "code",
   "execution_count": 183,
   "id": "73ba6fa1-6b7a-451d-bf17-fcf8c1f414e6",
   "metadata": {},
   "outputs": [
    {
     "data": {
      "text/plain": [
       "15"
      ]
     },
     "execution_count": 183,
     "metadata": {},
     "output_type": "execute_result"
    }
   ],
   "source": [
    "reduce(lambda a,b:a + b, [1,2,3,4,5])"
   ]
  },
  {
   "cell_type": "code",
   "execution_count": 189,
   "id": "bccd2621-787c-45a1-ac1d-bbdbdda1fd51",
   "metadata": {},
   "outputs": [
    {
     "data": {
      "text/plain": [
       "120"
      ]
     },
     "execution_count": 189,
     "metadata": {},
     "output_type": "execute_result"
    }
   ],
   "source": [
    "reduce(lambda a,b:a * b, nums)"
   ]
  },
  {
   "cell_type": "markdown",
   "id": "633bbf1d-ab9e-4fa5-91ab-7a88eef7bc9a",
   "metadata": {},
   "source": [
    "##### collections.defaultdict"
   ]
  },
  {
   "cell_type": "code",
   "execution_count": null,
   "id": "0db82054-2886-47da-aea6-99e5d3c9cf47",
   "metadata": {},
   "outputs": [],
   "source": []
  },
  {
   "cell_type": "code",
   "execution_count": 192,
   "id": "ca9ec49e-3363-4e2e-b7d7-37504f16fb71",
   "metadata": {},
   "outputs": [
    {
     "name": "stdout",
     "output_type": "stream",
     "text": [
      "{'A': [10, 30, 66], 'B': [20, 40], 'C': [40]}\n"
     ]
    }
   ],
   "source": [
    "data = [('A', 10), ('B', 20), ('A', 30), ('C', 40), ('B', 40), ('A', 66)]\n",
    "\n",
    "grouped = {}\n",
    "for key, value in data:\n",
    "    if key not in grouped:\n",
    "        grouped[key] = []\n",
    "    grouped[key].append(value)\n",
    "\n",
    "print(grouped)\n"
   ]
  },
  {
   "cell_type": "code",
   "execution_count": null,
   "id": "0f17aa78-4530-479d-b60e-efb32dcb2c8c",
   "metadata": {},
   "outputs": [],
   "source": []
  },
  {
   "cell_type": "code",
   "execution_count": 194,
   "id": "29be9d3f-b2d7-4932-9905-340f19c78b53",
   "metadata": {},
   "outputs": [
    {
     "name": "stdout",
     "output_type": "stream",
     "text": [
      "{'A': [10, 30], 'B': [20], 'C': [40]}\n"
     ]
    }
   ],
   "source": [
    "from collections import defaultdict\n",
    "\n",
    "data = [('A', 10), ('B', 20), ('A', 30), ('C', 40)]\n",
    "\n",
    "grouped = defaultdict(list)   # default value is an empty list\n",
    "\n",
    "for key, value in data:\n",
    "    grouped[key].append(value)\n",
    "\n",
    "print(dict(grouped))\n"
   ]
  },
  {
   "cell_type": "code",
   "execution_count": 196,
   "id": "54c95418-dea8-42d4-9aa7-2bce7e8a6880",
   "metadata": {},
   "outputs": [],
   "source": [
    "words = ['apple', 'ant', 'ball', 'bat', 'cat']"
   ]
  },
  {
   "cell_type": "code",
   "execution_count": 198,
   "id": "12b342ef-4ff6-43da-9fa1-191736b8b3e3",
   "metadata": {},
   "outputs": [],
   "source": [
    "wordgroups = defaultdict(list)"
   ]
  },
  {
   "cell_type": "code",
   "execution_count": 200,
   "id": "4fc35552-382c-4cd3-9555-6223e6e13360",
   "metadata": {},
   "outputs": [
    {
     "data": {
      "text/plain": [
       "defaultdict(list, {'a': ['apple', 'ant'], 'b': ['ball', 'bat'], 'c': ['cat']})"
      ]
     },
     "execution_count": 200,
     "metadata": {},
     "output_type": "execute_result"
    }
   ],
   "source": [
    "for word in words:\n",
    "    wordgroups[word[0]].append(word)\n",
    "wordgroups"
   ]
  },
  {
   "cell_type": "code",
   "execution_count": null,
   "id": "17da0a86-f44c-47ea-b9f9-93d6b3bf1c3b",
   "metadata": {},
   "outputs": [],
   "source": []
  }
 ],
 "metadata": {
  "kernelspec": {
   "display_name": "Python 3 (ipykernel)",
   "language": "python",
   "name": "python3"
  },
  "language_info": {
   "codemirror_mode": {
    "name": "ipython",
    "version": 3
   },
   "file_extension": ".py",
   "mimetype": "text/x-python",
   "name": "python",
   "nbconvert_exporter": "python",
   "pygments_lexer": "ipython3",
   "version": "3.12.7"
  }
 },
 "nbformat": 4,
 "nbformat_minor": 5
}
