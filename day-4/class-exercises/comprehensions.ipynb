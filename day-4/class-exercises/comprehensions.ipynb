{
 "cells": [
  {
   "cell_type": "markdown",
   "id": "e59b4073",
   "metadata": {},
   "source": [
    "### Comprehensions Exercise"
   ]
  },
  {
   "cell_type": "markdown",
   "id": "6bce0b89",
   "metadata": {},
   "source": [
    "Given a list of integers, create a new list that contains the square of even numbers only."
   ]
  },
  {
   "cell_type": "code",
   "execution_count": null,
   "id": "e40ecb4e",
   "metadata": {},
   "outputs": [],
   "source": [
    "numbers = [1, 2, 3, 4, 5, 6, 7, 8, 9, 10]"
   ]
  },
  {
   "cell_type": "code",
   "execution_count": null,
   "id": "5f59898c",
   "metadata": {},
   "outputs": [],
   "source": []
  },
  {
   "cell_type": "markdown",
   "id": "c9f48c1e",
   "metadata": {},
   "source": [
    "[4, 16, 36, 64, 100]\n"
   ]
  },
  {
   "cell_type": "code",
   "execution_count": null,
   "id": "7bb9ee14",
   "metadata": {},
   "outputs": [],
   "source": []
  },
  {
   "cell_type": "markdown",
   "id": "3b0d07eb",
   "metadata": {},
   "source": [
    "Given a string, extract all vowels (a, e, i, o, u) and store them in a list."
   ]
  },
  {
   "cell_type": "code",
   "execution_count": null,
   "id": "1efbb753",
   "metadata": {},
   "outputs": [],
   "source": [
    "text = \"Python comprehensions are powerful!\"\n"
   ]
  },
  {
   "cell_type": "code",
   "execution_count": null,
   "id": "f4bd1e4f",
   "metadata": {},
   "outputs": [],
   "source": []
  },
  {
   "cell_type": "markdown",
   "id": "d2c092d5",
   "metadata": {},
   "source": [
    "['o', 'o', 'e', 'e', 'i', 'o', 'a', 'e', 'o', 'e', 'u']\n"
   ]
  },
  {
   "cell_type": "code",
   "execution_count": null,
   "id": "dd17e497",
   "metadata": {},
   "outputs": [],
   "source": []
  },
  {
   "cell_type": "markdown",
   "id": "a534a266",
   "metadata": {},
   "source": [
    "Given a dictionary of item prices, create a new dictionary with a 10% discount applied to items priced above 200."
   ]
  },
  {
   "cell_type": "code",
   "execution_count": null,
   "id": "c0563645",
   "metadata": {},
   "outputs": [],
   "source": [
    "prices = {'pen': 50, 'book': 300, 'bag': 700, 'pencil': 30}\n"
   ]
  },
  {
   "cell_type": "code",
   "execution_count": null,
   "id": "8b25cc3f",
   "metadata": {},
   "outputs": [],
   "source": []
  },
  {
   "cell_type": "markdown",
   "id": "c616f551",
   "metadata": {},
   "source": [
    "{'pen': 50, 'book': 270.0, 'bag': 630.0, 'pencil': 30}\n"
   ]
  },
  {
   "cell_type": "code",
   "execution_count": null,
   "id": "72879d16",
   "metadata": {},
   "outputs": [],
   "source": []
  },
  {
   "cell_type": "markdown",
   "id": "c349b6fc",
   "metadata": {},
   "source": [
    "Given a 3x3 matrix (list of lists), transpose it using a comprehension."
   ]
  },
  {
   "cell_type": "code",
   "execution_count": null,
   "id": "e539e113",
   "metadata": {},
   "outputs": [],
   "source": [
    "matrix = [\n",
    "    [1, 2, 3],\n",
    "    [4, 5, 6],\n",
    "    [7, 8, 9]\n",
    "]\n"
   ]
  },
  {
   "cell_type": "markdown",
   "id": "f2723cf4",
   "metadata": {},
   "source": []
  },
  {
   "cell_type": "code",
   "execution_count": null,
   "id": "08d57fde",
   "metadata": {},
   "outputs": [],
   "source": []
  },
  {
   "cell_type": "markdown",
   "id": "8ed027ee",
   "metadata": {},
   "source": [
    "[[1, 4, 7], [2, 5, 8], [3, 6, 9]]\n"
   ]
  },
  {
   "cell_type": "code",
   "execution_count": null,
   "id": "be023c19",
   "metadata": {},
   "outputs": [],
   "source": []
  },
  {
   "cell_type": "markdown",
   "id": "e2c10b7e",
   "metadata": {},
   "source": [
    "Given a paragraph, find all unique words and create a dictionary where each word maps to its length.\n",
    "Ignore punctuation and case."
   ]
  },
  {
   "cell_type": "code",
   "execution_count": null,
   "id": "2115834c",
   "metadata": {},
   "outputs": [],
   "source": []
  },
  {
   "cell_type": "markdown",
   "id": "e2a899a4",
   "metadata": {},
   "source": [
    "{'python': 6, 'is': 2, 'easy': 4, 'powerful': 8, 'and': 3, 'to': 2, 'learn': 5}\n"
   ]
  }
 ],
 "metadata": {
  "kernelspec": {
   "display_name": "base",
   "language": "python",
   "name": "python3"
  },
  "language_info": {
   "name": "python",
   "version": "3.12.7"
  }
 },
 "nbformat": 4,
 "nbformat_minor": 5
}
