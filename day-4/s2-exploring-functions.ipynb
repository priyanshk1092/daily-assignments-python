{
 "cells": [
  {
   "cell_type": "markdown",
   "id": "8547e6a9-3afd-4675-8a43-66feba52c9cd",
   "metadata": {},
   "source": [
    "### 10.1 Function definition"
   ]
  },
  {
   "cell_type": "code",
   "execution_count": 2,
   "id": "dadcaebe-ab3b-4a9f-bf8b-d2dca5b75264",
   "metadata": {},
   "outputs": [],
   "source": [
    "def checkprime(n):\n",
    "    for i in range(2, n):\n",
    "        if(n % i == 0):\n",
    "            return False\n",
    "    return True"
   ]
  },
  {
   "cell_type": "code",
   "execution_count": 4,
   "id": "107593f5-296c-45f0-a6f1-30fcc21625a7",
   "metadata": {},
   "outputs": [
    {
     "data": {
      "text/plain": [
       "False"
      ]
     },
     "execution_count": 4,
     "metadata": {},
     "output_type": "execute_result"
    }
   ],
   "source": [
    "checkprime(10)"
   ]
  },
  {
   "cell_type": "code",
   "execution_count": 6,
   "id": "bfbe3c45-7a14-4105-a63c-a7179072ec03",
   "metadata": {},
   "outputs": [
    {
     "data": {
      "text/plain": [
       "True"
      ]
     },
     "execution_count": 6,
     "metadata": {},
     "output_type": "execute_result"
    }
   ],
   "source": [
    "checkprime(11)"
   ]
  },
  {
   "cell_type": "code",
   "execution_count": 8,
   "id": "e0fde1d9-92b1-4edd-8ee0-37ee4f1862df",
   "metadata": {},
   "outputs": [],
   "source": [
    "# function to get the highest prime number in a given range\n",
    "def get_highest_prime(p, q):\n",
    "    for n in range(q, p-1, -1):\n",
    "        if(checkprime(n)):\n",
    "            return n\n",
    "    return -1"
   ]
  },
  {
   "cell_type": "code",
   "execution_count": 10,
   "id": "c24103c9-61f4-4952-861a-9fccb0526612",
   "metadata": {},
   "outputs": [
    {
     "data": {
      "text/plain": [
       "97"
      ]
     },
     "execution_count": 10,
     "metadata": {},
     "output_type": "execute_result"
    }
   ],
   "source": [
    "get_highest_prime(1, 100)"
   ]
  },
  {
   "cell_type": "code",
   "execution_count": 12,
   "id": "5bb9846e-1fd1-455f-8eb3-bad769c35249",
   "metadata": {},
   "outputs": [
    {
     "data": {
      "text/plain": [
       "53"
      ]
     },
     "execution_count": 12,
     "metadata": {},
     "output_type": "execute_result"
    }
   ],
   "source": [
    "get_highest_prime(50, 55)"
   ]
  },
  {
   "cell_type": "code",
   "execution_count": 14,
   "id": "f27c1712-7c69-4495-bb4c-9a0b7b09b44c",
   "metadata": {},
   "outputs": [
    {
     "data": {
      "text/plain": [
       "-1"
      ]
     },
     "execution_count": 14,
     "metadata": {},
     "output_type": "execute_result"
    }
   ],
   "source": [
    "get_highest_prime(200, 204)"
   ]
  },
  {
   "cell_type": "markdown",
   "id": "1e1ba09e-2554-4e9f-8b17-111419e6b749",
   "metadata": {},
   "source": [
    "### 10.2 Scope of variables"
   ]
  },
  {
   "cell_type": "code",
   "execution_count": 16,
   "id": "5e3161b2-dcda-4819-9c05-f74e96be4fb3",
   "metadata": {},
   "outputs": [],
   "source": [
    "# global variable\n",
    "N = 10\n",
    "\n",
    "def showvalues():\n",
    "    print(N)"
   ]
  },
  {
   "cell_type": "code",
   "execution_count": 18,
   "id": "6ed48713-979f-445d-9a05-98901f9049e1",
   "metadata": {},
   "outputs": [
    {
     "name": "stdout",
     "output_type": "stream",
     "text": [
      "10\n"
     ]
    }
   ],
   "source": [
    "showvalues()"
   ]
  },
  {
   "cell_type": "code",
   "execution_count": 20,
   "id": "64da1fe7-1097-4f52-9628-d91ce26bc7e3",
   "metadata": {},
   "outputs": [],
   "source": [
    "# global variable\n",
    "N = 10\n",
    "\n",
    "def showvalues():\n",
    "    N = 5 # local\n",
    "    print(N)\n",
    "\n",
    "def showvalues2():\n",
    "    N = 6 # local\n",
    "    print(N)"
   ]
  },
  {
   "cell_type": "code",
   "execution_count": 22,
   "id": "290086c9-292e-4986-a92a-eec306d126b1",
   "metadata": {},
   "outputs": [
    {
     "name": "stdout",
     "output_type": "stream",
     "text": [
      "5\n",
      "6\n"
     ]
    },
    {
     "data": {
      "text/plain": [
       "(None, None)"
      ]
     },
     "execution_count": 22,
     "metadata": {},
     "output_type": "execute_result"
    }
   ],
   "source": [
    "showvalues(), showvalues2()"
   ]
  },
  {
   "cell_type": "code",
   "execution_count": 24,
   "id": "ef1d7f58-789c-474b-8520-c2294497846e",
   "metadata": {},
   "outputs": [],
   "source": [
    "# global variable\n",
    "N = 10\n",
    "\n",
    "def showvalues():\n",
    "    N = 5 # local\n",
    "    print(N)\n",
    "\n",
    "def showvalues2():\n",
    "    print(N)"
   ]
  },
  {
   "cell_type": "code",
   "execution_count": 26,
   "id": "95990bfe-b390-4dd2-8784-f9a713ca0424",
   "metadata": {},
   "outputs": [
    {
     "name": "stdout",
     "output_type": "stream",
     "text": [
      "10\n"
     ]
    }
   ],
   "source": [
    "showvalues2()"
   ]
  },
  {
   "cell_type": "code",
   "execution_count": 28,
   "id": "8b95ab89-2664-43b6-a518-aae056680543",
   "metadata": {},
   "outputs": [],
   "source": [
    "# To prove N is local to showvalues...\n",
    "\n",
    "def showvalues():\n",
    "    M = 5 # local\n",
    "    print(N)\n",
    "\n",
    "def showvalues2():\n",
    "    print(M)"
   ]
  },
  {
   "cell_type": "code",
   "execution_count": 30,
   "id": "0b9b2f7f-3f80-42d4-8296-95aac6505537",
   "metadata": {},
   "outputs": [
    {
     "ename": "NameError",
     "evalue": "name 'M' is not defined",
     "output_type": "error",
     "traceback": [
      "\u001b[1;31m---------------------------------------------------------------------------\u001b[0m",
      "\u001b[1;31mNameError\u001b[0m                                 Traceback (most recent call last)",
      "Cell \u001b[1;32mIn[30], line 1\u001b[0m\n\u001b[1;32m----> 1\u001b[0m showvalues2()\n",
      "Cell \u001b[1;32mIn[28], line 8\u001b[0m, in \u001b[0;36mshowvalues2\u001b[1;34m()\u001b[0m\n\u001b[0;32m      7\u001b[0m \u001b[38;5;28;01mdef\u001b[39;00m \u001b[38;5;21mshowvalues2\u001b[39m():\n\u001b[1;32m----> 8\u001b[0m     \u001b[38;5;28mprint\u001b[39m(M)\n",
      "\u001b[1;31mNameError\u001b[0m: name 'M' is not defined"
     ]
    }
   ],
   "source": [
    "showvalues2()"
   ]
  },
  {
   "cell_type": "markdown",
   "id": "79f35ed4-2016-448a-819e-93a124ca1837",
   "metadata": {},
   "source": [
    "##### M is local to showvalues() and cannot be accessed from showvalues2()"
   ]
  },
  {
   "cell_type": "code",
   "execution_count": 32,
   "id": "0efe78b6-254b-4d54-b85d-68a54231e32c",
   "metadata": {},
   "outputs": [],
   "source": [
    "# Understanding non-local scope\n",
    "\n",
    "P = 10\n",
    "\n",
    "def getFunction(choice):\n",
    "\n",
    "    def funcAdd(a, b):\n",
    "        return (a + b) * P\n",
    "\n",
    "    def funcSub(a, b):\n",
    "        return (a - b) * P\n",
    "\n",
    "    return funcAdd if choice == 1 else funcSub  # ternary operator -> ?:"
   ]
  },
  {
   "cell_type": "code",
   "execution_count": 34,
   "id": "84d63e2a-040d-48da-9c88-b6fdb4a39427",
   "metadata": {},
   "outputs": [
    {
     "data": {
      "text/plain": [
       "300"
      ]
     },
     "execution_count": 34,
     "metadata": {},
     "output_type": "execute_result"
    }
   ],
   "source": [
    "f = getFunction(1) # Uses funcAdd and N = 10\n",
    "f(10, 20) "
   ]
  },
  {
   "cell_type": "code",
   "execution_count": 36,
   "id": "1acdeac2-7c38-4a4e-bce3-9504c7a79667",
   "metadata": {},
   "outputs": [],
   "source": [
    "# Understanding non-local scope\n",
    "\n",
    "P = 10\n",
    "\n",
    "def getFunction(choice):\n",
    "\n",
    "    def funcAdd(a, b):\n",
    "        P = 5\n",
    "        return (a + b) * P\n",
    "\n",
    "    def funcSub(a, b):\n",
    "        P = 5\n",
    "        return (a - b) * P\n",
    "\n",
    "    return funcAdd if choice == 1 else funcSub  # ternary operator -> ?:"
   ]
  },
  {
   "cell_type": "code",
   "execution_count": 38,
   "id": "7d2de81e-793c-4d05-ace3-6113ab61b8f6",
   "metadata": {},
   "outputs": [
    {
     "data": {
      "text/plain": [
       "150"
      ]
     },
     "execution_count": 38,
     "metadata": {},
     "output_type": "execute_result"
    }
   ],
   "source": [
    "f = getFunction(1) # Uses funcAdd and N = 5 local to funcAdd\n",
    "f(10, 20) "
   ]
  },
  {
   "cell_type": "code",
   "execution_count": 40,
   "id": "7ddcbe4d-ed1e-4a67-80aa-a786b67c15f8",
   "metadata": {},
   "outputs": [],
   "source": [
    "# Understanding non-local scope\n",
    "\n",
    "P = 10\n",
    "\n",
    "def getFunction(choice):\n",
    "\n",
    "    P = 2  # non-local variable\n",
    "    \n",
    "    def funcAdd(a, b):\n",
    "        P = 5\n",
    "        return (a + b) * P\n",
    "\n",
    "    def funcSub(a, b):\n",
    "        P = 5\n",
    "        return (a - b) * P\n",
    "\n",
    "    return funcAdd if choice == 1 else funcSub  # ternary operator -> ?:"
   ]
  },
  {
   "cell_type": "code",
   "execution_count": 42,
   "id": "de32a5b2-66af-45c1-9e04-14bc7722151e",
   "metadata": {},
   "outputs": [
    {
     "data": {
      "text/plain": [
       "150"
      ]
     },
     "execution_count": 42,
     "metadata": {},
     "output_type": "execute_result"
    }
   ],
   "source": [
    "f = getFunction(1) # Uses funcAdd and N = 5 local to funcAdd\n",
    "f(10, 20) "
   ]
  },
  {
   "cell_type": "code",
   "execution_count": 44,
   "id": "630549e9-91d5-4620-9088-e7260bc3e74f",
   "metadata": {},
   "outputs": [],
   "source": [
    "# Understanding non-local scope\n",
    "\n",
    "P = 10\n",
    "\n",
    "def getFunction(choice):\n",
    "\n",
    "    P = 2  # non-local variable\n",
    "    \n",
    "    def funcAdd(a, b):\n",
    "        return (a + b) * P\n",
    "\n",
    "    def funcSub(a, b):\n",
    "        return (a - b) * P\n",
    "\n",
    "    return funcAdd if choice == 1 else funcSub  # ternary operator -> ?:"
   ]
  },
  {
   "cell_type": "code",
   "execution_count": 46,
   "id": "28bd2fa3-37b6-488a-860f-3e0e5e0f3971",
   "metadata": {},
   "outputs": [
    {
     "data": {
      "text/plain": [
       "60"
      ]
     },
     "execution_count": 46,
     "metadata": {},
     "output_type": "execute_result"
    }
   ],
   "source": [
    "f = getFunction(1) # Uses funcAdd and N = 2 nonlocal to funcAdd\n",
    "f(10, 20) "
   ]
  },
  {
   "cell_type": "code",
   "execution_count": 56,
   "id": "494d8434-f50d-4fe2-b9fe-b06fc65db290",
   "metadata": {},
   "outputs": [],
   "source": [
    "# Understanding non-local scope\n",
    "\n",
    "P = 10\n",
    "\n",
    "def getFunction(choice):\n",
    "\n",
    "    P = 2  # non-local variable\n",
    "    \n",
    "    def funcAdd(a, b):\n",
    "        global P\n",
    "        K = 10\n",
    "        return (a + b) * P + K\n",
    "\n",
    "    def funcSub(a, b):\n",
    "        nonlocal P\n",
    "        #P = 10\n",
    "        K = 1\n",
    "        return (a - b) * P + K\n",
    "\n",
    "    return funcAdd if choice == 1 else funcSub  # ternary operator -> ?:"
   ]
  },
  {
   "cell_type": "code",
   "execution_count": 58,
   "id": "1a84e5a2-568a-4488-ab8d-561dc2a401a5",
   "metadata": {},
   "outputs": [
    {
     "data": {
      "text/plain": [
       "310"
      ]
     },
     "execution_count": 58,
     "metadata": {},
     "output_type": "execute_result"
    }
   ],
   "source": [
    "f = getFunction(1) # Uses funcAdd and N = 10 global to funcAdd\n",
    "f(10, 20) "
   ]
  },
  {
   "cell_type": "code",
   "execution_count": 60,
   "id": "0ab0f225-0409-4954-a8d0-81bddb0ec7d4",
   "metadata": {},
   "outputs": [
    {
     "data": {
      "text/plain": [
       "-99"
      ]
     },
     "execution_count": 60,
     "metadata": {},
     "output_type": "execute_result"
    }
   ],
   "source": [
    "f = getFunction(2) # Uses funcSub and N = 2 nonlocal to funcSub\n",
    "f(10, 20) "
   ]
  },
  {
   "cell_type": "markdown",
   "id": "ade00d18-cf06-4cbd-b85f-c65ff83c9354",
   "metadata": {},
   "source": [
    "##### GUIDELINE: Reduce the global variables"
   ]
  },
  {
   "cell_type": "markdown",
   "id": "555d7f7a-9f2f-4485-af4f-1fcedecc6163",
   "metadata": {},
   "source": [
    "### 10.3 Required Arguements"
   ]
  },
  {
   "cell_type": "code",
   "execution_count": 62,
   "id": "32ee8bee-8a35-4068-bb1f-3bde49616b9e",
   "metadata": {},
   "outputs": [],
   "source": [
    "# Function definition\n",
    "def avg(n1, n2, n3):\n",
    "    return (n1 + n2 + n3)/3"
   ]
  },
  {
   "cell_type": "code",
   "execution_count": 64,
   "id": "6209c1a7-4232-434f-8a17-ff26e3702140",
   "metadata": {},
   "outputs": [
    {
     "data": {
      "text/plain": [
       "2.0"
      ]
     },
     "execution_count": 64,
     "metadata": {},
     "output_type": "execute_result"
    }
   ],
   "source": [
    "# Function call\n",
    "avg(1, 2, 3)"
   ]
  },
  {
   "cell_type": "code",
   "execution_count": 66,
   "id": "1e920bc7-e57a-440b-842e-a1174f77284e",
   "metadata": {},
   "outputs": [
    {
     "ename": "TypeError",
     "evalue": "avg() missing 1 required positional argument: 'n3'",
     "output_type": "error",
     "traceback": [
      "\u001b[1;31m---------------------------------------------------------------------------\u001b[0m",
      "\u001b[1;31mTypeError\u001b[0m                                 Traceback (most recent call last)",
      "Cell \u001b[1;32mIn[66], line 1\u001b[0m\n\u001b[1;32m----> 1\u001b[0m avg(\u001b[38;5;241m1\u001b[39m, \u001b[38;5;241m2\u001b[39m)\n",
      "\u001b[1;31mTypeError\u001b[0m: avg() missing 1 required positional argument: 'n3'"
     ]
    }
   ],
   "source": [
    "avg(1, 2)"
   ]
  },
  {
   "cell_type": "markdown",
   "id": "5e21062b-686e-44f0-932b-2ae7812a35ce",
   "metadata": {},
   "source": [
    "##### During the function call match the number of arguements to the number of arguments in function definition"
   ]
  },
  {
   "cell_type": "code",
   "execution_count": 68,
   "id": "83a51ba2-d52f-4da7-a63e-06ef403e5d68",
   "metadata": {},
   "outputs": [],
   "source": [
    "# Function definition\n",
    "def msg(n1, n2, n3):\n",
    "    print(n1)\n",
    "    print(n2)\n",
    "    print(n3)"
   ]
  },
  {
   "cell_type": "code",
   "execution_count": 70,
   "id": "31004cb5-ac51-482f-b4ae-4123fa1e8d35",
   "metadata": {},
   "outputs": [
    {
     "name": "stdout",
     "output_type": "stream",
     "text": [
      "Anil\n",
      "Sunil\n",
      "Raj\n"
     ]
    }
   ],
   "source": [
    "msg(\"Anil\", \"Sunil\", \"Raj\")"
   ]
  },
  {
   "cell_type": "code",
   "execution_count": 72,
   "id": "fc49304c-446b-4ae9-9933-911c587bd735",
   "metadata": {},
   "outputs": [
    {
     "name": "stdout",
     "output_type": "stream",
     "text": [
      "Anil\n",
      "Raj\n",
      "Sunil\n"
     ]
    }
   ],
   "source": [
    "msg(\"Anil\",\"Raj\", \"Sunil\")"
   ]
  },
  {
   "cell_type": "markdown",
   "id": "e8c3eefa-a0d6-40e9-b682-c4444852ecdd",
   "metadata": {},
   "source": [
    "##### During the function call the order should maintained exactly as in the function definition"
   ]
  },
  {
   "cell_type": "markdown",
   "id": "3b8eb618-1ecd-4e63-9828-9f1746fbd300",
   "metadata": {},
   "source": [
    "### 10.4 Arbitrary number of arguments"
   ]
  },
  {
   "cell_type": "markdown",
   "id": "5196ba61-dd33-48a0-8615-5a4da91d3ae4",
   "metadata": {},
   "source": [
    "##### You cannot write avg() for different number of arguments, can a single avg() handle arbitrary number of arguments"
   ]
  },
  {
   "cell_type": "code",
   "execution_count": 74,
   "id": "91e0931d-377e-472b-97e8-75003f4dabc4",
   "metadata": {},
   "outputs": [],
   "source": [
    "def avg(*n):\n",
    "    print(n)\n",
    "    return sum(n)/len(n)"
   ]
  },
  {
   "cell_type": "code",
   "execution_count": 76,
   "id": "e8e78806-a97f-4f5e-9bfc-7dba22ea44c7",
   "metadata": {},
   "outputs": [
    {
     "name": "stdout",
     "output_type": "stream",
     "text": [
      "(1,)\n"
     ]
    },
    {
     "data": {
      "text/plain": [
       "1.0"
      ]
     },
     "execution_count": 76,
     "metadata": {},
     "output_type": "execute_result"
    }
   ],
   "source": [
    "avg(1)"
   ]
  },
  {
   "cell_type": "code",
   "execution_count": 78,
   "id": "0c57ec38-325e-44fa-90b3-a998f055498d",
   "metadata": {},
   "outputs": [
    {
     "name": "stdout",
     "output_type": "stream",
     "text": [
      "(1, 2)\n"
     ]
    },
    {
     "data": {
      "text/plain": [
       "1.5"
      ]
     },
     "execution_count": 78,
     "metadata": {},
     "output_type": "execute_result"
    }
   ],
   "source": [
    "avg(1, 2)"
   ]
  },
  {
   "cell_type": "code",
   "execution_count": 80,
   "id": "bc3a1a22-2d3e-4c44-8d3d-67de19ea6d73",
   "metadata": {},
   "outputs": [
    {
     "name": "stdout",
     "output_type": "stream",
     "text": [
      "(1, 2, 3, 4)\n"
     ]
    },
    {
     "data": {
      "text/plain": [
       "2.5"
      ]
     },
     "execution_count": 80,
     "metadata": {},
     "output_type": "execute_result"
    }
   ],
   "source": [
    "avg(1, 2, 3, 4)"
   ]
  },
  {
   "cell_type": "markdown",
   "id": "2a12dcbb-b8e4-4007-8786-3f07211b6547",
   "metadata": {},
   "source": [
    "### 10.5 Exercise"
   ]
  },
  {
   "cell_type": "code",
   "execution_count": 82,
   "id": "46ce5e15-32d6-435f-976f-0c58e00b0c74",
   "metadata": {},
   "outputs": [],
   "source": [
    "# Write a function to return the time required to double the invested amount and given rate of interest\n",
    "\n",
    "def getTime2Double(principal, rate):\n",
    "    amount = principal\n",
    "    years = 0\n",
    "    while amount < principal * 2:\n",
    "        interestAmount = amount * (rate/100)\n",
    "        amount = amount + interestAmount\n",
    "        years += 1\n",
    "    return years\n",
    "    \n",
    "    "
   ]
  },
  {
   "cell_type": "code",
   "execution_count": 84,
   "id": "10cb9aa0-72b8-4fe1-b2b2-e059a7076311",
   "metadata": {},
   "outputs": [
    {
     "data": {
      "text/plain": [
       "12"
      ]
     },
     "execution_count": 84,
     "metadata": {},
     "output_type": "execute_result"
    }
   ],
   "source": [
    "getTime2Double(100000, 6.5)"
   ]
  },
  {
   "cell_type": "code",
   "execution_count": null,
   "id": "4e004fb2-9480-4a7b-8f30-342056c3f902",
   "metadata": {},
   "outputs": [],
   "source": [
    "# Write a function to determine if a number is a fibonacci number\n",
    "# Example: Input <- 8\n",
    "# Output -> 8 is in the fibonacci range"
   ]
  },
  {
   "cell_type": "code",
   "execution_count": null,
   "id": "2095ccb9-ed18-4992-bea3-b36a55d737ee",
   "metadata": {},
   "outputs": [],
   "source": []
  },
  {
   "cell_type": "markdown",
   "id": "417b5f11-28ac-41b3-a103-3a7c77545d7a",
   "metadata": {},
   "source": [
    "### 10.6 References"
   ]
  },
  {
   "cell_type": "code",
   "execution_count": null,
   "id": "f8e20d8c-5438-40e5-83f8-436281650aec",
   "metadata": {},
   "outputs": [],
   "source": [
    "def change(L):\n",
    "    #L.append(list('python'))\n",
    "    L = 'newvalue'\n",
    "    print(L)\n",
    "    return"
   ]
  },
  {
   "cell_type": "code",
   "execution_count": null,
   "id": "dc62ec67-66db-4518-bdc4-78b0a0eb08c4",
   "metadata": {},
   "outputs": [],
   "source": [
    "S = list('perl')\n",
    "S"
   ]
  },
  {
   "cell_type": "code",
   "execution_count": null,
   "id": "795f6946-ff1d-4802-abf4-d4d21b64e321",
   "metadata": {},
   "outputs": [],
   "source": [
    "change(S)"
   ]
  },
  {
   "cell_type": "code",
   "execution_count": null,
   "id": "66f4829d-f53a-4424-b831-6eb7d925c0ba",
   "metadata": {},
   "outputs": [],
   "source": [
    "S"
   ]
  },
  {
   "cell_type": "code",
   "execution_count": null,
   "id": "859daa3a-6a41-4a12-8835-d5e7a0106798",
   "metadata": {},
   "outputs": [],
   "source": [
    "# The reference of the variable is passed into the function as the arguement, not the value"
   ]
  },
  {
   "cell_type": "code",
   "execution_count": null,
   "id": "cc7c6fc3-b4be-494d-aff4-9d79f89c5e92",
   "metadata": {},
   "outputs": [],
   "source": [
    "def change(L):\n",
    "    L.append(list('python'))\n",
    "    #L = 'newvariable'\n",
    "    return"
   ]
  },
  {
   "cell_type": "code",
   "execution_count": null,
   "id": "6a5460db-3d44-467c-9e0f-47fdb37f604c",
   "metadata": {},
   "outputs": [],
   "source": [
    "S = list('perl')\n",
    "S"
   ]
  },
  {
   "cell_type": "code",
   "execution_count": null,
   "id": "ca5187b9-c450-4ff3-b3a7-e08308815e49",
   "metadata": {},
   "outputs": [],
   "source": [
    "change(S)"
   ]
  },
  {
   "cell_type": "code",
   "execution_count": null,
   "id": "33173cae-90c1-4b50-8551-2da724438294",
   "metadata": {},
   "outputs": [],
   "source": [
    "S"
   ]
  },
  {
   "cell_type": "code",
   "execution_count": null,
   "id": "77b3e9be-c4b7-401f-bc0f-3f1b17452dd0",
   "metadata": {},
   "outputs": [],
   "source": []
  },
  {
   "cell_type": "code",
   "execution_count": null,
   "id": "9287100b-eb6e-499b-b507-51dc3248adc0",
   "metadata": {},
   "outputs": [],
   "source": [
    "# Swap function"
   ]
  },
  {
   "cell_type": "code",
   "execution_count": null,
   "id": "cd2267ff-2728-4452-b3ff-cea420c03d14",
   "metadata": {},
   "outputs": [],
   "source": [
    "def swap(a, b):\n",
    "    print(\"In function: \", a, b)\n",
    "    temp = a\n",
    "    a = b\n",
    "    b = temp\n",
    "    print(\"In function: \", a, b)\n",
    "    return"
   ]
  },
  {
   "cell_type": "code",
   "execution_count": null,
   "id": "29b0a5ad-eb21-434d-8789-f7b8f5175461",
   "metadata": {},
   "outputs": [],
   "source": [
    "a = 10\n",
    "b = 20"
   ]
  },
  {
   "cell_type": "code",
   "execution_count": null,
   "id": "1225e2fc-a02f-49f9-af2d-f78cbb188818",
   "metadata": {},
   "outputs": [],
   "source": [
    "swap(a, b)"
   ]
  },
  {
   "cell_type": "code",
   "execution_count": null,
   "id": "768d708a-ad68-4814-bce3-85597e66add9",
   "metadata": {},
   "outputs": [],
   "source": [
    "a, b"
   ]
  },
  {
   "cell_type": "markdown",
   "id": "c47dd1ad-68bd-4add-88b3-3b56705a7017",
   "metadata": {},
   "source": [
    "Unlike languages like C++, where you can pass variables by reference using pointers or reference variables, Python always passes immutable types (like int, str, tuple) by value (actually, by object reference). So, even if you modify a and b inside the function, the changes do not persist outside."
   ]
  },
  {
   "cell_type": "code",
   "execution_count": null,
   "id": "5e7edf74-9087-402d-9bdf-3fe2fa079798",
   "metadata": {},
   "outputs": [],
   "source": [
    "d = 10\n",
    "e = 20"
   ]
  },
  {
   "cell_type": "code",
   "execution_count": null,
   "id": "38e5be72-9e8a-4928-9354-c3d953553f67",
   "metadata": {},
   "outputs": [],
   "source": [
    "d, e = e, d"
   ]
  },
  {
   "cell_type": "code",
   "execution_count": null,
   "id": "cc58fcb6-ec66-4fad-bda0-ec3024d3ffe2",
   "metadata": {},
   "outputs": [],
   "source": [
    "d, e"
   ]
  },
  {
   "cell_type": "code",
   "execution_count": null,
   "id": "67dfd32e-8e96-49c8-98e6-0f641a1e2375",
   "metadata": {},
   "outputs": [],
   "source": []
  },
  {
   "cell_type": "code",
   "execution_count": null,
   "id": "64784255-719d-462e-9104-7d6e9460fccd",
   "metadata": {},
   "outputs": [],
   "source": []
  },
  {
   "cell_type": "markdown",
   "id": "c56f8398-eb20-4265-a719-84fec12faa9f",
   "metadata": {},
   "source": [
    "### 10.7 Default Arguments"
   ]
  },
  {
   "cell_type": "code",
   "execution_count": null,
   "id": "0274e70a-7138-437a-9440-ece95e8de419",
   "metadata": {},
   "outputs": [],
   "source": [
    "def printinfo(name, age):\n",
    "    print(f\"The name is {name} and age is {age}\")"
   ]
  },
  {
   "cell_type": "code",
   "execution_count": null,
   "id": "80406855-317f-4653-9f05-55256731215f",
   "metadata": {},
   "outputs": [],
   "source": [
    "printinfo(\"Anil\", 45)"
   ]
  },
  {
   "cell_type": "markdown",
   "id": "321f8a7b-45b0-4c66-b552-9e451a7846df",
   "metadata": {},
   "source": [
    "##### What happens if I miss one of the arguments?"
   ]
  },
  {
   "cell_type": "code",
   "execution_count": null,
   "id": "573557f7-2ce9-4835-8d5e-1ba3bb9fca47",
   "metadata": {},
   "outputs": [],
   "source": [
    "printinfo(\"Anil\")"
   ]
  },
  {
   "cell_type": "markdown",
   "id": "688a3e0b-fe9e-4efe-bd34-b21555bb4774",
   "metadata": {},
   "source": [
    "##### How to specify the default values for the arguments?"
   ]
  },
  {
   "cell_type": "code",
   "execution_count": null,
   "id": "345d5c85-33db-49aa-933a-90708322bd27",
   "metadata": {},
   "outputs": [],
   "source": [
    "def printinfo(name, age=0):\n",
    "    print(f\"The name is {name} and age is {age}\")"
   ]
  },
  {
   "cell_type": "code",
   "execution_count": null,
   "id": "51528ae2-f331-4de3-9f0e-eeddbfce8678",
   "metadata": {},
   "outputs": [],
   "source": [
    "printinfo(\"Anil\")"
   ]
  },
  {
   "cell_type": "markdown",
   "id": "0d5183b7-d8f8-4670-93b5-49eb95658cb5",
   "metadata": {},
   "source": [
    "### 10.8 Key word arguments"
   ]
  },
  {
   "cell_type": "code",
   "execution_count": null,
   "id": "f67ca502-b1fd-47d9-8d36-c7d7e9213a49",
   "metadata": {},
   "outputs": [],
   "source": [
    "printinfo(34, 'Sunil')"
   ]
  },
  {
   "cell_type": "code",
   "execution_count": null,
   "id": "1c74a68f-4c74-4382-b8c0-43f82793e414",
   "metadata": {},
   "outputs": [],
   "source": [
    "printinfo(age=34, name='Sunil')"
   ]
  },
  {
   "cell_type": "markdown",
   "id": "522051a3-2de0-4be3-a3ae-88b6a591a766",
   "metadata": {},
   "source": [
    "##### The above will work even when there is a change in the order of the arguments"
   ]
  },
  {
   "cell_type": "markdown",
   "id": "18a48cdd-2694-4cc4-86be-124bfce93d5f",
   "metadata": {},
   "source": [
    "##### GUIDELINE: Always use key-word arguments while calling a function"
   ]
  },
  {
   "cell_type": "markdown",
   "id": "797e6fc2-1b07-4678-890d-6035151f8354",
   "metadata": {},
   "source": [
    "### 10.9 Variable length arguments"
   ]
  },
  {
   "cell_type": "code",
   "execution_count": null,
   "id": "776b6172-99ff-4667-98ca-d78632b80f2b",
   "metadata": {},
   "outputs": [],
   "source": [
    "def fun(a, b, c=10, *targs, **kargs):\n",
    "    print(a, b, c)\n",
    "    print(targs)\n",
    "    print(kargs)"
   ]
  },
  {
   "cell_type": "code",
   "execution_count": null,
   "id": "f4aa867b-8f16-4c3d-8a19-6f584b8d9795",
   "metadata": {},
   "outputs": [],
   "source": [
    "fun(10, 20, 30, 40, 50, name='Anil', age=35)"
   ]
  },
  {
   "cell_type": "code",
   "execution_count": null,
   "id": "93586bbf-4481-43a3-bd81-855941fee614",
   "metadata": {},
   "outputs": [],
   "source": [
    "fun(10, 20, 30, 40, 50)"
   ]
  },
  {
   "cell_type": "code",
   "execution_count": null,
   "id": "f87eaca5-a1a4-4e40-835f-affdcf776ef7",
   "metadata": {},
   "outputs": [],
   "source": [
    "fun(10, 20, 30)"
   ]
  },
  {
   "cell_type": "markdown",
   "id": "020a1672-8e61-4ad2-86f8-2129589f5fc1",
   "metadata": {},
   "source": [
    "##### THe order in which you write the arguements should be required, targs and then kargs"
   ]
  },
  {
   "cell_type": "markdown",
   "id": "019b6d5e-3fad-4900-9494-520c262b2b17",
   "metadata": {},
   "source": [
    "### 10.10 Nested functions"
   ]
  },
  {
   "cell_type": "code",
   "execution_count": null,
   "id": "cd55433e-a1e4-4161-ad70-b4bc38600a68",
   "metadata": {},
   "outputs": [],
   "source": [
    "# Understanding non-local scope\n",
    "\n",
    "P = 10\n",
    "\n",
    "def getFunction(choice):\n",
    "\n",
    "    P = 2  # non-local variable\n",
    "\n",
    "    # Nested function\n",
    "    def funcAdd(a, b):\n",
    "        global P\n",
    "        K = 10\n",
    "        return (a + b) * P + K\n",
    "\n",
    "    # Nested function\n",
    "    def funcSub(a, b):\n",
    "        nonlocal P\n",
    "        K = 1\n",
    "        return (a - b) * P + K\n",
    "\n",
    "    return funcAdd if choice == 1 else funcSub  # ternary operator -> ?:"
   ]
  },
  {
   "cell_type": "code",
   "execution_count": null,
   "id": "0b4eab03-7050-471a-bef2-a712a6f97ca0",
   "metadata": {},
   "outputs": [],
   "source": [
    "f = getFunction(3)"
   ]
  },
  {
   "cell_type": "code",
   "execution_count": null,
   "id": "e3bc0e9b-1a5f-4d26-a254-81bd739f7a76",
   "metadata": {},
   "outputs": [],
   "source": [
    "f(10, 20)"
   ]
  },
  {
   "cell_type": "code",
   "execution_count": null,
   "id": "4768de4f-73ce-46a9-ae2c-227c067c6430",
   "metadata": {},
   "outputs": [],
   "source": [
    "# Create a function authenticator(username, password) that returns another function, \n",
    "# which can be called to access a secure message only if the username and password match."
   ]
  },
  {
   "cell_type": "code",
   "execution_count": null,
   "id": "9599f5f6-5059-4036-a592-12a29f61f323",
   "metadata": {},
   "outputs": [],
   "source": [
    "def authenticator(username, password):\n",
    "    correct_username = \"admin\"\n",
    "    correct_password = \"secure123\"\n",
    "\n",
    "    def secure_access_message():\n",
    "        if(username == correct_username and password == correct_password):\n",
    "            return \"Access Granted! Welcome to Secure System \\U00002705 \\U0001F4A1\"\n",
    "        else:\n",
    "            return \"Access Denied \\U0000274E\"\n",
    "\n",
    "    return secure_access_message"
   ]
  },
  {
   "cell_type": "code",
   "execution_count": null,
   "id": "166f1766-92a3-4d50-a69e-e959ffcec0bf",
   "metadata": {},
   "outputs": [],
   "source": [
    "m = authenticator(\"anil\", \"1234\")"
   ]
  },
  {
   "cell_type": "code",
   "execution_count": null,
   "id": "d14bcde8-a242-4c87-87da-8985a5017178",
   "metadata": {},
   "outputs": [],
   "source": [
    "m()"
   ]
  },
  {
   "cell_type": "code",
   "execution_count": null,
   "id": "73d4f0a7-1ad8-4afc-9e20-bce94242725d",
   "metadata": {},
   "outputs": [],
   "source": [
    "m = authenticator(\"admin\", \"secure123\")"
   ]
  },
  {
   "cell_type": "code",
   "execution_count": null,
   "id": "f8de90ac-254b-4d60-aa18-08138380dac5",
   "metadata": {},
   "outputs": [],
   "source": [
    "m()"
   ]
  },
  {
   "cell_type": "markdown",
   "id": "f56d4f6a-100e-46d2-be3b-d2d41eec827a",
   "metadata": {},
   "source": [
    "### 10.11 Returning multiple values from the function"
   ]
  },
  {
   "cell_type": "code",
   "execution_count": null,
   "id": "1a07e4ee-451b-47d7-a46d-ad93fe1c687d",
   "metadata": {},
   "outputs": [],
   "source": [
    "# Write a function that takes a mix of numbers and categorizes them into positives, negatives, and zeros. \n",
    "# It should return the count of each category and their respective sums."
   ]
  },
  {
   "cell_type": "code",
   "execution_count": null,
   "id": "f356a2bc-35c1-4a0f-a2d8-d7e763a7b259",
   "metadata": {},
   "outputs": [],
   "source": [
    "L = [1, 2, 0, -1, -2]"
   ]
  },
  {
   "cell_type": "code",
   "execution_count": null,
   "id": "9a0d360b-4d4f-4118-bd21-772be3a1220f",
   "metadata": {},
   "outputs": [],
   "source": [
    "{ \"positives\" : (2, 3), \"zeros\" : (1, 0), \"negatives\" : (2, -3) }"
   ]
  },
  {
   "cell_type": "code",
   "execution_count": null,
   "id": "dc671b67-364e-497d-b88d-144c55ff222c",
   "metadata": {},
   "outputs": [],
   "source": [
    "N = [1, 2]"
   ]
  },
  {
   "cell_type": "code",
   "execution_count": null,
   "id": "c8c42f7a-9457-46f3-9c90-193fd7378f79",
   "metadata": {},
   "outputs": [],
   "source": [
    "len(N), sum(N)"
   ]
  },
  {
   "cell_type": "code",
   "execution_count": null,
   "id": "5d5396e7-6a7c-43ca-84e3-647a82fb318b",
   "metadata": {},
   "outputs": [],
   "source": [
    "[n for n in N if n > 0]"
   ]
  },
  {
   "cell_type": "code",
   "execution_count": null,
   "id": "3021ca1f-4578-4851-8312-78c78db4a166",
   "metadata": {},
   "outputs": [],
   "source": [
    "def getCat(*t):\n",
    "    positives = [n for n in t if n > 0]\n",
    "    negatives = [n for n in t if n < 0]\n",
    "    zeros     = [n for n in t if n == 0]\n",
    "\n",
    "    return { \"positives\" : (len(positives), sum(positives)), \\\n",
    "             \"zeros\" : (len(zeros), sum(zeros)), \\\n",
    "             \"negatives\" : (len(negatives), sum(negatives))\n",
    "    }"
   ]
  },
  {
   "cell_type": "code",
   "execution_count": null,
   "id": "9c153898-be91-49f0-b2d5-435db1f4b6c4",
   "metadata": {},
   "outputs": [],
   "source": [
    "import random\n",
    "L = [random.randint(-10, 10) for i in range(20)]\n",
    "L.append(0)\n",
    "L"
   ]
  },
  {
   "cell_type": "code",
   "execution_count": null,
   "id": "e59abace-053a-46f8-9213-1aa6eee8a578",
   "metadata": {},
   "outputs": [],
   "source": [
    "getCat(L)"
   ]
  },
  {
   "cell_type": "code",
   "execution_count": null,
   "id": "a6d1bad2-f9d2-4113-9d90-18b14741135d",
   "metadata": {},
   "outputs": [],
   "source": [
    "getCat(*L)"
   ]
  },
  {
   "cell_type": "markdown",
   "id": "c86744e9-9063-4932-b02b-4512c6738320",
   "metadata": {},
   "source": [
    "### 10.12 Recursive functions"
   ]
  },
  {
   "cell_type": "code",
   "execution_count": null,
   "id": "f689db99-4baa-4e7d-a032-1ab27f3f1d5f",
   "metadata": {},
   "outputs": [],
   "source": [
    "# Basic structure of any recursive function\n",
    "def rec(n):\n",
    "    if(n <= 0):\n",
    "        return\n",
    "    else:\n",
    "        print(n)\n",
    "        rec(n - 1)"
   ]
  },
  {
   "cell_type": "code",
   "execution_count": null,
   "id": "8bcee7ec-149c-4ef5-b20b-ca11b4b738ab",
   "metadata": {},
   "outputs": [],
   "source": [
    "rec(10)"
   ]
  },
  {
   "cell_type": "code",
   "execution_count": null,
   "id": "1d0b4cec-0f31-4d49-953e-0814454abf1b",
   "metadata": {},
   "outputs": [],
   "source": [
    "# Another example\n",
    "def rec2(L):\n",
    "    if(L == []):\n",
    "        return\n",
    "    else:\n",
    "        t = L.pop()\n",
    "        print(t)\n",
    "        rec2(L)"
   ]
  },
  {
   "cell_type": "code",
   "execution_count": null,
   "id": "7b380caf-4c14-4228-87f5-48ee28011045",
   "metadata": {},
   "outputs": [],
   "source": [
    "rec2([\"red\", \"green\", \"blue\"])"
   ]
  },
  {
   "cell_type": "code",
   "execution_count": null,
   "id": "0f026cfe-0425-4d49-915d-67ab8fa8a6fb",
   "metadata": {},
   "outputs": [],
   "source": [
    "# String reversal using recursion\n",
    "def revString(s):\n",
    "    if(len(s) == 0):\n",
    "        return s\n",
    "    print(f\"{s[-1]}, {s[:-1]}\")\n",
    "    return s[-1] + revString(s[:-1])"
   ]
  },
  {
   "cell_type": "code",
   "execution_count": null,
   "id": "c2d29e52-8e30-44b7-9276-f1d1f39c7e9f",
   "metadata": {},
   "outputs": [],
   "source": [
    "revString(\"apples\")"
   ]
  },
  {
   "cell_type": "code",
   "execution_count": null,
   "id": "47f8e443-c991-492f-8533-328fc7e98c97",
   "metadata": {},
   "outputs": [],
   "source": [
    "# join all strings in a list using recursion\n",
    "L = [\"mary\", \"had\", \"a\", \"little\", \"lamb\"]"
   ]
  },
  {
   "cell_type": "code",
   "execution_count": null,
   "id": "6bc35ceb-073f-49a5-88e2-7b689f6e6125",
   "metadata": {},
   "outputs": [],
   "source": [
    "def recJoin(L):\n",
    "    if len(L) == 1:\n",
    "        return L[0]\n",
    "    else:\n",
    "        return str(L[0]) + \" \" + recJoin(L[1:])"
   ]
  },
  {
   "cell_type": "code",
   "execution_count": null,
   "id": "4fb32503-f540-409b-baae-05a50587c08b",
   "metadata": {},
   "outputs": [],
   "source": [
    "recJoin(L)"
   ]
  },
  {
   "cell_type": "code",
   "execution_count": null,
   "id": "6f4ddc2e-f9bd-4403-903b-fb63092a7d44",
   "metadata": {},
   "outputs": [],
   "source": [
    "# Flattening a nested list\n",
    "def flattenList(nestedList):\n",
    "    flatList = []\n",
    "    for item in nestedList:\n",
    "        if isinstance(item, list):\n",
    "            flatList.extend(flattenList(item))\n",
    "        else:\n",
    "            flatList.append(item)\n",
    "    return flatList"
   ]
  },
  {
   "cell_type": "code",
   "execution_count": null,
   "id": "4bf10665-ae5f-495c-ba18-fa5a50e80f1b",
   "metadata": {},
   "outputs": [],
   "source": [
    "nested = [1, [2, [3, 4], 5], [6, 7], 8, 9, [10, [11, 12, [13]], 14], [15, 16], [17,18]]"
   ]
  },
  {
   "cell_type": "code",
   "execution_count": null,
   "id": "5cfe837e-3ad3-41a5-bd40-d585f1df94c1",
   "metadata": {},
   "outputs": [],
   "source": [
    "flattenList(nested)"
   ]
  },
  {
   "cell_type": "code",
   "execution_count": null,
   "id": "21268788-26a5-43bf-9f01-0860ec982cd8",
   "metadata": {},
   "outputs": [],
   "source": []
  }
 ],
 "metadata": {
  "kernelspec": {
   "display_name": "Python 3 (ipykernel)",
   "language": "python",
   "name": "python3"
  },
  "language_info": {
   "codemirror_mode": {
    "name": "ipython",
    "version": 3
   },
   "file_extension": ".py",
   "mimetype": "text/x-python",
   "name": "python",
   "nbconvert_exporter": "python",
   "pygments_lexer": "ipython3",
   "version": "3.12.7"
  }
 },
 "nbformat": 4,
 "nbformat_minor": 5
}
