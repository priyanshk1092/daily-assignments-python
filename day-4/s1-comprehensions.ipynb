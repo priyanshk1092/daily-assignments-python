{
 "cells": [
  {
   "cell_type": "markdown",
   "id": "ae03fb48-88cc-4733-bd18-958c916e384f",
   "metadata": {},
   "source": [
    "### Comprehensions"
   ]
  },
  {
   "cell_type": "code",
   "execution_count": null,
   "id": "1f397d76-6e26-450b-8b88-f09514cdf0b6",
   "metadata": {},
   "outputs": [],
   "source": [
    "N = list(range(100))"
   ]
  },
  {
   "cell_type": "code",
   "execution_count": null,
   "id": "ed2098a6-0f8d-4ec6-a2ac-b3c81ad40bf5",
   "metadata": {},
   "outputs": [],
   "source": [
    "N[:10]"
   ]
  },
  {
   "cell_type": "code",
   "execution_count": null,
   "id": "b6f06bc3-61fb-42de-819a-b8c513d810e0",
   "metadata": {},
   "outputs": [],
   "source": [
    "D = []\n",
    "for n in N:\n",
    "    if(n % 3 == 0):\n",
    "        D.append(n)\n",
    "D[:10]"
   ]
  },
  {
   "cell_type": "code",
   "execution_count": null,
   "id": "a641e829-da37-449b-9411-23bb582cb7b8",
   "metadata": {},
   "outputs": [],
   "source": [
    "[n for n in N if n % 3 == 0][:10]"
   ]
  },
  {
   "cell_type": "markdown",
   "id": "71495732-9ab0-415a-ac12-66943187f43e",
   "metadata": {},
   "source": [
    "##### Comprehensions are a way of creating or deriving collections using a compact syntax"
   ]
  },
  {
   "cell_type": "markdown",
   "id": "14f83ed3-1370-4db4-b310-ef003c6c6697",
   "metadata": {},
   "source": [
    "##### You can create all types of comprehensions -> [], (), {}"
   ]
  },
  {
   "cell_type": "markdown",
   "id": "ecd7c985-6433-4092-a744-c5234cb832ec",
   "metadata": {},
   "source": [
    "##### Formula -> [<expr> <loop> <condition>]"
   ]
  },
  {
   "cell_type": "markdown",
   "id": "b64277ce-f8d5-44a9-b575-8144d9e60747",
   "metadata": {},
   "source": [
    "Loop generated the value, the condition is evaluated, if the condition returns True, then expression will be evaluated and and it will be added to final collection"
   ]
  },
  {
   "attachments": {},
   "cell_type": "markdown",
   "id": "e308fceb-688c-4a51-a7b0-7fe415cfbba5",
   "metadata": {},
   "source": [
    "### Examples"
   ]
  },
  {
   "cell_type": "code",
   "execution_count": null,
   "id": "9b462521-b74b-4375-bfa9-7d34c72140d4",
   "metadata": {},
   "outputs": [],
   "source": [
    "list(n for n in range(20) if n % 2 == 0)"
   ]
  },
  {
   "cell_type": "code",
   "execution_count": null,
   "id": "71246f99-45a0-4472-8f86-1b08d024778e",
   "metadata": {},
   "outputs": [],
   "source": [
    "[n**2 for n in N if n in [2, 11, 23, 56, 78, 99]]"
   ]
  },
  {
   "cell_type": "code",
   "execution_count": null,
   "id": "65f231dd-f258-4df4-8652-e284cb767fb7",
   "metadata": {},
   "outputs": [],
   "source": [
    "[(n, n**2, n**3) for n in N if n in [2, 11, 23, 56, 78, 99]]"
   ]
  },
  {
   "cell_type": "code",
   "execution_count": null,
   "id": "e501f3c4-9d61-45b2-b934-edc08e63f430",
   "metadata": {},
   "outputs": [],
   "source": [
    "L = [\"red\", \"green\", \"blue\"]"
   ]
  },
  {
   "cell_type": "code",
   "execution_count": null,
   "id": "5e91cdfd-b9d7-47cc-9a79-a2c6f769352f",
   "metadata": {},
   "outputs": [],
   "source": [
    "{ s:len(s) for s in L }"
   ]
  },
  {
   "cell_type": "code",
   "execution_count": null,
   "id": "e403126e-1fcf-4f15-9180-6ff275ea1914",
   "metadata": {},
   "outputs": [],
   "source": [
    "M = N[:6]"
   ]
  },
  {
   "cell_type": "code",
   "execution_count": null,
   "id": "4c2bc642-aaab-4521-8db6-d3f0ff09cdd7",
   "metadata": {},
   "outputs": [],
   "source": [
    "M"
   ]
  },
  {
   "cell_type": "code",
   "execution_count": null,
   "id": "8661ec52-77c3-45af-8a19-14d4ffb115e2",
   "metadata": {},
   "outputs": [],
   "source": [
    "[x**2 for x in M if x in [1, 3, 5]]"
   ]
  },
  {
   "cell_type": "markdown",
   "id": "3d1e6c91-6e65-4663-999e-b514046a1aa4",
   "metadata": {},
   "source": [
    "<condition> is filtering in nature -> not helpful in retaining the values in this case"
   ]
  },
  {
   "cell_type": "code",
   "execution_count": null,
   "id": "f731b2cd-3e6c-45cf-bce1-a2859666fb32",
   "metadata": {},
   "outputs": [],
   "source": [
    "[ x**2 if x in [1, 3, 5] else x for x in M]"
   ]
  },
  {
   "cell_type": "code",
   "execution_count": null,
   "id": "75a0e282-2a82-49b9-806d-e1b8406441f2",
   "metadata": {},
   "outputs": [],
   "source": [
    "[ (x, y) for x in range(10) for y in range(10) if x + y == 11 ]"
   ]
  },
  {
   "cell_type": "code",
   "execution_count": null,
   "id": "fa799608-688a-4751-9709-7d9f9298bbce",
   "metadata": {},
   "outputs": [],
   "source": [
    "D = { \"red\": 3, \"green\": 4, \"blue\": 5 }"
   ]
  },
  {
   "cell_type": "code",
   "execution_count": null,
   "id": "d18ab04d-79e1-4eae-b276-6ce53ac6dd2f",
   "metadata": {},
   "outputs": [],
   "source": [
    "{ value:key for key, value in D.items() }"
   ]
  },
  {
   "cell_type": "code",
   "execution_count": null,
   "id": "f10eb143-5727-4251-94d4-adebb4c1440b",
   "metadata": {},
   "outputs": [],
   "source": [
    "D = { \"red\": 3, \"green\": 4, \"blue\": 5 }"
   ]
  },
  {
   "cell_type": "code",
   "execution_count": null,
   "id": "f0f61c1b-0905-4712-98b9-47787a51128c",
   "metadata": {},
   "outputs": [],
   "source": [
    "D.items()"
   ]
  },
  {
   "cell_type": "markdown",
   "id": "db8993b6-28d7-41e0-8a9c-170f723c0e82",
   "metadata": {},
   "source": [
    "### Exercise"
   ]
  },
  {
   "cell_type": "code",
   "execution_count": 66,
   "id": "b0b544c9-55bb-4a0b-a78a-8707b25a5bc4",
   "metadata": {},
   "outputs": [],
   "source": [
    "matrix = [[1, 2, 3], [4, 5, 6], [7, 8, 9]]"
   ]
  },
  {
   "cell_type": "code",
   "execution_count": 72,
   "id": "acfda173-545b-4851-99df-388646b7a150",
   "metadata": {},
   "outputs": [
    {
     "data": {
      "text/plain": [
       "[1, 2, 3, 4, 5, 6, 7, 8, 9]"
      ]
     },
     "execution_count": 72,
     "metadata": {},
     "output_type": "execute_result"
    }
   ],
   "source": [
    "[ i for L in matrix for i in L ]"
   ]
  },
  {
   "cell_type": "code",
   "execution_count": null,
   "id": "545183cc-477b-4249-9b09-f418415cbcac",
   "metadata": {},
   "outputs": [],
   "source": []
  },
  {
   "cell_type": "code",
   "execution_count": 74,
   "id": "f224e5ea-00a5-42de-9080-0a96084e571b",
   "metadata": {},
   "outputs": [],
   "source": [
    "text = \"Python is powerful, and python is easy to learn!\""
   ]
  },
  {
   "cell_type": "code",
   "execution_count": 76,
   "id": "cdb5df73-de06-4e82-b7e1-f1b144d34685",
   "metadata": {},
   "outputs": [],
   "source": [
    "import re"
   ]
  },
  {
   "cell_type": "code",
   "execution_count": 84,
   "id": "723f31ea-9f8a-4043-b065-0e2c93ba61ef",
   "metadata": {},
   "outputs": [],
   "source": [
    "cleaned_text = re.sub(r'[^\\s\\w]', ' ', text)"
   ]
  },
  {
   "cell_type": "code",
   "execution_count": 92,
   "id": "186022f5-dc27-4012-85c5-aafd68ed9d42",
   "metadata": {},
   "outputs": [
    {
     "data": {
      "text/plain": [
       "{'python': 6, 'is': 2, 'powerful': 8, 'and': 3, 'easy': 4, 'to': 2, 'learn': 5}"
      ]
     },
     "execution_count": 92,
     "metadata": {},
     "output_type": "execute_result"
    }
   ],
   "source": [
    "{word:len(word) for word in cleaned_text.lower().split()}"
   ]
  },
  {
   "cell_type": "markdown",
   "id": "84e75aa5-2f86-4bbc-bcc0-7d01a0d29757",
   "metadata": {},
   "source": [
    "{'python': 6, 'is': 2, 'easy': 4, 'powerful': 8, 'and': 3, 'to': 2, 'learn': 5}"
   ]
  }
 ],
 "metadata": {
  "kernelspec": {
   "display_name": "Python 3 (ipykernel)",
   "language": "python",
   "name": "python3"
  },
  "language_info": {
   "codemirror_mode": {
    "name": "ipython",
    "version": 3
   },
   "file_extension": ".py",
   "mimetype": "text/x-python",
   "name": "python",
   "nbconvert_exporter": "python",
   "pygments_lexer": "ipython3",
   "version": "3.12.7"
  }
 },
 "nbformat": 4,
 "nbformat_minor": 5
}
