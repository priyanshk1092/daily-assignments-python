{
 "cells": [
  {
   "cell_type": "markdown",
   "id": "bd4a3f2b-ae8e-4971-851b-985dcd8f8eb5",
   "metadata": {},
   "source": [
    "refer: https://docs.python.org/3/library/typing.html"
   ]
  },
  {
   "cell_type": "code",
   "execution_count": null,
   "id": "929b0843-6acf-4ffb-9a2f-3a320dc922f1",
   "metadata": {},
   "outputs": [],
   "source": []
  },
  {
   "cell_type": "code",
   "execution_count": 2,
   "id": "8f31169b-d1e7-439a-941c-d814c74e4de0",
   "metadata": {},
   "outputs": [],
   "source": [
    "def printData(name, age, addr):\n",
    "    print(name)\n",
    "    print(age)\n",
    "    print(addr)\n",
    "    return [name, age, addr]"
   ]
  },
  {
   "cell_type": "code",
   "execution_count": 4,
   "id": "39af328b-32be-4eba-bb2d-3f1bc7d120e0",
   "metadata": {},
   "outputs": [
    {
     "name": "stdout",
     "output_type": "stream",
     "text": [
      "Sunil\n",
      "35\n",
      "Bangalore\n"
     ]
    },
    {
     "data": {
      "text/plain": [
       "['Sunil', 35, 'Bangalore']"
      ]
     },
     "execution_count": 4,
     "metadata": {},
     "output_type": "execute_result"
    }
   ],
   "source": [
    "printData('Sunil', 35, 'Bangalore')"
   ]
  },
  {
   "cell_type": "code",
   "execution_count": 6,
   "id": "12eece7b-10ca-4ced-b653-9ed123c9c506",
   "metadata": {},
   "outputs": [],
   "source": [
    "def printData(name: str, age: int, addr: str) -> list:\n",
    "    print(name)\n",
    "    print(age)\n",
    "    print(addr)\n",
    "    return [name, age, addr]"
   ]
  },
  {
   "cell_type": "code",
   "execution_count": 10,
   "id": "cdea6df2-64d9-41d7-9824-8f0e7b56fb3e",
   "metadata": {},
   "outputs": [
    {
     "name": "stdout",
     "output_type": "stream",
     "text": [
      "35\n",
      "Anil\n",
      "Bangalore\n"
     ]
    },
    {
     "data": {
      "text/plain": [
       "[35, 'Anil', 'Bangalore']"
      ]
     },
     "execution_count": 10,
     "metadata": {},
     "output_type": "execute_result"
    }
   ],
   "source": [
    "printData(35, 'Anil', 'Bangalore')"
   ]
  },
  {
   "cell_type": "code",
   "execution_count": 12,
   "id": "b976c2f2-03db-486a-9142-597bae858dbd",
   "metadata": {},
   "outputs": [],
   "source": [
    "def printData(name: str, age: int, addr: str) -> list:\n",
    "    if not isinstance(name, str):\n",
    "        raise TypeError(f\"name must be str, got {type(name).__name__}\")\n",
    "    if not isinstance(age, int):\n",
    "        raise TypeError(f\"age must be int, got {type(age).__name__}\")\n",
    "    if not isinstance(addr, str):\n",
    "        raise TypeError(f\"addr must be str, got {type(addr).__name__}\")\n",
    "    \n",
    "    print(name)\n",
    "    print(age)\n",
    "    print(addr)\n",
    "    return [name, age, addr]\n"
   ]
  },
  {
   "cell_type": "code",
   "execution_count": 14,
   "id": "bbf755ac-055a-4e3d-9787-d4c872acc0c6",
   "metadata": {},
   "outputs": [
    {
     "ename": "TypeError",
     "evalue": "name must be str, got int",
     "output_type": "error",
     "traceback": [
      "\u001b[1;31m---------------------------------------------------------------------------\u001b[0m",
      "\u001b[1;31mTypeError\u001b[0m                                 Traceback (most recent call last)",
      "Cell \u001b[1;32mIn[14], line 1\u001b[0m\n\u001b[1;32m----> 1\u001b[0m printData(\u001b[38;5;241m35\u001b[39m, \u001b[38;5;124m'\u001b[39m\u001b[38;5;124mAnil\u001b[39m\u001b[38;5;124m'\u001b[39m, \u001b[38;5;124m'\u001b[39m\u001b[38;5;124mBangalore\u001b[39m\u001b[38;5;124m'\u001b[39m)\n",
      "Cell \u001b[1;32mIn[12], line 3\u001b[0m, in \u001b[0;36mprintData\u001b[1;34m(name, age, addr)\u001b[0m\n\u001b[0;32m      1\u001b[0m \u001b[38;5;28;01mdef\u001b[39;00m \u001b[38;5;21mprintData\u001b[39m(name: \u001b[38;5;28mstr\u001b[39m, age: \u001b[38;5;28mint\u001b[39m, addr: \u001b[38;5;28mstr\u001b[39m) \u001b[38;5;241m-\u001b[39m\u001b[38;5;241m>\u001b[39m \u001b[38;5;28mlist\u001b[39m:\n\u001b[0;32m      2\u001b[0m     \u001b[38;5;28;01mif\u001b[39;00m \u001b[38;5;129;01mnot\u001b[39;00m \u001b[38;5;28misinstance\u001b[39m(name, \u001b[38;5;28mstr\u001b[39m):\n\u001b[1;32m----> 3\u001b[0m         \u001b[38;5;28;01mraise\u001b[39;00m \u001b[38;5;167;01mTypeError\u001b[39;00m(\u001b[38;5;124mf\u001b[39m\u001b[38;5;124m\"\u001b[39m\u001b[38;5;124mname must be str, got \u001b[39m\u001b[38;5;132;01m{\u001b[39;00m\u001b[38;5;28mtype\u001b[39m(name)\u001b[38;5;241m.\u001b[39m\u001b[38;5;18m__name__\u001b[39m\u001b[38;5;132;01m}\u001b[39;00m\u001b[38;5;124m\"\u001b[39m)\n\u001b[0;32m      4\u001b[0m     \u001b[38;5;28;01mif\u001b[39;00m \u001b[38;5;129;01mnot\u001b[39;00m \u001b[38;5;28misinstance\u001b[39m(age, \u001b[38;5;28mint\u001b[39m):\n\u001b[0;32m      5\u001b[0m         \u001b[38;5;28;01mraise\u001b[39;00m \u001b[38;5;167;01mTypeError\u001b[39;00m(\u001b[38;5;124mf\u001b[39m\u001b[38;5;124m\"\u001b[39m\u001b[38;5;124mage must be int, got \u001b[39m\u001b[38;5;132;01m{\u001b[39;00m\u001b[38;5;28mtype\u001b[39m(age)\u001b[38;5;241m.\u001b[39m\u001b[38;5;18m__name__\u001b[39m\u001b[38;5;132;01m}\u001b[39;00m\u001b[38;5;124m\"\u001b[39m)\n",
      "\u001b[1;31mTypeError\u001b[0m: name must be str, got int"
     ]
    }
   ],
   "source": [
    "printData(35, 'Anil', 'Bangalore')"
   ]
  },
  {
   "cell_type": "markdown",
   "id": "735b3965-40e5-4d1c-b647-c8459fd58f28",
   "metadata": {},
   "source": [
    "### pydantic"
   ]
  },
  {
   "cell_type": "code",
   "execution_count": 17,
   "id": "7a8522bf-5585-4a2a-a081-9b40ffebd1ea",
   "metadata": {},
   "outputs": [],
   "source": [
    "from pydantic import BaseModel"
   ]
  },
  {
   "cell_type": "code",
   "execution_count": 19,
   "id": "2481c48b-99f0-4d19-944a-6e7a98ad7d99",
   "metadata": {},
   "outputs": [],
   "source": [
    "class Person(BaseModel):\n",
    "    name: str\n",
    "    age: int\n",
    "    addr: str"
   ]
  },
  {
   "cell_type": "code",
   "execution_count": 21,
   "id": "daa4bbcd-074d-4088-a7e6-3c60f698788d",
   "metadata": {},
   "outputs": [
    {
     "data": {
      "text/plain": [
       "Person(name='Anil', age=30, addr='Hyderabad')"
      ]
     },
     "execution_count": 21,
     "metadata": {},
     "output_type": "execute_result"
    }
   ],
   "source": [
    "p = Person(name=\"Anil\", age=30, addr=\"Hyderabad\")\n",
    "p"
   ]
  },
  {
   "cell_type": "code",
   "execution_count": 23,
   "id": "9ea13ca2-019a-4db5-afdc-250821d75192",
   "metadata": {},
   "outputs": [
    {
     "data": {
      "text/plain": [
       "Person(name='Anil', age=30, addr='Hyderabad')"
      ]
     },
     "execution_count": 23,
     "metadata": {},
     "output_type": "execute_result"
    }
   ],
   "source": [
    "p = Person(name=\"Anil\", age='30', addr=\"Hyderabad\")\n",
    "p"
   ]
  },
  {
   "cell_type": "markdown",
   "id": "0ce31ba1-7441-4a82-b537-5801f7548b4d",
   "metadata": {},
   "source": [
    "##### pydantic enforces types whereever possible"
   ]
  },
  {
   "cell_type": "code",
   "execution_count": 26,
   "id": "488d11c1-387c-462d-b88f-ac2e0a0cfc1b",
   "metadata": {},
   "outputs": [
    {
     "ename": "ValidationError",
     "evalue": "1 validation error for Person\nage\n  Input should be a valid integer, unable to parse string as an integer [type=int_parsing, input_value='thirty', input_type=str]\n    For further information visit https://errors.pydantic.dev/2.8/v/int_parsing",
     "output_type": "error",
     "traceback": [
      "\u001b[1;31m---------------------------------------------------------------------------\u001b[0m",
      "\u001b[1;31mValidationError\u001b[0m                           Traceback (most recent call last)",
      "Cell \u001b[1;32mIn[26], line 1\u001b[0m\n\u001b[1;32m----> 1\u001b[0m p \u001b[38;5;241m=\u001b[39m Person(name\u001b[38;5;241m=\u001b[39m\u001b[38;5;124m\"\u001b[39m\u001b[38;5;124mAnil\u001b[39m\u001b[38;5;124m\"\u001b[39m, age\u001b[38;5;241m=\u001b[39m\u001b[38;5;124m'\u001b[39m\u001b[38;5;124mthirty\u001b[39m\u001b[38;5;124m'\u001b[39m, addr\u001b[38;5;241m=\u001b[39m\u001b[38;5;124m\"\u001b[39m\u001b[38;5;124mHyderabad\u001b[39m\u001b[38;5;124m\"\u001b[39m)\n\u001b[0;32m      2\u001b[0m p\n",
      "File \u001b[1;32m~\\anaconda3\\Lib\\site-packages\\pydantic\\main.py:193\u001b[0m, in \u001b[0;36mBaseModel.__init__\u001b[1;34m(self, **data)\u001b[0m\n\u001b[0;32m    191\u001b[0m \u001b[38;5;66;03m# `__tracebackhide__` tells pytest and some other tools to omit this function from tracebacks\u001b[39;00m\n\u001b[0;32m    192\u001b[0m __tracebackhide__ \u001b[38;5;241m=\u001b[39m \u001b[38;5;28;01mTrue\u001b[39;00m\n\u001b[1;32m--> 193\u001b[0m \u001b[38;5;28mself\u001b[39m\u001b[38;5;241m.\u001b[39m__pydantic_validator__\u001b[38;5;241m.\u001b[39mvalidate_python(data, self_instance\u001b[38;5;241m=\u001b[39m\u001b[38;5;28mself\u001b[39m)\n",
      "\u001b[1;31mValidationError\u001b[0m: 1 validation error for Person\nage\n  Input should be a valid integer, unable to parse string as an integer [type=int_parsing, input_value='thirty', input_type=str]\n    For further information visit https://errors.pydantic.dev/2.8/v/int_parsing"
     ]
    }
   ],
   "source": [
    "p = Person(name=\"Anil\", age='thirty', addr=\"Hyderabad\")\n",
    "p"
   ]
  },
  {
   "cell_type": "code",
   "execution_count": 28,
   "id": "4a9647ab-2d04-4a9b-bae7-f9463bc9f775",
   "metadata": {},
   "outputs": [
    {
     "data": {
      "text/plain": [
       "('Anil', 30, 'Hyderabad')"
      ]
     },
     "execution_count": 28,
     "metadata": {},
     "output_type": "execute_result"
    }
   ],
   "source": [
    "p.name, p.age, p.addr"
   ]
  },
  {
   "cell_type": "markdown",
   "id": "611d1666-0ef5-4b56-aaa0-57e2afe6e7e8",
   "metadata": {},
   "source": [
    "##### Using pydantic models can ensure data is passed into the functions properly"
   ]
  },
  {
   "cell_type": "code",
   "execution_count": 31,
   "id": "460478e7-30c9-4057-ab25-0a7c9b279642",
   "metadata": {},
   "outputs": [],
   "source": [
    "def printData(person):\n",
    "    print(person.name)\n",
    "    print(person.age)\n",
    "    print(person.addr)\n",
    "    return [person.name, person.age, person.addr]"
   ]
  },
  {
   "cell_type": "code",
   "execution_count": 33,
   "id": "64871553-1947-4e45-8be4-9a778078f316",
   "metadata": {},
   "outputs": [
    {
     "name": "stdout",
     "output_type": "stream",
     "text": [
      "Anil\n",
      "30\n",
      "Hyderabad\n"
     ]
    },
    {
     "data": {
      "text/plain": [
       "['Anil', 30, 'Hyderabad']"
      ]
     },
     "execution_count": 33,
     "metadata": {},
     "output_type": "execute_result"
    }
   ],
   "source": [
    "printData(p)  # p is a pydantic object"
   ]
  },
  {
   "cell_type": "code",
   "execution_count": null,
   "id": "2cb79451-adb7-45ba-bda3-03074e85b5bb",
   "metadata": {},
   "outputs": [],
   "source": []
  }
 ],
 "metadata": {
  "kernelspec": {
   "display_name": "Python 3 (ipykernel)",
   "language": "python",
   "name": "python3"
  },
  "language_info": {
   "codemirror_mode": {
    "name": "ipython",
    "version": 3
   },
   "file_extension": ".py",
   "mimetype": "text/x-python",
   "name": "python",
   "nbconvert_exporter": "python",
   "pygments_lexer": "ipython3",
   "version": "3.12.7"
  }
 },
 "nbformat": 4,
 "nbformat_minor": 5
}
