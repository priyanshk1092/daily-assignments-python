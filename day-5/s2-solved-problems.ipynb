{
 "cells": [
  {
   "cell_type": "markdown",
   "id": "9e1080af-ab8d-460e-8e57-0bfa20a67b38",
   "metadata": {},
   "source": [
    "### Problem #1"
   ]
  },
  {
   "cell_type": "markdown",
   "id": "a5d327c3-f26e-4a24-a9ff-5fbfd4a2bced",
   "metadata": {},
   "source": [
    "Write a python function to merge two dictionaries\n",
    "   Example: d1 = { 'a': 20, 'b': 30 }\n",
    "            d2 = { 'b': 40, 'c': 50 }\n",
    "            Output -> { 'a' : 20, 'b':70, 'c' : 50 }\n",
    "    Merge rules: Numbers -> add\n",
    "                 Strings -> concatenate\n",
    "                 List, set -> Merge\n",
    "                 Tuple -> List of tuples\n",
    "                 Dictionary -> Merge"
   ]
  },
  {
   "cell_type": "code",
   "execution_count": 14,
   "id": "797436a6-0bbe-4bb6-9128-8fb50e37f271",
   "metadata": {},
   "outputs": [],
   "source": [
    "def merge_dicts(d1, d2):\n",
    "\n",
    "    result = d1\n",
    "    for k, v in d2.items():\n",
    "\n",
    "        if k in result:\n",
    "\n",
    "            if isinstance(result[k], (int, float)) and isinstance(v, (int, float)):\n",
    "                result[k] += v\n",
    "    \n",
    "            elif isinstance(result[k], str) and isinstance(v, str):\n",
    "                result[k] += v\n",
    "    \n",
    "            elif isinstance(result[k], list) and isinstance(v, list):\n",
    "                result[k] += v\n",
    "    \n",
    "            elif isinstance(result[k], set) and isinstance(v, set):\n",
    "                result[k] = result[k].union(v)\n",
    "    \n",
    "            elif isinstance(result[k], tuple) and isinstance(v, tuple):\n",
    "                result[k] = tuple(list(result[k]) + list(v))\n",
    "    \n",
    "            elif isinstance(result[k], dict) and isinstance(v, dict):\n",
    "                result[k] =  merge_dicts(result[k], v)\n",
    "    \n",
    "            else:\n",
    "                result[k] = [result[k], v]\n",
    "                \n",
    "        else:\n",
    "            result[k] = v\n",
    "\n",
    "    return result\n",
    "        "
   ]
  },
  {
   "cell_type": "code",
   "execution_count": null,
   "id": "98636f2c-f3d8-4ee3-904d-37a884d4e210",
   "metadata": {},
   "outputs": [],
   "source": []
  },
  {
   "cell_type": "code",
   "execution_count": 2,
   "id": "aaf7c06f-de76-4bbe-9249-9a23a857eb05",
   "metadata": {},
   "outputs": [],
   "source": [
    "t1 = (1, 2, 3)\n",
    "t2 = (4, 5, 6)"
   ]
  },
  {
   "cell_type": "code",
   "execution_count": 12,
   "id": "65d7ddd0-35f6-4216-bb59-1588cde58ee9",
   "metadata": {},
   "outputs": [
    {
     "data": {
      "text/plain": [
       "(1, 2, 3, 4, 5, 6)"
      ]
     },
     "execution_count": 12,
     "metadata": {},
     "output_type": "execute_result"
    }
   ],
   "source": [
    "tuple(list(t1) + list(t2))"
   ]
  },
  {
   "cell_type": "code",
   "execution_count": 24,
   "id": "3029216e-e2cf-4b93-ac0e-dd63090191f9",
   "metadata": {},
   "outputs": [],
   "source": [
    "d1 = { 'a': 20, 'b': [30] }\n",
    "d2 = { 'b': [40], 'c': 50, 'e':100 }"
   ]
  },
  {
   "cell_type": "code",
   "execution_count": 26,
   "id": "0c643def-ee2a-4927-abf9-2c39c5df1e77",
   "metadata": {},
   "outputs": [
    {
     "data": {
      "text/plain": [
       "{'a': 20, 'b': [30, 40], 'c': 50, 'e': 100}"
      ]
     },
     "execution_count": 26,
     "metadata": {},
     "output_type": "execute_result"
    }
   ],
   "source": [
    "merge_dicts(d1, d2)"
   ]
  },
  {
   "cell_type": "markdown",
   "id": "8ff0a589-6400-4124-99bb-a38c343bddd6",
   "metadata": {},
   "source": [
    "##### Test this function with atleast 10 testcases"
   ]
  },
  {
   "cell_type": "code",
   "execution_count": null,
   "id": "7a9d47ae-8ba9-43c2-aea3-3a8b7ed25d7c",
   "metadata": {},
   "outputs": [],
   "source": []
  },
  {
   "cell_type": "code",
   "execution_count": null,
   "id": "5536a65a-6a8a-48f2-9fa0-bab93158c446",
   "metadata": {},
   "outputs": [],
   "source": []
  },
  {
   "cell_type": "code",
   "execution_count": null,
   "id": "fef0680c-f643-4f5c-8816-6c866ef46011",
   "metadata": {},
   "outputs": [],
   "source": []
  },
  {
   "cell_type": "code",
   "execution_count": null,
   "id": "b44bee15-4a97-4ff3-b1e5-b538439fff9b",
   "metadata": {},
   "outputs": [],
   "source": []
  },
  {
   "cell_type": "markdown",
   "id": "23ae83c9-b4c6-4590-8e7a-1254f2714e73",
   "metadata": {},
   "source": [
    "### Problem #2"
   ]
  },
  {
   "cell_type": "markdown",
   "id": "fece0e0b-4862-4d11-95c9-6fd964c838f7",
   "metadata": {},
   "source": [
    "Write a function to find the second largest number in the list\n",
    "   Example: Input <- [34, 56, 67, 43]\n",
    "            Outupt -> 56"
   ]
  },
  {
   "cell_type": "code",
   "execution_count": 56,
   "id": "f9fc56ac-d553-443b-a501-ffcad09645d5",
   "metadata": {},
   "outputs": [],
   "source": [
    "from copy import deepcopy\n",
    "\n",
    "def second_largest(L: list) -> (int, float):\n",
    "    temp = deepcopy(L)\n",
    "    temp.sort()\n",
    "    return temp[-2]"
   ]
  },
  {
   "cell_type": "code",
   "execution_count": 58,
   "id": "f6814719-1cf1-40ef-b789-fa0ac893bcd7",
   "metadata": {},
   "outputs": [
    {
     "data": {
      "text/plain": [
       "56"
      ]
     },
     "execution_count": 58,
     "metadata": {},
     "output_type": "execute_result"
    }
   ],
   "source": [
    "second_largest([34, 56, 67, 43])"
   ]
  },
  {
   "cell_type": "markdown",
   "id": "674315e8-2456-4cb5-a835-8a35261f61d7",
   "metadata": {},
   "source": [
    "##### Can you identify the failure case for the above second_largest()?"
   ]
  },
  {
   "cell_type": "code",
   "execution_count": null,
   "id": "d828edc9-e81a-4cde-908a-991bdd46bdd6",
   "metadata": {},
   "outputs": [],
   "source": []
  },
  {
   "cell_type": "code",
   "execution_count": null,
   "id": "d2fd6b29-7045-47b5-8acc-19220992228d",
   "metadata": {},
   "outputs": [],
   "source": []
  },
  {
   "cell_type": "markdown",
   "id": "16f89529-4021-44ab-91a3-ada791f3ec2c",
   "metadata": {},
   "source": [
    "##### List copying"
   ]
  },
  {
   "cell_type": "code",
   "execution_count": 31,
   "id": "a0f1c533-6314-4dd8-81ce-ed718cc7daa7",
   "metadata": {},
   "outputs": [],
   "source": [
    "L = [\"red\", \"green\", \"blue\"]"
   ]
  },
  {
   "cell_type": "code",
   "execution_count": 33,
   "id": "7782c6ee-9348-487c-9f3a-02704347eba1",
   "metadata": {},
   "outputs": [],
   "source": [
    "M = L"
   ]
  },
  {
   "cell_type": "code",
   "execution_count": 35,
   "id": "072f17ee-4283-4e3f-9408-857da9cc6319",
   "metadata": {},
   "outputs": [
    {
     "data": {
      "text/plain": [
       "['red', 'green', 'blue']"
      ]
     },
     "execution_count": 35,
     "metadata": {},
     "output_type": "execute_result"
    }
   ],
   "source": [
    "M"
   ]
  },
  {
   "cell_type": "code",
   "execution_count": 37,
   "id": "b66fc495-5413-440a-9444-fe50f3493bf7",
   "metadata": {},
   "outputs": [],
   "source": [
    "M.append(\"yellow\")"
   ]
  },
  {
   "cell_type": "code",
   "execution_count": 39,
   "id": "0cead002-a167-45be-9019-5d13b92051d1",
   "metadata": {},
   "outputs": [
    {
     "data": {
      "text/plain": [
       "['red', 'green', 'blue', 'yellow']"
      ]
     },
     "execution_count": 39,
     "metadata": {},
     "output_type": "execute_result"
    }
   ],
   "source": [
    "M"
   ]
  },
  {
   "cell_type": "code",
   "execution_count": 41,
   "id": "1ef68466-7310-42c9-898a-03b2fa3278ea",
   "metadata": {},
   "outputs": [
    {
     "data": {
      "text/plain": [
       "['red', 'green', 'blue', 'yellow']"
      ]
     },
     "execution_count": 41,
     "metadata": {},
     "output_type": "execute_result"
    }
   ],
   "source": [
    "L"
   ]
  },
  {
   "cell_type": "markdown",
   "id": "1679f2ed-e98f-43b8-8288-131c5139c836",
   "metadata": {},
   "source": [
    "##### Using deepcopy"
   ]
  },
  {
   "cell_type": "code",
   "execution_count": 44,
   "id": "4b4849e6-09b2-4a89-a1cc-53b96dea3199",
   "metadata": {},
   "outputs": [],
   "source": [
    "L = [\"red\", \"green\", \"blue\"]"
   ]
  },
  {
   "cell_type": "code",
   "execution_count": 46,
   "id": "b76a2096-1fcc-466b-a07c-d87e5ad93ed2",
   "metadata": {},
   "outputs": [],
   "source": [
    "from copy import deepcopy"
   ]
  },
  {
   "cell_type": "code",
   "execution_count": 48,
   "id": "66a13962-4c30-4305-a5ee-bf0b48ea81f0",
   "metadata": {},
   "outputs": [],
   "source": [
    "M = deepcopy(L)"
   ]
  },
  {
   "cell_type": "code",
   "execution_count": 50,
   "id": "b7b862a4-ced3-458c-b821-7b53e173dc28",
   "metadata": {},
   "outputs": [],
   "source": [
    "M.append(\"Yellow\")"
   ]
  },
  {
   "cell_type": "code",
   "execution_count": 52,
   "id": "ee07a1ec-05fe-4a24-8db5-3ec4c44c43b2",
   "metadata": {},
   "outputs": [
    {
     "data": {
      "text/plain": [
       "['red', 'green', 'blue', 'Yellow']"
      ]
     },
     "execution_count": 52,
     "metadata": {},
     "output_type": "execute_result"
    }
   ],
   "source": [
    "M"
   ]
  },
  {
   "cell_type": "code",
   "execution_count": 54,
   "id": "74ff9b85-f981-4778-a356-93693463c99d",
   "metadata": {},
   "outputs": [
    {
     "data": {
      "text/plain": [
       "['red', 'green', 'blue']"
      ]
     },
     "execution_count": 54,
     "metadata": {},
     "output_type": "execute_result"
    }
   ],
   "source": [
    "L"
   ]
  },
  {
   "cell_type": "markdown",
   "id": "56c672de-5374-47d9-831b-2662218c9892",
   "metadata": {},
   "source": [
    "##### Solving by keeping track of two values"
   ]
  },
  {
   "cell_type": "code",
   "execution_count": 63,
   "id": "756fd8d6-8bbb-4c96-98e7-39f8f9276ee9",
   "metadata": {},
   "outputs": [
    {
     "name": "stdout",
     "output_type": "stream",
     "text": [
      "56\n"
     ]
    }
   ],
   "source": [
    "L = [34, 56, 67, 43]\n",
    "first = float('-inf')\n",
    "second = float('-inf')\n",
    "\n",
    "for n in L:\n",
    "    if n > first:\n",
    "        second = first\n",
    "        first = n\n",
    "    elif first > n > second:\n",
    "        second = n\n",
    "\n",
    "print(second)"
   ]
  },
  {
   "cell_type": "markdown",
   "id": "f63572b4-c515-4ea5-a483-b6ae41065138",
   "metadata": {},
   "source": [
    "### Problem #3"
   ]
  },
  {
   "cell_type": "markdown",
   "id": "0bb8472e-0a71-467b-8636-1c58214bbaa5",
   "metadata": {},
   "source": [
    "Write a function that takes any number of lists and returns a list of elements that are common to all.\n",
    "\n",
    "    # Example usage:\n",
    "    list1 = [1, 2, 3, 4, 5]\n",
    "    list2 = [2, 3, 5, 7, 9]\n",
    "    list3 = [1, 2, 5, 8, 10]\n",
    "\n",
    "    print(find_common(list1, list2, list3))"
   ]
  },
  {
   "cell_type": "code",
   "execution_count": 66,
   "id": "b3288973-9f32-4e8a-b6ed-662445010fc2",
   "metadata": {},
   "outputs": [],
   "source": [
    "list1 = [1, 2, 3, 4, 5]\n",
    "list2 = [2, 3, 5, 7, 9]\n",
    "list3 = [1, 2, 5, 8, 10]"
   ]
  },
  {
   "cell_type": "code",
   "execution_count": 90,
   "id": "5a181a77-8f0a-47eb-a9e7-ad3aab06c30c",
   "metadata": {},
   "outputs": [],
   "source": [
    "def find_common(*L):\n",
    "    if not L:\n",
    "        return []\n",
    "    common = set(L[0])\n",
    "    for l in L[1:]:\n",
    "        print('L = ',l)\n",
    "        #common.intersection(set(l))\n",
    "        common &= set(l)\n",
    "        print('U = ',common)\n",
    "    return common"
   ]
  },
  {
   "cell_type": "code",
   "execution_count": 92,
   "id": "5f96bf94-188c-44bf-8c38-8f888be0e0f4",
   "metadata": {},
   "outputs": [
    {
     "name": "stdout",
     "output_type": "stream",
     "text": [
      "L =  [2, 3, 5, 7, 9]\n",
      "U =  {2, 3, 5}\n",
      "L =  [1, 2, 5, 8, 10]\n",
      "U =  {2, 5}\n",
      "{2, 5}\n"
     ]
    }
   ],
   "source": [
    "print(find_common(list1, list2, list3))"
   ]
  },
  {
   "cell_type": "code",
   "execution_count": 88,
   "id": "d624a729-c8c1-467a-bc4e-3137203f47a9",
   "metadata": {},
   "outputs": [
    {
     "data": {
      "text/plain": [
       "{2, 3, 5}"
      ]
     },
     "execution_count": 88,
     "metadata": {},
     "output_type": "execute_result"
    }
   ],
   "source": [
    "L = set(list1)\n",
    "L.intersection(set(list2))"
   ]
  },
  {
   "cell_type": "markdown",
   "id": "3878c38b-70aa-493b-abf6-04f0653fda8b",
   "metadata": {},
   "source": [
    "### Problem #4"
   ]
  },
  {
   "cell_type": "markdown",
   "id": "2f3865cf-dc41-43d3-a62c-07a8602265c5",
   "metadata": {},
   "source": [
    "Write a recursive function to calculate the factorial of N"
   ]
  },
  {
   "cell_type": "code",
   "execution_count": 97,
   "id": "d58b6e83-3124-4620-bf20-1369c08bb648",
   "metadata": {},
   "outputs": [],
   "source": [
    "def factorial(n):\n",
    "    if n == 1:\n",
    "        return 1\n",
    "    else:\n",
    "        return n * factorial(n - 1)"
   ]
  },
  {
   "cell_type": "code",
   "execution_count": 101,
   "id": "e4fc3481-94fe-4560-942e-083b1fcd371b",
   "metadata": {},
   "outputs": [
    {
     "data": {
      "text/plain": [
       "120"
      ]
     },
     "execution_count": 101,
     "metadata": {},
     "output_type": "execute_result"
    }
   ],
   "source": [
    "factorial(5)"
   ]
  },
  {
   "cell_type": "code",
   "execution_count": null,
   "id": "644bf1fa-1775-4193-a069-6445ba2f0da8",
   "metadata": {},
   "outputs": [],
   "source": []
  }
 ],
 "metadata": {
  "kernelspec": {
   "display_name": "Python 3 (ipykernel)",
   "language": "python",
   "name": "python3"
  },
  "language_info": {
   "codemirror_mode": {
    "name": "ipython",
    "version": 3
   },
   "file_extension": ".py",
   "mimetype": "text/x-python",
   "name": "python",
   "nbconvert_exporter": "python",
   "pygments_lexer": "ipython3",
   "version": "3.12.7"
  }
 },
 "nbformat": 4,
 "nbformat_minor": 5
}
