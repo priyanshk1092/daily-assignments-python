{
 "cells": [
  {
   "cell_type": "code",
   "execution_count": null,
   "id": "d9fcc9d1-06b3-41e6-845f-29b56ac7d210",
   "metadata": {},
   "outputs": [],
   "source": [
    "Opening and closing -> open(), close()\n",
    "Modes -> r, w, a, (b, ....)\n",
    "reading -> read(), readline(), readlines()\n",
    "writing -> write(), writelines()\n",
    "other functions -> seek(), tell()\n",
    "attributes -> f.mode, f.name, f.closed. f.encoding, f.newlines"
   ]
  },
  {
   "cell_type": "code",
   "execution_count": null,
   "id": "deef673b-51eb-405a-b0e5-604cb61a5c3d",
   "metadata": {},
   "outputs": [],
   "source": []
  },
  {
   "cell_type": "code",
   "execution_count": null,
   "id": "f442a840-333d-4e82-8c91-17831c1fc72f",
   "metadata": {},
   "outputs": [],
   "source": [
    "path = \"C:\\mindful-ai\\ust-global-python-fs\\day-5\\sample.txt\""
   ]
  },
  {
   "cell_type": "code",
   "execution_count": null,
   "id": "2553be15-6db7-4a86-83d2-6a50cdeac097",
   "metadata": {},
   "outputs": [],
   "source": [
    "path = \"c:\\text\\data\\new\\read\\time.txt\""
   ]
  },
  {
   "cell_type": "code",
   "execution_count": null,
   "id": "81938882-b499-4894-9fda-27ee5c1106d8",
   "metadata": {},
   "outputs": [],
   "source": [
    "print(\"c:\\text\\data\\new\\read\\time.txt\")"
   ]
  },
  {
   "cell_type": "code",
   "execution_count": null,
   "id": "12aadb94-6e8a-447f-9624-79fcc59fff5f",
   "metadata": {},
   "outputs": [],
   "source": [
    "path = r\"C:\\mindful-ai\\ust-global-python-fs\\day-5\\sample.txt\""
   ]
  },
  {
   "cell_type": "markdown",
   "id": "1b96ba72-81cd-4ad4-a33a-8f815816d9e5",
   "metadata": {},
   "source": [
    "### Read from a file"
   ]
  },
  {
   "cell_type": "code",
   "execution_count": null,
   "id": "824adf70-974c-4805-a7a1-97f90679c8f4",
   "metadata": {},
   "outputs": [],
   "source": [
    "f = open(path, 'r')"
   ]
  },
  {
   "cell_type": "code",
   "execution_count": null,
   "id": "f40e2405-5c31-4bdb-a01d-5c3f253b1967",
   "metadata": {},
   "outputs": [],
   "source": [
    "f.mode"
   ]
  },
  {
   "cell_type": "code",
   "execution_count": null,
   "id": "09d3b6fa-1525-4ced-aadb-e60e62c75f97",
   "metadata": {},
   "outputs": [],
   "source": [
    "f.encoding"
   ]
  },
  {
   "cell_type": "code",
   "execution_count": null,
   "id": "a517ee9f-a89e-45a8-a96e-4bb13543154b",
   "metadata": {},
   "outputs": [],
   "source": [
    "f.name"
   ]
  },
  {
   "cell_type": "code",
   "execution_count": null,
   "id": "046e4137-64e6-42b4-b841-55c1bd387523",
   "metadata": {},
   "outputs": [],
   "source": [
    "data = f.read()"
   ]
  },
  {
   "cell_type": "code",
   "execution_count": null,
   "id": "944bcc9d-e410-4a05-9531-f9ae8efa9f75",
   "metadata": {},
   "outputs": [],
   "source": [
    "print(data)"
   ]
  },
  {
   "cell_type": "code",
   "execution_count": null,
   "id": "c7bf6562-102a-4353-8122-a6bdb97c7554",
   "metadata": {},
   "outputs": [],
   "source": [
    "f.readline()"
   ]
  },
  {
   "cell_type": "code",
   "execution_count": null,
   "id": "4979d2e0-1ab8-4a61-9cb6-caf879d136e2",
   "metadata": {},
   "outputs": [],
   "source": [
    "f.tell()"
   ]
  },
  {
   "cell_type": "code",
   "execution_count": null,
   "id": "f2b4688b-d019-4a20-890c-90d3e4cbfaac",
   "metadata": {},
   "outputs": [],
   "source": [
    "len(data)"
   ]
  },
  {
   "cell_type": "code",
   "execution_count": null,
   "id": "cd1e4fcf-d1ec-4123-b2fc-2945325721fd",
   "metadata": {},
   "outputs": [],
   "source": [
    "f.seek(0)"
   ]
  },
  {
   "cell_type": "code",
   "execution_count": null,
   "id": "7de3184b-71b1-407a-8f07-ec284026c3c5",
   "metadata": {},
   "outputs": [],
   "source": [
    "f.readline()"
   ]
  },
  {
   "cell_type": "code",
   "execution_count": null,
   "id": "309fecb5-d956-45c2-b6cf-aff9b1252758",
   "metadata": {},
   "outputs": [],
   "source": [
    "f.readline()"
   ]
  },
  {
   "cell_type": "code",
   "execution_count": null,
   "id": "c741b894-0cd2-4279-8395-0a98a3a3ad39",
   "metadata": {},
   "outputs": [],
   "source": [
    "f.read(100)"
   ]
  },
  {
   "cell_type": "code",
   "execution_count": null,
   "id": "f7b03490-1850-45f0-8b5f-7a5d8219e219",
   "metadata": {},
   "outputs": [],
   "source": [
    "f.seek(0)"
   ]
  },
  {
   "cell_type": "code",
   "execution_count": null,
   "id": "32d34f6a-38aa-4839-a6d6-dbef50c9c5eb",
   "metadata": {},
   "outputs": [],
   "source": [
    "content = f.readlines()\n",
    "content"
   ]
  },
  {
   "cell_type": "code",
   "execution_count": null,
   "id": "4e821223-3141-4f7c-b376-65c40f75dc16",
   "metadata": {},
   "outputs": [],
   "source": [
    "content[4:10]"
   ]
  },
  {
   "cell_type": "code",
   "execution_count": null,
   "id": "b0bf0290-9a8b-411e-8a05-222b863afd83",
   "metadata": {},
   "outputs": [],
   "source": [
    "f.close()"
   ]
  },
  {
   "cell_type": "markdown",
   "id": "e3194246-05ec-4986-bd18-89418daa8c65",
   "metadata": {},
   "source": [
    "### Write to a file"
   ]
  },
  {
   "cell_type": "code",
   "execution_count": null,
   "id": "4ce26869-234b-46b6-ab1b-607b920ae62a",
   "metadata": {},
   "outputs": [],
   "source": [
    "path = r\"C:\\mindful-ai\\ust-global-python-fs\\day-5\\sample2.txt\""
   ]
  },
  {
   "cell_type": "code",
   "execution_count": null,
   "id": "58497e87-bbb0-4be3-8f9f-1e2a106423b8",
   "metadata": {},
   "outputs": [],
   "source": [
    "f = open(path, 'w')"
   ]
  },
  {
   "cell_type": "code",
   "execution_count": null,
   "id": "8ef797fa-5c11-4a9c-bb26-21f52eba890b",
   "metadata": {},
   "outputs": [],
   "source": [
    "f.write(\"Song:   Believer\\n\")\n",
    "f.write(\"Artist: Imagine Dragons\\n\")\n",
    "f.write(\"-\"*80 + \"\\n\")"
   ]
  },
  {
   "cell_type": "code",
   "execution_count": null,
   "id": "8b10dd59-06c9-40c1-ab93-d3085b68892a",
   "metadata": {},
   "outputs": [],
   "source": [
    "f.close()"
   ]
  },
  {
   "cell_type": "code",
   "execution_count": null,
   "id": "4509f3bd-a6f9-48ef-b745-bbdde08f1883",
   "metadata": {},
   "outputs": [],
   "source": [
    "f = open(path, 'a')"
   ]
  },
  {
   "cell_type": "code",
   "execution_count": null,
   "id": "c26594fb-2831-4d8f-bb7b-2d16be6db116",
   "metadata": {},
   "outputs": [],
   "source": [
    "f.writelines(content)"
   ]
  },
  {
   "cell_type": "code",
   "execution_count": null,
   "id": "4f99a4cb-3d7b-414b-a4f0-83fb608039d1",
   "metadata": {},
   "outputs": [],
   "source": [
    "f.close()"
   ]
  },
  {
   "cell_type": "markdown",
   "id": "d91cb44c-0c81-47e9-9400-035eaec9ed76",
   "metadata": {},
   "source": [
    "### Exercise"
   ]
  },
  {
   "cell_type": "markdown",
   "id": "69bdf1ef-9b2e-406f-9436-053fda07164d",
   "metadata": {},
   "source": [
    "##### Create word-frequency chart for the content in sample.txt"
   ]
  },
  {
   "cell_type": "code",
   "execution_count": null,
   "id": "5037c6d0-455a-4e0d-875c-e1417979adb3",
   "metadata": {},
   "outputs": [],
   "source": [
    "path = r\"C:\\mindful-ai\\ust-global-python-fs\\day-5\\sample.txt\""
   ]
  },
  {
   "cell_type": "code",
   "execution_count": null,
   "id": "40a0a3c7-f8d6-4d5d-aea1-f9fdb95d1888",
   "metadata": {},
   "outputs": [],
   "source": [
    "f = open(path)\n",
    "content = f.read()\n",
    "f.close()"
   ]
  },
  {
   "cell_type": "code",
   "execution_count": null,
   "id": "ed8645e2-ee81-460a-8e0d-9082eb8182d4",
   "metadata": {},
   "outputs": [],
   "source": [
    "content[:100]"
   ]
  },
  {
   "cell_type": "code",
   "execution_count": null,
   "id": "c99ab5cd-fb0c-43e9-bf13-4477ca0ecfff",
   "metadata": {},
   "outputs": [],
   "source": [
    "import string"
   ]
  },
  {
   "cell_type": "code",
   "execution_count": null,
   "id": "29a6cb81-c576-4f32-b2dc-fa88c1785fdf",
   "metadata": {},
   "outputs": [],
   "source": [
    "string.punctuation"
   ]
  },
  {
   "cell_type": "code",
   "execution_count": null,
   "id": "9cf53b9b-3979-47a0-9552-ad5be0ecf612",
   "metadata": {},
   "outputs": [],
   "source": [
    "translator = str.maketrans('', '', string.punctuation)\n",
    "clean_text = content.translate(translator)\n",
    "clean_text[:200]"
   ]
  },
  {
   "cell_type": "code",
   "execution_count": null,
   "id": "2bf3dad4-fdd0-4344-a825-34b1367ce2a5",
   "metadata": {},
   "outputs": [],
   "source": [
    "f = open(path)\n",
    "content = f.read()\n",
    "f.close()"
   ]
  },
  {
   "cell_type": "code",
   "execution_count": null,
   "id": "b2835999-d26e-48f8-a6de-f85e98b4d92d",
   "metadata": {},
   "outputs": [],
   "source": [
    "import re\n",
    "clean_text = re.sub(r'[^\\w\\s]', '', content)\n",
    "clean_text[:200]"
   ]
  },
  {
   "cell_type": "code",
   "execution_count": null,
   "id": "8ded7adb-952e-46b9-a6ec-f84e89933e8f",
   "metadata": {},
   "outputs": [],
   "source": [
    "type(clean_text)"
   ]
  },
  {
   "cell_type": "code",
   "execution_count": null,
   "id": "a42771a1-f7da-4ba5-ac6b-541da09de8a4",
   "metadata": {},
   "outputs": [],
   "source": [
    "from collections import Counter\n",
    "word_dict = Counter(clean_text.lower())\n",
    "word_dict"
   ]
  },
  {
   "cell_type": "code",
   "execution_count": null,
   "id": "423c175a-8b38-44e9-b41a-cf0530b6dd3f",
   "metadata": {},
   "outputs": [],
   "source": [
    "words = clean_text.lower().split()\n",
    "words[:10]"
   ]
  },
  {
   "cell_type": "code",
   "execution_count": null,
   "id": "79877c1e-ba8f-4ac4-b661-7e841f5505a4",
   "metadata": {},
   "outputs": [],
   "source": [
    "word_freq = {}\n",
    "for word in words:\n",
    "    if word in word_freq:\n",
    "        word_freq[word] += 1\n",
    "    else:\n",
    "        word_freq[word] = 1\n",
    "word_freq"
   ]
  },
  {
   "cell_type": "code",
   "execution_count": null,
   "id": "b644e328-2baa-4ed5-83f7-52b753b9392f",
   "metadata": {},
   "outputs": [],
   "source": [
    "path = r\"C:\\mindful-ai\\ust-global-python-fs\\day-5\\sample2.txt\""
   ]
  },
  {
   "cell_type": "code",
   "execution_count": null,
   "id": "c12c630d-ba59-43eb-af3a-ed949a369ce8",
   "metadata": {},
   "outputs": [],
   "source": [
    "f = open(path, 'a')\n",
    "f.write(\"\\n\" + \"-\"*80 + \"\\n\")"
   ]
  },
  {
   "cell_type": "code",
   "execution_count": null,
   "id": "b4658da3-541b-4391-8c1c-d76a9fc982ea",
   "metadata": {},
   "outputs": [],
   "source": [
    "template = \"{0:15} | {1: 5} \\n\"\n",
    "for key, value in word_freq.items():\n",
    "    f.write(template.format(key, value))"
   ]
  },
  {
   "cell_type": "code",
   "execution_count": null,
   "id": "ef15d1db-010d-474c-b5d7-99a7423e218f",
   "metadata": {},
   "outputs": [],
   "source": [
    "f.close()"
   ]
  },
  {
   "cell_type": "code",
   "execution_count": null,
   "id": "2bb265c6-6856-4e5e-8e23-6bfd7fbd6d15",
   "metadata": {},
   "outputs": [],
   "source": []
  }
 ],
 "metadata": {
  "kernelspec": {
   "display_name": "Python 3 (ipykernel)",
   "language": "python",
   "name": "python3"
  },
  "language_info": {
   "codemirror_mode": {
    "name": "ipython",
    "version": 3
   },
   "file_extension": ".py",
   "mimetype": "text/x-python",
   "name": "python",
   "nbconvert_exporter": "python",
   "pygments_lexer": "ipython3",
   "version": "3.12.7"
  }
 },
 "nbformat": 4,
 "nbformat_minor": 5
}
