{
 "cells": [
  {
   "cell_type": "markdown",
   "id": "ee07fa75-72e4-4629-94cf-0cb4d262b197",
   "metadata": {},
   "source": [
    "### Why unit testing?"
   ]
  },
  {
   "cell_type": "markdown",
   "id": "d96a6e86-a223-4b48-b1b4-e2495aa728eb",
   "metadata": {},
   "source": [
    "##### Testability -> can you test it?"
   ]
  },
  {
   "cell_type": "markdown",
   "id": "ba413222-c673-4a18-9e4d-acf36d62b9c0",
   "metadata": {},
   "source": [
    "##### If you want to create testable code (by writing test scripts) implement your logic as a function or a class"
   ]
  },
  {
   "cell_type": "markdown",
   "id": "d4292f73-34d6-4e3a-974c-bd13d7fcd93e",
   "metadata": {},
   "source": [
    "##### You should be able to invoke your logic programatically - this is needed for automating testing"
   ]
  },
  {
   "cell_type": "markdown",
   "id": "0b82ec2e-5d00-4a2d-a4bc-dba9c15f14ce",
   "metadata": {},
   "source": [
    "##### You should test because the cost of fixing a bug earlier in the development cycle is cheaper compared to fixing a bug at an advanced stage (as it is costilier)"
   ]
  },
  {
   "cell_type": "markdown",
   "id": "d86e0c84-8824-453a-8dd5-14e6957e4f71",
   "metadata": {},
   "source": [
    "### Design Code"
   ]
  },
  {
   "cell_type": "code",
   "execution_count": null,
   "id": "0dd415c1-ff4a-432d-ab59-514a06485db6",
   "metadata": {},
   "outputs": [],
   "source": [
    "class Calculator:\n",
    "\n",
    "    def add(self, a, b):\n",
    "        return a + b \n",
    "    \n",
    "    def subtract(self, a, b):\n",
    "        return a - b\n",
    "    \n",
    "    def multiply(self, a, b):\n",
    "        return a * b\n",
    "    \n",
    "    def divide(self, a, b):\n",
    "        if b == 0:\n",
    "            raise ValueError(\"Cannot divide by zero.\")\n",
    "        return a / b\n"
   ]
  },
  {
   "cell_type": "markdown",
   "id": "eef06c8f-4092-4219-89e2-0a3d7a8ddc7a",
   "metadata": {},
   "source": [
    "### Testing Process"
   ]
  },
  {
   "cell_type": "markdown",
   "id": "4b25c55c-4822-4442-b756-41ecfeaeaa58",
   "metadata": {},
   "source": [
    "##### Manual Method"
   ]
  },
  {
   "cell_type": "code",
   "execution_count": null,
   "id": "8f08dbad-2f4d-470a-bd6b-d7ce08e383c5",
   "metadata": {},
   "outputs": [],
   "source": [
    "c = Calculator()"
   ]
  },
  {
   "cell_type": "code",
   "execution_count": null,
   "id": "755ebade-9b83-4a6a-9563-e9dbd3c001d4",
   "metadata": {},
   "outputs": [],
   "source": [
    "# testing add function with positive numbers\n",
    "a = 5\n",
    "b = 4\n",
    "expected_result = 9\n",
    "obtained_result = c.add(a, b) # Expected result -> 9"
   ]
  },
  {
   "cell_type": "code",
   "execution_count": null,
   "id": "6c236fe2-7268-4735-a9d1-b9fc9ecc1cde",
   "metadata": {},
   "outputs": [],
   "source": [
    "# Obtained results -> 9\n",
    "# whether the test passed or failed depends on whether the expected result and obtained results matches\n",
    "if (expected_result == obtained_result):\n",
    "    print(\"Test passed\")\n",
    "else:\n",
    "    print(\"Test failed\")"
   ]
  },
  {
   "cell_type": "markdown",
   "id": "d4b6d6d5-05d4-4a46-b2e0-808747a29163",
   "metadata": {},
   "source": [
    "##### The test in the above case passed"
   ]
  },
  {
   "cell_type": "markdown",
   "id": "5ff0657f-b240-49b0-a923-11021449d5ed",
   "metadata": {},
   "source": [
    "##### Automated Setup"
   ]
  },
  {
   "cell_type": "code",
   "execution_count": null,
   "id": "d9c3c0de-ef22-4a44-ae05-e020f3dfee2a",
   "metadata": {},
   "outputs": [],
   "source": [
    "import unittest"
   ]
  },
  {
   "cell_type": "code",
   "execution_count": null,
   "id": "bb132ea7-8746-4dbc-a455-897b7ef435ba",
   "metadata": {},
   "outputs": [],
   "source": [
    "c = Calculator() # Instance of Calculator -> Design Unit under Test (DUT)"
   ]
  },
  {
   "cell_type": "code",
   "execution_count": null,
   "id": "64f4a014-32c5-4066-9344-8d27750e3994",
   "metadata": {},
   "outputs": [],
   "source": [
    "class TestCasesForCalculator(unittest.TestCase):\n",
    "\n",
    "    def test_add(self):\n",
    "        pass\n",
    "\n",
    "    def test_subtract(self):\n",
    "        pass\n",
    "\n",
    "    def test_multiply(self):\n",
    "        pass\n",
    "\n",
    "    # Normal Case\n",
    "    def test_divide(self):\n",
    "        pass\n",
    "\n",
    "    # Corner Case\n",
    "    def test_divide_by_zero(self):\n",
    "        pass"
   ]
  },
  {
   "cell_type": "code",
   "execution_count": null,
   "id": "a8ad80a8-3cac-4cba-8734-6ec068b50cc0",
   "metadata": {},
   "outputs": [],
   "source": [
    "class TestCasesForCalculator(unittest.TestCase):\n",
    "\n",
    "    def test_add(self):\n",
    "        self.assertEqual(c.add(10,3), 13, \"Error in addition\")\n",
    "\n",
    "    def test_subtract(self):\n",
    "        self.assertEqual(c.subtract(10, 3), 7, \"Error in subtraction\")\n",
    "\n",
    "    def test_multiply(self):\n",
    "        self.assertEqual(c.multiply(10, 3), 30, \"Error in multiplication\")\n",
    "\n",
    "    # Normal Case\n",
    "    def test_divide(self):\n",
    "        self.assertEqual(c.divide(12, 4), 3, \"Error in division\")\n",
    "\n",
    "    # Corner Case\n",
    "    def test_divide_by_zero(self):\n",
    "        with self.assertRaises(ValueError):\n",
    "            c.divide(10, 0)\n",
    "\n",
    "unittest.main()"
   ]
  },
  {
   "cell_type": "code",
   "execution_count": null,
   "id": "35f61da5-a63b-4398-b83a-4f35844e20f5",
   "metadata": {},
   "outputs": [],
   "source": []
  }
 ],
 "metadata": {
  "kernelspec": {
   "display_name": "Python 3 (ipykernel)",
   "language": "python",
   "name": "python3"
  },
  "language_info": {
   "codemirror_mode": {
    "name": "ipython",
    "version": 3
   },
   "file_extension": ".py",
   "mimetype": "text/x-python",
   "name": "python",
   "nbconvert_exporter": "python",
   "pygments_lexer": "ipython3",
   "version": "3.12.7"
  }
 },
 "nbformat": 4,
 "nbformat_minor": 5
}
