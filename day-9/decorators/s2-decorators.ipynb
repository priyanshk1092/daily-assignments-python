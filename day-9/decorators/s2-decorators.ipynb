{
 "cells": [
  {
   "cell_type": "markdown",
   "id": "c62d1f06-c13b-46b4-a21e-ca28f3ff7227",
   "metadata": {},
   "source": [
    "##### Let's consider"
   ]
  },
  {
   "cell_type": "code",
   "execution_count": 4,
   "id": "fda2d824-f456-4198-a6c7-7043ec38a047",
   "metadata": {},
   "outputs": [],
   "source": [
    "def modify_string(s):\n",
    "    return ' '.join(list(s.upper()))"
   ]
  },
  {
   "cell_type": "code",
   "execution_count": 11,
   "id": "dc6a215b-1c7e-47ad-82d4-dfefc54fb663",
   "metadata": {},
   "outputs": [
    {
     "data": {
      "text/plain": [
       "'A P P L E S'"
      ]
     },
     "execution_count": 11,
     "metadata": {},
     "output_type": "execute_result"
    }
   ],
   "source": [
    "modify_string(\"apples\")"
   ]
  },
  {
   "cell_type": "markdown",
   "id": "8395ccdc-3909-4b5e-b09d-3be4b1044946",
   "metadata": {},
   "source": [
    "##### What if you want to add jumble property to the function? -> L E L S P A"
   ]
  },
  {
   "cell_type": "code",
   "execution_count": 14,
   "id": "0031b344-ddd4-40f7-8409-038ffca83b28",
   "metadata": {},
   "outputs": [
    {
     "data": {
      "text/plain": [
       "'plApse'"
      ]
     },
     "execution_count": 14,
     "metadata": {},
     "output_type": "execute_result"
    }
   ],
   "source": [
    "import random\n",
    "s = list('Apples')\n",
    "random.shuffle(s)\n",
    "s = ''.join(s)\n",
    "s"
   ]
  },
  {
   "cell_type": "code",
   "execution_count": 16,
   "id": "3c958eab-f418-4c0e-90c5-f84e405d3456",
   "metadata": {},
   "outputs": [
    {
     "data": {
      "text/plain": [
       "'P L A P S E'"
      ]
     },
     "execution_count": 16,
     "metadata": {},
     "output_type": "execute_result"
    }
   ],
   "source": [
    "modify_string(s)"
   ]
  },
  {
   "cell_type": "markdown",
   "id": "6adea642-a424-45b1-9b70-e3c4a62936a5",
   "metadata": {},
   "source": [
    "##### How can I make the randomization logic reusable?"
   ]
  },
  {
   "cell_type": "code",
   "execution_count": 19,
   "id": "a1434e2c-f97b-421d-b375-2210f7b7b21b",
   "metadata": {},
   "outputs": [],
   "source": [
    "def randomize_string(s):\n",
    "    temp = list(s)\n",
    "    random.shuffle(temp)\n",
    "    return ''.join(temp)"
   ]
  },
  {
   "cell_type": "code",
   "execution_count": 21,
   "id": "6d562784-c689-4757-8bcf-caf24e7dbb7f",
   "metadata": {},
   "outputs": [
    {
     "data": {
      "text/plain": [
       "'P P S E A L'"
      ]
     },
     "execution_count": 21,
     "metadata": {},
     "output_type": "execute_result"
    }
   ],
   "source": [
    "s = \"apples\"\n",
    "modify_string(randomize_string(s))"
   ]
  },
  {
   "cell_type": "markdown",
   "id": "7757e974-4968-4783-a7d3-65767a9fc846",
   "metadata": {},
   "source": [
    "##### Returning a function object"
   ]
  },
  {
   "cell_type": "code",
   "execution_count": 24,
   "id": "18109f4a-1448-4a62-a5c0-5fbbb137c26a",
   "metadata": {},
   "outputs": [],
   "source": [
    "def get_function(choice):\n",
    "\n",
    "    def function_a():\n",
    "        return \"Function A\"\n",
    "\n",
    "    def function_b():\n",
    "        return \"Function B\"\n",
    "\n",
    "    return function_a if choice == 1 else function_b"
   ]
  },
  {
   "cell_type": "code",
   "execution_count": 26,
   "id": "2b975b6d-e095-413e-893a-7d4bd21d9cd8",
   "metadata": {},
   "outputs": [],
   "source": [
    "f = get_function(1)"
   ]
  },
  {
   "cell_type": "code",
   "execution_count": 28,
   "id": "1924115d-d488-4832-9262-b805b7ce59b0",
   "metadata": {},
   "outputs": [
    {
     "data": {
      "text/plain": [
       "<function __main__.get_function.<locals>.function_a()>"
      ]
     },
     "execution_count": 28,
     "metadata": {},
     "output_type": "execute_result"
    }
   ],
   "source": [
    "f"
   ]
  },
  {
   "cell_type": "code",
   "execution_count": 30,
   "id": "4494ab0f-84e4-40ec-abdd-74a4415b7790",
   "metadata": {},
   "outputs": [
    {
     "name": "stdout",
     "output_type": "stream",
     "text": [
      "Function A\n"
     ]
    }
   ],
   "source": [
    "print(f())"
   ]
  },
  {
   "cell_type": "markdown",
   "id": "f8c0e6ee-20be-469c-93c7-511550a80a27",
   "metadata": {},
   "source": [
    "##### Decorator -> a function that enhances the existing function without making any changes"
   ]
  },
  {
   "cell_type": "code",
   "execution_count": 49,
   "id": "c3be892f-f0cf-4fa7-80f7-67b089306b84",
   "metadata": {},
   "outputs": [],
   "source": [
    "def jumble(func_obj): # decorator\n",
    "\n",
    "    def enhancer_function(arg): # arg is the arguments of the funct_obj\n",
    "        temp = list(arg)\n",
    "        random.shuffle(temp)\n",
    "        return func_obj(''.join(temp))\n",
    "\n",
    "    return enhancer_function\n",
    "        "
   ]
  },
  {
   "cell_type": "code",
   "execution_count": 51,
   "id": "2d8568d0-742e-491b-ac72-53e41d7f346f",
   "metadata": {},
   "outputs": [],
   "source": [
    "f = jumble(modify_string)"
   ]
  },
  {
   "cell_type": "code",
   "execution_count": 53,
   "id": "bc833732-665f-426a-aaa5-962d3fb6d9e1",
   "metadata": {},
   "outputs": [
    {
     "data": {
      "text/plain": [
       "<function __main__.jumble.<locals>.enhancer_function(arg)>"
      ]
     },
     "execution_count": 53,
     "metadata": {},
     "output_type": "execute_result"
    }
   ],
   "source": [
    "f"
   ]
  },
  {
   "cell_type": "code",
   "execution_count": 55,
   "id": "93dcbd60-462b-40f0-8313-fd97195ce131",
   "metadata": {},
   "outputs": [
    {
     "data": {
      "text/plain": [
       "'L E P P A S'"
      ]
     },
     "execution_count": 55,
     "metadata": {},
     "output_type": "execute_result"
    }
   ],
   "source": [
    "f(\"apples\")"
   ]
  },
  {
   "cell_type": "code",
   "execution_count": 57,
   "id": "59469aaf-5f43-4bb6-8617-518572851f0b",
   "metadata": {},
   "outputs": [
    {
     "data": {
      "text/plain": [
       "'C O M P U T E R'"
      ]
     },
     "execution_count": 57,
     "metadata": {},
     "output_type": "execute_result"
    }
   ],
   "source": [
    "modify_string(\"computer\")"
   ]
  },
  {
   "cell_type": "code",
   "execution_count": 59,
   "id": "131af165-608b-4f84-bb97-dc7be98cc6de",
   "metadata": {},
   "outputs": [],
   "source": [
    "modify_string = jumble(modify_string)"
   ]
  },
  {
   "cell_type": "code",
   "execution_count": 63,
   "id": "0bc5b39d-33a1-46da-8e93-37cfee89e4f5",
   "metadata": {},
   "outputs": [
    {
     "data": {
      "text/plain": [
       "'R C U P E M T O'"
      ]
     },
     "execution_count": 63,
     "metadata": {},
     "output_type": "execute_result"
    }
   ],
   "source": [
    "modify_string(\"computer\")"
   ]
  },
  {
   "cell_type": "markdown",
   "id": "e29b5343-beca-480b-8a33-0e65f01b6663",
   "metadata": {},
   "source": [
    "##### The correct way (pythonic way) to use the decorator"
   ]
  },
  {
   "cell_type": "code",
   "execution_count": 66,
   "id": "51bba71a-4813-418d-a6ed-fd1a19c8ee97",
   "metadata": {},
   "outputs": [],
   "source": [
    "def jumble(func_obj): # decorator\n",
    "\n",
    "    def enhancer_function(arg): # arg is the arguments of the funct_obj\n",
    "        temp = list(arg)\n",
    "        random.shuffle(temp)\n",
    "        return func_obj(''.join(temp))\n",
    "\n",
    "    return enhancer_function"
   ]
  },
  {
   "cell_type": "code",
   "execution_count": 80,
   "id": "a4d1f9d9-1c84-48c4-8d36-cadbe2bffb07",
   "metadata": {},
   "outputs": [],
   "source": [
    "@jumble\n",
    "def modify_string(s):\n",
    "    return ' '.join(list(s.upper()))"
   ]
  },
  {
   "cell_type": "code",
   "execution_count": 82,
   "id": "03369372-ba9d-4963-86ef-3dd1e3196165",
   "metadata": {},
   "outputs": [
    {
     "data": {
      "text/plain": [
       "'M C O P E U R T'"
      ]
     },
     "execution_count": 82,
     "metadata": {},
     "output_type": "execute_result"
    }
   ],
   "source": [
    "modify_string(\"computer\")"
   ]
  },
  {
   "cell_type": "markdown",
   "id": "14b017e7-01a8-45b4-bfb6-e741063a6422",
   "metadata": {},
   "source": [
    "### Exercise"
   ]
  },
  {
   "cell_type": "markdown",
   "id": "8c6142ce-5274-4d77-8a67-855f0f18f012",
   "metadata": {},
   "source": [
    "##### Write a decorator @timer that prints how long a function takes to execute."
   ]
  },
  {
   "cell_type": "code",
   "execution_count": 88,
   "id": "b436eb80-cb15-4f94-99c4-5dc8544f3ed9",
   "metadata": {},
   "outputs": [],
   "source": [
    "import time"
   ]
  },
  {
   "cell_type": "code",
   "execution_count": 90,
   "id": "e7a4ec4f-9ef6-41cd-a99d-e61223c3a370",
   "metadata": {},
   "outputs": [],
   "source": [
    "def timer(func):\n",
    "\n",
    "    def wrapper(*args, **kargs):\n",
    "        start = time.time()\n",
    "        result = func(*args, **kargs)\n",
    "        end = time.time()\n",
    "        print(f\"Function {func.__name__} took {end - start:.4f} seconds to run\")\n",
    "        return result\n",
    "\n",
    "    return wrapper"
   ]
  },
  {
   "cell_type": "code",
   "execution_count": 100,
   "id": "74458438-705a-4b91-b69e-b636765c5923",
   "metadata": {},
   "outputs": [],
   "source": [
    "@timer\n",
    "def slow_function():\n",
    "    time.sleep(1)\n",
    "    print(\"Done!\")"
   ]
  },
  {
   "cell_type": "code",
   "execution_count": 102,
   "id": "5ab5e2fa-0624-4c62-8554-5287d4ddabfa",
   "metadata": {},
   "outputs": [],
   "source": [
    "@timer\n",
    "def highest_prime(start, end):\n",
    "    primes = []\n",
    "    for n in range(start, end):\n",
    "        for i in range(2, n):\n",
    "            if n % i == 0:\n",
    "                break\n",
    "        else:\n",
    "            primes.append(n)\n",
    "    return primes[-1] if len(primes) != 0 else None\n",
    "            "
   ]
  },
  {
   "cell_type": "code",
   "execution_count": 104,
   "id": "cc88942a-f5f3-47c6-993c-db3fbe5f4c85",
   "metadata": {},
   "outputs": [
    {
     "name": "stdout",
     "output_type": "stream",
     "text": [
      "Done!\n",
      "Function slow_function took 1.0006 seconds to run\n"
     ]
    }
   ],
   "source": [
    "slow_function()"
   ]
  },
  {
   "cell_type": "code",
   "execution_count": 108,
   "id": "b3313456-e087-4fe8-9c61-32b26af5ac97",
   "metadata": {},
   "outputs": [
    {
     "name": "stdout",
     "output_type": "stream",
     "text": [
      "Function highest_prime took 0.3749 seconds to run\n"
     ]
    },
    {
     "data": {
      "text/plain": [
       "9973"
      ]
     },
     "execution_count": 108,
     "metadata": {},
     "output_type": "execute_result"
    }
   ],
   "source": [
    "highest_prime(10, 10000)"
   ]
  },
  {
   "cell_type": "markdown",
   "id": "a6577533-859e-42d8-a3cd-6e7f41514337",
   "metadata": {},
   "source": [
    "### Generalized Syntax"
   ]
  },
  {
   "cell_type": "code",
   "execution_count": null,
   "id": "feed7ff2-7e4a-4700-af71-379adf3efe42",
   "metadata": {},
   "outputs": [],
   "source": [
    "def decorator_function(function_object):\n",
    "\n",
    "    def enhancer_function(*args, **kargs):\n",
    "        # logic\n",
    "        return any_object/function_object(*arg, **kargs)\n",
    "\n",
    "    return enhancer_function"
   ]
  },
  {
   "cell_type": "code",
   "execution_count": null,
   "id": "30dcfd5b-9e88-4d3f-93d6-1f9f97fa11fd",
   "metadata": {},
   "outputs": [],
   "source": [
    "@decorator_function\n",
    "def function_def(*args, **kargs):\n",
    "    return"
   ]
  },
  {
   "cell_type": "code",
   "execution_count": null,
   "id": "25c6e232-3aa9-4679-9086-72ce4f746f64",
   "metadata": {},
   "outputs": [],
   "source": [
    "function_def, args, kargs"
   ]
  },
  {
   "cell_type": "markdown",
   "id": "0defea24-5f66-4145-a930-7eb0819be329",
   "metadata": {},
   "source": [
    "### Exercise"
   ]
  },
  {
   "cell_type": "markdown",
   "id": "bc99987b-655e-42fc-9bbe-1b4a62396b8a",
   "metadata": {},
   "source": [
    "##### Write a decorator @requires_admin that allows access to a function only if the user is an admin."
   ]
  },
  {
   "cell_type": "code",
   "execution_count": 117,
   "id": "5e7c0080-36a4-46ac-b7ab-8271bceec574",
   "metadata": {},
   "outputs": [],
   "source": [
    "def wrapper(*args, **kargs):\n",
    "    if 'user_role' in dict(kargs).keys() and dict(kargs)['user_role'] == 'admin':\n",
    "        return \"Access Granted\"\n",
    "    else:\n",
    "        return \"Access Denied. User should be admin\""
   ]
  },
  {
   "cell_type": "code",
   "execution_count": 119,
   "id": "50cd4a7d-128a-4694-bc8b-e5735199e77a",
   "metadata": {},
   "outputs": [
    {
     "data": {
      "text/plain": [
       "'Access Denied. User should be admin'"
      ]
     },
     "execution_count": 119,
     "metadata": {},
     "output_type": "execute_result"
    }
   ],
   "source": [
    "wrapper(name=\"admin\")"
   ]
  },
  {
   "cell_type": "code",
   "execution_count": 121,
   "id": "78028f64-af18-466f-b75a-ef1514c70a76",
   "metadata": {},
   "outputs": [
    {
     "data": {
      "text/plain": [
       "'Access Denied. User should be admin'"
      ]
     },
     "execution_count": 121,
     "metadata": {},
     "output_type": "execute_result"
    }
   ],
   "source": [
    "wrapper(user_role=\"Anil\")"
   ]
  },
  {
   "cell_type": "code",
   "execution_count": 123,
   "id": "9699d0e9-a9d4-4862-a944-3a02b735f94a",
   "metadata": {},
   "outputs": [
    {
     "data": {
      "text/plain": [
       "'Access Granted'"
      ]
     },
     "execution_count": 123,
     "metadata": {},
     "output_type": "execute_result"
    }
   ],
   "source": [
    "wrapper(user_role=\"admin\")"
   ]
  },
  {
   "cell_type": "code",
   "execution_count": 137,
   "id": "57d222de-e8c2-4297-998b-f9d9342759e2",
   "metadata": {},
   "outputs": [],
   "source": [
    "def require_admin(func):\n",
    "\n",
    "    def wrapper(*args, **kargs):\n",
    "        if 'user_role' in dict(kargs).keys() and dict(kargs)['user_role'] == 'admin':\n",
    "            print(\"Access Granted\")\n",
    "            return func(*args, *kargs)\n",
    "        else:\n",
    "            return \"Access Denied. User should be admin\"\n",
    "\n",
    "    return wrapper"
   ]
  },
  {
   "cell_type": "code",
   "execution_count": 139,
   "id": "6d5f9507-a880-4f44-ab45-02abab824344",
   "metadata": {},
   "outputs": [],
   "source": [
    "def delete_data(user_role=\"user\"):\n",
    "    print(\"Data Deleted\")"
   ]
  },
  {
   "cell_type": "code",
   "execution_count": 141,
   "id": "10ce9032-b22e-4519-80a5-3ef799d63d01",
   "metadata": {},
   "outputs": [
    {
     "name": "stdout",
     "output_type": "stream",
     "text": [
      "Data Deleted\n"
     ]
    }
   ],
   "source": [
    "delete_data()"
   ]
  },
  {
   "cell_type": "code",
   "execution_count": 143,
   "id": "c7100b34-a2e2-4742-a2ff-d4b7d0203c24",
   "metadata": {},
   "outputs": [],
   "source": [
    "@require_admin\n",
    "def delete_data(user_role=\"user\"):\n",
    "    print(\"Data Deleted\")"
   ]
  },
  {
   "cell_type": "code",
   "execution_count": 145,
   "id": "7efcf96f-08c9-42bf-802a-75964c2a3c4d",
   "metadata": {},
   "outputs": [
    {
     "data": {
      "text/plain": [
       "'Access Denied. User should be admin'"
      ]
     },
     "execution_count": 145,
     "metadata": {},
     "output_type": "execute_result"
    }
   ],
   "source": [
    "delete_data()"
   ]
  },
  {
   "cell_type": "code",
   "execution_count": 147,
   "id": "99eb5b8a-0087-4f9c-a200-0949213f93a2",
   "metadata": {},
   "outputs": [
    {
     "name": "stdout",
     "output_type": "stream",
     "text": [
      "Access Granted\n",
      "Data Deleted\n"
     ]
    }
   ],
   "source": [
    "delete_data(user_role=\"admin\")"
   ]
  },
  {
   "cell_type": "code",
   "execution_count": null,
   "id": "a53a6d74-4df1-4526-9ef5-cd09f045555b",
   "metadata": {},
   "outputs": [],
   "source": []
  }
 ],
 "metadata": {
  "kernelspec": {
   "display_name": "Python 3 (ipykernel)",
   "language": "python",
   "name": "python3"
  },
  "language_info": {
   "codemirror_mode": {
    "name": "ipython",
    "version": 3
   },
   "file_extension": ".py",
   "mimetype": "text/x-python",
   "name": "python",
   "nbconvert_exporter": "python",
   "pygments_lexer": "ipython3",
   "version": "3.12.7"
  }
 },
 "nbformat": 4,
 "nbformat_minor": 5
}
