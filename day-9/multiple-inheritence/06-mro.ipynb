{
 "cells": [
  {
   "cell_type": "markdown",
   "id": "84fc58d4-1eda-4be8-a754-253e8e2bbb4b",
   "metadata": {},
   "source": [
    "### Method Resolution Operator"
   ]
  },
  {
   "cell_type": "code",
   "execution_count": 14,
   "id": "d69b7391-4c8b-402c-829d-6dae19570a3e",
   "metadata": {},
   "outputs": [
    {
     "name": "stdout",
     "output_type": "stream",
     "text": [
      "Hello from A\n"
     ]
    }
   ],
   "source": [
    "class A:\n",
    "    def greet(self):\n",
    "        print(\"Hello from A\")\n",
    "\n",
    "class B:\n",
    "    def greet(self):\n",
    "        print(\"Hello from B\")\n",
    "\n",
    "class C(A, B):\n",
    "    pass\n",
    "\n",
    "obj = C()\n",
    "obj.greet()\n"
   ]
  },
  {
   "cell_type": "markdown",
   "id": "c209b00c-23e5-4eb6-91af-b481ed643576",
   "metadata": {},
   "source": [
    "##### The ambiguity is which greet() will python call. To resolve this python has got one definite rule. It uses MRO. It determines the order in which bases classes are searched when executing a method"
   ]
  },
  {
   "cell_type": "markdown",
   "id": "f284436c-a88b-4f01-a659-216f5ec72920",
   "metadata": {},
   "source": [
    "C(A, B) MRO: C -> A -> B -> Object"
   ]
  },
  {
   "cell_type": "code",
   "execution_count": 18,
   "id": "8686ad52-f656-47bd-b60b-6408ca760ae9",
   "metadata": {},
   "outputs": [
    {
     "name": "stdout",
     "output_type": "stream",
     "text": [
      "[<class '__main__.C'>, <class '__main__.A'>, <class '__main__.B'>, <class 'object'>]\n"
     ]
    }
   ],
   "source": [
    "print(C.mro()) # Use the name of the class"
   ]
  },
  {
   "cell_type": "code",
   "execution_count": 20,
   "id": "c466c193-8068-4e7f-8500-5141839505b0",
   "metadata": {},
   "outputs": [
    {
     "name": "stdout",
     "output_type": "stream",
     "text": [
      "Hello from B\n"
     ]
    }
   ],
   "source": [
    "class D(B, A):\n",
    "    pass\n",
    "\n",
    "obj = D()\n",
    "obj.greet()"
   ]
  },
  {
   "cell_type": "markdown",
   "id": "ee08614a-5760-4d6f-ad9f-2e667b5fc663",
   "metadata": {},
   "source": [
    "Internally, Python 3 uses a consistent algorithm called C3 Linearization to compute the MRO.\n",
    "It ensures three important properties:\n",
    "- Local precedence order – Parents are looked up left-to-right.\n",
    "- Monotonicity – A consistent inheritance order is maintained across subclasses.\n",
    "- No repetition – Each class is called only once, even if it appears multiple times."
   ]
  },
  {
   "cell_type": "markdown",
   "id": "3b4f37eb-efc8-40ea-a80c-8b5866a2a510",
   "metadata": {},
   "source": [
    "### Revist the Diamond Structure"
   ]
  },
  {
   "cell_type": "code",
   "execution_count": 30,
   "id": "642a2c17-1fcd-499c-8b9e-95fa65598776",
   "metadata": {},
   "outputs": [
    {
     "name": "stdout",
     "output_type": "stream",
     "text": [
      "From B\n"
     ]
    }
   ],
   "source": [
    "class A:\n",
    "    def show(self):\n",
    "        print(\"From A\")\n",
    "\n",
    "class B(A):\n",
    "    def show(self):\n",
    "        print(\"From B\")\n",
    "\n",
    "class C(A):\n",
    "    def show(self):\n",
    "        print(\"From C\")\n",
    "\n",
    "class D(B, C):\n",
    "    pass\n",
    "\n",
    "obj = D()\n",
    "obj.show()\n"
   ]
  },
  {
   "cell_type": "code",
   "execution_count": 26,
   "id": "5f55fc00-3862-4f58-acf3-047dcad18737",
   "metadata": {},
   "outputs": [
    {
     "data": {
      "text/plain": [
       "[__main__.D, __main__.B, __main__.C, __main__.A, object]"
      ]
     },
     "execution_count": 26,
     "metadata": {},
     "output_type": "execute_result"
    }
   ],
   "source": [
    "D.mro()"
   ]
  },
  {
   "cell_type": "markdown",
   "id": "d0166d73-cfcd-4196-b5a0-9bf6031352c1",
   "metadata": {},
   "source": [
    "### Main points:\n",
    "\n",
    "- Python uses MRO for resolving ambguity\n",
    "- Left-to-Right order of inheritance list\n",
    "- C3 Linearization to ensure consistent, non-repetitive order\n",
    "- To view, use ClassName.mro()\n",
    "- Always list parent classes in the order of desired priority"
   ]
  },
  {
   "cell_type": "code",
   "execution_count": null,
   "id": "e21f6f65-6d35-4255-bcee-49e2dd34d3c2",
   "metadata": {},
   "outputs": [],
   "source": []
  }
 ],
 "metadata": {
  "kernelspec": {
   "display_name": "Python 3 (ipykernel)",
   "language": "python",
   "name": "python3"
  },
  "language_info": {
   "codemirror_mode": {
    "name": "ipython",
    "version": 3
   },
   "file_extension": ".py",
   "mimetype": "text/x-python",
   "name": "python",
   "nbconvert_exporter": "python",
   "pygments_lexer": "ipython3",
   "version": "3.12.7"
  }
 },
 "nbformat": 4,
 "nbformat_minor": 5
}
