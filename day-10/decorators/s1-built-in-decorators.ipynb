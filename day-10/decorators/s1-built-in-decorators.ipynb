{
 "cells": [
  {
   "cell_type": "markdown",
   "id": "660a98aa-96be-4882-a8b6-2ab1e8957049",
   "metadata": {},
   "source": [
    "##### Built-in decorators: @staticmethod, @classmethod and @property"
   ]
  },
  {
   "cell_type": "code",
   "execution_count": 3,
   "id": "622da67c-2f23-42f6-b1c2-e13004376bdd",
   "metadata": {},
   "outputs": [],
   "source": [
    "import math"
   ]
  },
  {
   "cell_type": "code",
   "execution_count": 5,
   "id": "17b01148-02b4-4e65-b734-72cf8ffb0b88",
   "metadata": {},
   "outputs": [],
   "source": [
    "class Circle:\n",
    "\n",
    "    count = 0\n",
    "\n",
    "    def __init__(self, radius):\n",
    "        self._radius = radius\n",
    "        Circle.count += 1\n",
    "\n",
    "    def radius(self):\n",
    "        return self._radius\n",
    "\n",
    "    def radius(self, value):\n",
    "        if(value < 0):\n",
    "            raise ValueError(\"Radius must be positive\")\n",
    "        self._radius = value\n",
    "\n",
    "    def area(self):\n",
    "        return math.pi * (self._radius ** 2)\n",
    "\n",
    "    def total_circles(cls):\n",
    "        return f\"Total circles created: {cls.count}\"\n",
    "\n",
    "    def circumference(radius):\n",
    "        return 2 * math.pi * radius"
   ]
  },
  {
   "cell_type": "code",
   "execution_count": 9,
   "id": "fd226eba-25dc-444f-bdbf-5fe53bced525",
   "metadata": {},
   "outputs": [],
   "source": [
    "c = Circle(5)"
   ]
  },
  {
   "cell_type": "code",
   "execution_count": 13,
   "id": "5dbe33aa-ed7d-400e-a489-a0cfa206edf0",
   "metadata": {},
   "outputs": [
    {
     "data": {
      "text/plain": [
       "78.53981633974483"
      ]
     },
     "execution_count": 13,
     "metadata": {},
     "output_type": "execute_result"
    }
   ],
   "source": [
    "c.area() # you have to call this"
   ]
  },
  {
   "cell_type": "markdown",
   "id": "66d71b78-2ffd-4e1f-833e-2e9e9fa922c1",
   "metadata": {},
   "source": [
    "### Decorated Version"
   ]
  },
  {
   "cell_type": "code",
   "execution_count": 66,
   "id": "0df29ab1-ffc3-4965-b2c3-d947d1c99ef5",
   "metadata": {},
   "outputs": [],
   "source": [
    "class Circle:\n",
    "\n",
    "    count = 0\n",
    "\n",
    "    def __init__(self, radius):\n",
    "        self._radius = radius\n",
    "        Circle.count += 1\n",
    "\n",
    "    # getter\n",
    "    @property \n",
    "    def radius(self):\n",
    "        return self._radius\n",
    "\n",
    "    @radius.setter\n",
    "    def radius(self, value):\n",
    "        if(value < 0):\n",
    "            raise ValueError(\"Radius must be positive\")\n",
    "        self._radius = value\n",
    "\n",
    "    # Converts the function into a computed property\n",
    "    @property  \n",
    "    def area(self):\n",
    "        return math.pi * (self._radius ** 2)\n",
    "\n",
    "    @classmethod\n",
    "    def total_circles(cls):\n",
    "        return f\"Total circles created: {cls.count}\"\n",
    "\n",
    "    @staticmethod\n",
    "    def circumference(radius):\n",
    "        return 2 * math.pi * radius"
   ]
  },
  {
   "cell_type": "code",
   "execution_count": 68,
   "id": "28acc411-e8af-4794-abf1-0523ccdc25d3",
   "metadata": {},
   "outputs": [],
   "source": [
    "c = Circle(5)"
   ]
  },
  {
   "cell_type": "code",
   "execution_count": 70,
   "id": "11ff8cac-33a4-4db1-bf17-25169cd2c0ff",
   "metadata": {},
   "outputs": [
    {
     "data": {
      "text/plain": [
       "78.53981633974483"
      ]
     },
     "execution_count": 70,
     "metadata": {},
     "output_type": "execute_result"
    }
   ],
   "source": [
    "c.area"
   ]
  },
  {
   "cell_type": "code",
   "execution_count": 72,
   "id": "5c6917e2-39fc-42a2-8d8f-cc007decae23",
   "metadata": {},
   "outputs": [
    {
     "data": {
      "text/plain": [
       "5"
      ]
     },
     "execution_count": 72,
     "metadata": {},
     "output_type": "execute_result"
    }
   ],
   "source": [
    "c.radius"
   ]
  },
  {
   "cell_type": "code",
   "execution_count": 74,
   "id": "3ec6ba66-9dec-4e32-ab4d-7e992571c3cf",
   "metadata": {},
   "outputs": [],
   "source": [
    "c.radius = 6"
   ]
  },
  {
   "cell_type": "code",
   "execution_count": 76,
   "id": "cb1bbd82-d38f-48ad-959e-e8a37321d6af",
   "metadata": {},
   "outputs": [
    {
     "data": {
      "text/plain": [
       "113.09733552923255"
      ]
     },
     "execution_count": 76,
     "metadata": {},
     "output_type": "execute_result"
    }
   ],
   "source": [
    "c.area"
   ]
  },
  {
   "cell_type": "code",
   "execution_count": 78,
   "id": "84aa9792-4dd0-43e2-888d-b334d413f3ee",
   "metadata": {},
   "outputs": [
    {
     "data": {
      "text/plain": [
       "<function __main__.Circle.circumference(radius)>"
      ]
     },
     "execution_count": 78,
     "metadata": {},
     "output_type": "execute_result"
    }
   ],
   "source": [
    "c.circumference"
   ]
  },
  {
   "cell_type": "code",
   "execution_count": 80,
   "id": "313b45b1-537e-40f9-ac03-15d77a11e636",
   "metadata": {},
   "outputs": [
    {
     "data": {
      "text/plain": [
       "6"
      ]
     },
     "execution_count": 80,
     "metadata": {},
     "output_type": "execute_result"
    }
   ],
   "source": [
    "c.radius"
   ]
  },
  {
   "cell_type": "code",
   "execution_count": 84,
   "id": "3cbd0ac5-2374-4443-86b9-fb4fbbe6b647",
   "metadata": {},
   "outputs": [
    {
     "data": {
      "text/plain": [
       "'Total circles created: 1'"
      ]
     },
     "execution_count": 84,
     "metadata": {},
     "output_type": "execute_result"
    }
   ],
   "source": [
    "c.total_circles()"
   ]
  },
  {
   "cell_type": "code",
   "execution_count": 86,
   "id": "74366a92-ef94-4b68-a657-17728c884013",
   "metadata": {},
   "outputs": [],
   "source": [
    "c1 = Circle(2)"
   ]
  },
  {
   "cell_type": "code",
   "execution_count": 88,
   "id": "25f15101-4891-4d45-afd1-9c9ee5a3c14f",
   "metadata": {},
   "outputs": [
    {
     "data": {
      "text/plain": [
       "'Total circles created: 2'"
      ]
     },
     "execution_count": 88,
     "metadata": {},
     "output_type": "execute_result"
    }
   ],
   "source": [
    "c.total_circles()"
   ]
  },
  {
   "cell_type": "markdown",
   "id": "92b6dc51-fe55-4289-a483-4dcb827ec066",
   "metadata": {},
   "source": [
    "### The @total_ordering Decorator"
   ]
  },
  {
   "cell_type": "markdown",
   "id": "a027ee8c-d89c-478e-b255-d2f27ab5d367",
   "metadata": {},
   "source": [
    "The @total_ordering decorator automatically fills in the missing comparison methods (<, <=, >, >=, ==, !=) as long as you define __eq__ and one other comparison (like __lt__ or __gt__)."
   ]
  },
  {
   "cell_type": "code",
   "execution_count": 92,
   "id": "4c226167-b875-4316-af55-0b4e0027c72d",
   "metadata": {},
   "outputs": [],
   "source": [
    "from functools import total_ordering"
   ]
  },
  {
   "cell_type": "code",
   "execution_count": 94,
   "id": "7cad6891-43b0-47a1-901f-7196f3c86a93",
   "metadata": {},
   "outputs": [],
   "source": [
    "class Employee:\n",
    "\n",
    "    def __init__(self, name, salary):\n",
    "        self.name = name\n",
    "        self.salary = salary\n",
    "\n",
    "    def __eq__(self, other):\n",
    "        return self.salary == other.salary\n",
    "\n",
    "    def __lt__(self, other):\n",
    "        return self.salary < other.salary\n",
    "\n",
    "    def __repr__(self):\n",
    "        return f\"{self.name} (${self.salary})\"\n",
    "\n"
   ]
  },
  {
   "cell_type": "code",
   "execution_count": 96,
   "id": "f89c6494-9185-4f45-adb4-8ad1c1c6c115",
   "metadata": {},
   "outputs": [],
   "source": [
    "e1 = Employee(\"Anil\", 70000)\n",
    "e2 = Employee(\"Sunil\", 8000)\n",
    "e3 = Employee(\"Vinil\", 10000)"
   ]
  },
  {
   "cell_type": "code",
   "execution_count": 98,
   "id": "ce37a561-2d41-41a0-8829-60f37dcbdc48",
   "metadata": {},
   "outputs": [
    {
     "data": {
      "text/plain": [
       "False"
      ]
     },
     "execution_count": 98,
     "metadata": {},
     "output_type": "execute_result"
    }
   ],
   "source": [
    "e1 == e2"
   ]
  },
  {
   "cell_type": "code",
   "execution_count": 100,
   "id": "66c0736f-b5df-4069-bc1c-3251d853c27f",
   "metadata": {},
   "outputs": [
    {
     "data": {
      "text/plain": [
       "True"
      ]
     },
     "execution_count": 100,
     "metadata": {},
     "output_type": "execute_result"
    }
   ],
   "source": [
    "e1 > e3"
   ]
  },
  {
   "cell_type": "code",
   "execution_count": 106,
   "id": "11d796f0-0e74-4e31-9efb-e99d2b9336ce",
   "metadata": {},
   "outputs": [
    {
     "ename": "TypeError",
     "evalue": "'<=' not supported between instances of 'Employee' and 'Employee'",
     "output_type": "error",
     "traceback": [
      "\u001b[1;31m---------------------------------------------------------------------------\u001b[0m",
      "\u001b[1;31mTypeError\u001b[0m                                 Traceback (most recent call last)",
      "Cell \u001b[1;32mIn[106], line 1\u001b[0m\n\u001b[1;32m----> 1\u001b[0m e2 \u001b[38;5;241m<\u001b[39m\u001b[38;5;241m=\u001b[39m e1\n",
      "\u001b[1;31mTypeError\u001b[0m: '<=' not supported between instances of 'Employee' and 'Employee'"
     ]
    }
   ],
   "source": [
    "e2 <= e1 # Before  @total_ordering"
   ]
  },
  {
   "cell_type": "code",
   "execution_count": 108,
   "id": "98598b53-46d4-43c6-8133-5f6665d231a8",
   "metadata": {},
   "outputs": [],
   "source": [
    "@total_ordering\n",
    "class Employee:\n",
    "\n",
    "    def __init__(self, name, salary):\n",
    "        self.name = name\n",
    "        self.salary = salary\n",
    "\n",
    "    def __eq__(self, other):\n",
    "        return self.salary == other.salary\n",
    "\n",
    "    def __lt__(self, other):\n",
    "        return self.salary < other.salary\n",
    "\n",
    "    def __repr__(self):\n",
    "        return f\"{self.name} (${self.salary})\""
   ]
  },
  {
   "cell_type": "code",
   "execution_count": 110,
   "id": "935e9ed0-41d0-42c1-b9a5-e2b907949b0c",
   "metadata": {},
   "outputs": [],
   "source": [
    "e1 = Employee(\"Anil\", 70000)\n",
    "e2 = Employee(\"Sunil\", 8000)\n",
    "e3 = Employee(\"Vinil\", 10000)"
   ]
  },
  {
   "cell_type": "code",
   "execution_count": 112,
   "id": "0ebc3dee-dd31-4dce-a591-d15d18f13566",
   "metadata": {},
   "outputs": [
    {
     "data": {
      "text/plain": [
       "True"
      ]
     },
     "execution_count": 112,
     "metadata": {},
     "output_type": "execute_result"
    }
   ],
   "source": [
    "e2 <= e1"
   ]
  },
  {
   "cell_type": "code",
   "execution_count": 114,
   "id": "171cc340-b918-4f86-b4ec-5eab174b44de",
   "metadata": {},
   "outputs": [
    {
     "data": {
      "text/plain": [
       "False"
      ]
     },
     "execution_count": 114,
     "metadata": {},
     "output_type": "execute_result"
    }
   ],
   "source": [
    "e2 >= e1"
   ]
  },
  {
   "cell_type": "markdown",
   "id": "689e9b5f-a532-49ae-9cf9-d23daac3fccd",
   "metadata": {},
   "source": [
    "### The @dataclass Decorator"
   ]
  },
  {
   "cell_type": "code",
   "execution_count": 117,
   "id": "145afb07-1c29-4015-aeff-048cb196cdad",
   "metadata": {},
   "outputs": [],
   "source": [
    "from dataclasses import dataclass\n",
    "\n",
    "@dataclass\n",
    "class Point:\n",
    "    x: int\n",
    "    y: int\n"
   ]
  },
  {
   "cell_type": "code",
   "execution_count": 119,
   "id": "5fd54e18-3021-4097-8523-4e17b618134d",
   "metadata": {},
   "outputs": [],
   "source": [
    "p = Point(3, 4)"
   ]
  },
  {
   "cell_type": "code",
   "execution_count": 121,
   "id": "62047fe4-568b-4dcb-95c9-1133a17255dc",
   "metadata": {},
   "outputs": [
    {
     "data": {
      "text/plain": [
       "Point(x=3, y=4)"
      ]
     },
     "execution_count": 121,
     "metadata": {},
     "output_type": "execute_result"
    }
   ],
   "source": [
    "p"
   ]
  },
  {
   "cell_type": "markdown",
   "id": "9f3e10fb-b751-4d2f-956c-902e6bced7ca",
   "metadata": {},
   "source": [
    "##### Automatically generates __init__, __repr__, and comparison methods for classes."
   ]
  },
  {
   "cell_type": "code",
   "execution_count": 124,
   "id": "9e133c59-97ef-4a89-9623-c2dff91878f0",
   "metadata": {},
   "outputs": [],
   "source": [
    "p2 = Point(4, 5)"
   ]
  },
  {
   "cell_type": "code",
   "execution_count": 128,
   "id": "51ce7e20-b44c-44cb-8ff3-48fcaab3f49d",
   "metadata": {},
   "outputs": [
    {
     "data": {
      "text/plain": [
       "False"
      ]
     },
     "execution_count": 128,
     "metadata": {},
     "output_type": "execute_result"
    }
   ],
   "source": [
    "p == p2"
   ]
  },
  {
   "cell_type": "markdown",
   "id": "dffe614a-759f-459c-b801-78f17c92722b",
   "metadata": {},
   "source": [
    "### The @contextmanager Decorator"
   ]
  },
  {
   "cell_type": "markdown",
   "id": "c9bfd270-4390-4420-a2f7-8f077289f5ba",
   "metadata": {},
   "source": [
    "##### Used to create context managers using yield."
   ]
  },
  {
   "cell_type": "code",
   "execution_count": 132,
   "id": "1e80c2ad-b64f-40e1-8662-6b30f99655a7",
   "metadata": {},
   "outputs": [],
   "source": [
    "from contextlib import contextmanager\n",
    "\n",
    "@contextmanager\n",
    "def open_file(name):\n",
    "    f = open(name, 'w')\n",
    "    try:\n",
    "        yield f\n",
    "    finally:\n",
    "        f.close()\n"
   ]
  },
  {
   "cell_type": "code",
   "execution_count": null,
   "id": "4c4bc9f8-ca32-4d4c-957c-72a224b7500b",
   "metadata": {},
   "outputs": [],
   "source": []
  }
 ],
 "metadata": {
  "kernelspec": {
   "display_name": "Python 3 (ipykernel)",
   "language": "python",
   "name": "python3"
  },
  "language_info": {
   "codemirror_mode": {
    "name": "ipython",
    "version": 3
   },
   "file_extension": ".py",
   "mimetype": "text/x-python",
   "name": "python",
   "nbconvert_exporter": "python",
   "pygments_lexer": "ipython3",
   "version": "3.12.7"
  }
 },
 "nbformat": 4,
 "nbformat_minor": 5
}
