{
 "cells": [
  {
   "cell_type": "markdown",
   "id": "e9e4a4c9-305a-4d7b-b5c4-99faf9dca4c8",
   "metadata": {},
   "source": [
    "### Understanding Generators"
   ]
  },
  {
   "cell_type": "code",
   "execution_count": 3,
   "id": "2bafd1ef-a65f-4b81-b38a-f49280615f16",
   "metadata": {},
   "outputs": [],
   "source": [
    "def getvalues():\n",
    "    return [1, 2, 3, 4, 5]"
   ]
  },
  {
   "cell_type": "code",
   "execution_count": 31,
   "id": "a8af370b-c6d8-4a1c-b714-ac4e58922091",
   "metadata": {},
   "outputs": [],
   "source": [
    "r = getvalues()"
   ]
  },
  {
   "cell_type": "code",
   "execution_count": 33,
   "id": "cece0ccd-1206-48a4-aca5-1a2a05568d9d",
   "metadata": {},
   "outputs": [
    {
     "data": {
      "text/plain": [
       "list"
      ]
     },
     "execution_count": 33,
     "metadata": {},
     "output_type": "execute_result"
    }
   ],
   "source": [
    "type(r)"
   ]
  },
  {
   "cell_type": "code",
   "execution_count": 7,
   "id": "3af416aa-1e59-4a33-9a84-dd8f09b2561a",
   "metadata": {},
   "outputs": [
    {
     "name": "stdout",
     "output_type": "stream",
     "text": [
      "1 2 3 4 5 "
     ]
    }
   ],
   "source": [
    "for i in r:\n",
    "    print(i, end=' ')"
   ]
  },
  {
   "cell_type": "code",
   "execution_count": 9,
   "id": "10e03f59-ddba-4b1f-9f14-f0e8051ed9e2",
   "metadata": {},
   "outputs": [
    {
     "name": "stdout",
     "output_type": "stream",
     "text": [
      "1 2 3 4 5 "
     ]
    }
   ],
   "source": [
    "for i in r:\n",
    "    print(i, end=' ')"
   ]
  },
  {
   "cell_type": "markdown",
   "id": "e0431220-f8a5-4345-8d38-0975a6137a9b",
   "metadata": {},
   "source": [
    "### The yield Keyword"
   ]
  },
  {
   "cell_type": "code",
   "execution_count": 12,
   "id": "5e443f75-14d4-4cac-bf0c-fa68c265a444",
   "metadata": {},
   "outputs": [],
   "source": [
    "def getvalues2():\n",
    "    yield 1\n",
    "    yield 2\n",
    "    yield 3\n",
    "    yield 4\n",
    "    yield 5"
   ]
  },
  {
   "cell_type": "code",
   "execution_count": 14,
   "id": "ce6ac343-7450-4058-a3b1-4014d8f84a3e",
   "metadata": {},
   "outputs": [],
   "source": [
    "r = getvalues2()"
   ]
  },
  {
   "cell_type": "code",
   "execution_count": 16,
   "id": "5cc75268-565d-49bd-bf86-ef3732b80674",
   "metadata": {},
   "outputs": [
    {
     "name": "stdout",
     "output_type": "stream",
     "text": [
      "1 2 3 4 5 "
     ]
    }
   ],
   "source": [
    "for i in r:\n",
    "    print(i, end=' ')"
   ]
  },
  {
   "cell_type": "code",
   "execution_count": 18,
   "id": "35754f19-f76c-4672-8e90-a4c36b24fc42",
   "metadata": {},
   "outputs": [],
   "source": [
    "for i in r:\n",
    "    print(i, end=' ')"
   ]
  },
  {
   "cell_type": "code",
   "execution_count": 20,
   "id": "f006dc39-fa2f-428f-9fca-b0a78adcab05",
   "metadata": {},
   "outputs": [],
   "source": [
    "r = getvalues2()"
   ]
  },
  {
   "cell_type": "code",
   "execution_count": 22,
   "id": "e50b76db-1995-4a2e-93c2-5d371e49f171",
   "metadata": {},
   "outputs": [
    {
     "name": "stdout",
     "output_type": "stream",
     "text": [
      "1 2 3 4 5 "
     ]
    }
   ],
   "source": [
    "for i in r:\n",
    "    print(i, end=' ')"
   ]
  },
  {
   "cell_type": "code",
   "execution_count": 24,
   "id": "04af8ef1-e8ea-4545-9fae-bcaa0e5fb445",
   "metadata": {},
   "outputs": [],
   "source": [
    "for i in r:\n",
    "    print(i, end=' ')"
   ]
  },
  {
   "cell_type": "markdown",
   "id": "a3c0ccb7-6cc8-46f7-beee-508e262fdca2",
   "metadata": {},
   "source": [
    "### The next() Function"
   ]
  },
  {
   "cell_type": "code",
   "execution_count": 35,
   "id": "f2c509e6-d452-4bd5-9fab-0d8342f7dd5f",
   "metadata": {},
   "outputs": [],
   "source": [
    "r = getvalues2()"
   ]
  },
  {
   "cell_type": "code",
   "execution_count": 37,
   "id": "0d507916-863c-4347-9bea-4f77843cbee1",
   "metadata": {},
   "outputs": [
    {
     "data": {
      "text/plain": [
       "generator"
      ]
     },
     "execution_count": 37,
     "metadata": {},
     "output_type": "execute_result"
    }
   ],
   "source": [
    "type(r)"
   ]
  },
  {
   "cell_type": "code",
   "execution_count": 39,
   "id": "f8ac04b5-8f95-4147-941e-b960aed8f3d9",
   "metadata": {},
   "outputs": [
    {
     "data": {
      "text/plain": [
       "1"
      ]
     },
     "execution_count": 39,
     "metadata": {},
     "output_type": "execute_result"
    }
   ],
   "source": [
    "next(r)"
   ]
  },
  {
   "cell_type": "code",
   "execution_count": 41,
   "id": "d9c5c94e-7654-41a5-b7cd-bab9ffb69047",
   "metadata": {},
   "outputs": [
    {
     "data": {
      "text/plain": [
       "2"
      ]
     },
     "execution_count": 41,
     "metadata": {},
     "output_type": "execute_result"
    }
   ],
   "source": [
    "next(r)"
   ]
  },
  {
   "cell_type": "code",
   "execution_count": 43,
   "id": "868fedc6-0f53-4822-b305-cd6fd43dfb5f",
   "metadata": {},
   "outputs": [
    {
     "data": {
      "text/plain": [
       "3"
      ]
     },
     "execution_count": 43,
     "metadata": {},
     "output_type": "execute_result"
    }
   ],
   "source": [
    "next(r)"
   ]
  },
  {
   "cell_type": "code",
   "execution_count": 45,
   "id": "201f1e70-a63a-4786-80a7-4f463558bd61",
   "metadata": {},
   "outputs": [
    {
     "name": "stdout",
     "output_type": "stream",
     "text": [
      "4 5 "
     ]
    }
   ],
   "source": [
    "for i in r:\n",
    "    print(i, end=' ')"
   ]
  },
  {
   "cell_type": "markdown",
   "id": "f117411a-594d-4075-8102-68b5dd5c7ead",
   "metadata": {},
   "source": [
    "##### Definition of generator: A generator in Python is a special type of iterable that yields values one at a time using the yield keyword, allowing for efficient, lazy evaluation of sequences without storing the entire sequence in memory."
   ]
  },
  {
   "cell_type": "markdown",
   "id": "d69ae745-921c-4123-aff6-bd361c57d086",
   "metadata": {},
   "source": [
    "### Examples"
   ]
  },
  {
   "cell_type": "markdown",
   "id": "8301484e-0f7a-4d48-8c98-db61b0b3c723",
   "metadata": {},
   "source": [
    "##### Generate: rn -> (rn, rn+1, rn+2)"
   ]
  },
  {
   "cell_type": "code",
   "execution_count": 50,
   "id": "37df736d-02cf-43f9-a08d-141655cfdf72",
   "metadata": {},
   "outputs": [],
   "source": [
    "import random"
   ]
  },
  {
   "cell_type": "code",
   "execution_count": 52,
   "id": "a28feb65-a9c2-4acb-943d-2ffe3a8f5f43",
   "metadata": {},
   "outputs": [],
   "source": [
    "def getseq():\n",
    "    t = random.randint(1, 100)\n",
    "    yield t, t+1, t+2"
   ]
  },
  {
   "cell_type": "code",
   "execution_count": 54,
   "id": "9881d5fa-1a7c-453d-b570-26b90a28db77",
   "metadata": {},
   "outputs": [
    {
     "data": {
      "text/plain": [
       "<generator object getseq at 0x000001FC2CE3B780>"
      ]
     },
     "execution_count": 54,
     "metadata": {},
     "output_type": "execute_result"
    }
   ],
   "source": [
    "getseq()"
   ]
  },
  {
   "cell_type": "code",
   "execution_count": 56,
   "id": "1dca45c6-39f8-43ce-9083-45f64e6351f1",
   "metadata": {},
   "outputs": [
    {
     "data": {
      "text/plain": [
       "(7, 8, 9)"
      ]
     },
     "execution_count": 56,
     "metadata": {},
     "output_type": "execute_result"
    }
   ],
   "source": [
    "next(getseq())"
   ]
  },
  {
   "cell_type": "code",
   "execution_count": 58,
   "id": "f30a97e8-246a-48db-b11f-0e299e9ad278",
   "metadata": {},
   "outputs": [
    {
     "data": {
      "text/plain": [
       "(55, 56, 57)"
      ]
     },
     "execution_count": 58,
     "metadata": {},
     "output_type": "execute_result"
    }
   ],
   "source": [
    "next(getseq())"
   ]
  },
  {
   "cell_type": "markdown",
   "id": "268b6598-4804-4393-9009-09dc0fcc41de",
   "metadata": {},
   "source": [
    "### Fibonacci Sequence using generator object"
   ]
  },
  {
   "cell_type": "code",
   "execution_count": 62,
   "id": "abfb9304-3940-45f3-a4a1-470d7b290cae",
   "metadata": {},
   "outputs": [],
   "source": [
    "def fibo(n):\n",
    "    a,b = 0,1\n",
    "    for i in range(n):\n",
    "        yield a\n",
    "        a, b = b, a + b"
   ]
  },
  {
   "cell_type": "code",
   "execution_count": 66,
   "id": "268b8937-cc25-4f87-9096-e0dcf8f114f7",
   "metadata": {},
   "outputs": [
    {
     "data": {
      "text/plain": [
       "<generator object fibo at 0x000001FC2F8EDA80>"
      ]
     },
     "execution_count": 66,
     "metadata": {},
     "output_type": "execute_result"
    }
   ],
   "source": [
    "g = fibo(10)\n",
    "g"
   ]
  },
  {
   "cell_type": "code",
   "execution_count": 68,
   "id": "4342f39f-1c30-4966-8c0c-4c9de655dac3",
   "metadata": {},
   "outputs": [
    {
     "name": "stdout",
     "output_type": "stream",
     "text": [
      "0, 1, 1, 2, 3, 5, 8, 13, 21, 34, "
     ]
    }
   ],
   "source": [
    "for n in g:\n",
    "    print(n, end=', ')\n"
   ]
  },
  {
   "cell_type": "code",
   "execution_count": 70,
   "id": "42492f08-f3a6-44b1-88c0-14c3596331a7",
   "metadata": {},
   "outputs": [],
   "source": [
    "for n in g:\n",
    "    print(n, end=', ')\n"
   ]
  },
  {
   "cell_type": "code",
   "execution_count": 72,
   "id": "a0835803-1893-4054-8bdf-052e35463201",
   "metadata": {},
   "outputs": [
    {
     "name": "stdout",
     "output_type": "stream",
     "text": [
      "0, 1, 1, 2, 3, 5, 8, 13, 21, 34, "
     ]
    }
   ],
   "source": [
    "for n in fibo(10):\n",
    "    print(n, end=', ')"
   ]
  },
  {
   "cell_type": "code",
   "execution_count": 74,
   "id": "d9ddb3f2-66d2-4a91-b6ae-9b938c6d6b6f",
   "metadata": {},
   "outputs": [
    {
     "name": "stdout",
     "output_type": "stream",
     "text": [
      "0, 1, 1, 2, 3, 5, 8, 13, 21, 34, "
     ]
    }
   ],
   "source": [
    "for n in fibo(10):\n",
    "    print(n, end=', ')"
   ]
  },
  {
   "cell_type": "markdown",
   "id": "0d2a3323-15a0-4949-a4f3-ca2c2e203892",
   "metadata": {},
   "source": [
    "##### Generator to filter names starting with a specific letter"
   ]
  },
  {
   "cell_type": "code",
   "execution_count": 79,
   "id": "62e6384f-af30-484b-853a-576dd58c5e4c",
   "metadata": {},
   "outputs": [],
   "source": [
    "# Generator\n",
    "def names_starting_with(names, letter):\n",
    "    for name in names:\n",
    "        if name.startswith(letter):\n",
    "            yield name"
   ]
  },
  {
   "cell_type": "code",
   "execution_count": 81,
   "id": "d9ec235a-0ae9-420d-893d-560f244d9870",
   "metadata": {},
   "outputs": [
    {
     "name": "stdout",
     "output_type": "stream",
     "text": [
      "Alice\n",
      "Arun\n",
      "Anita\n"
     ]
    }
   ],
   "source": [
    "names = [\"Alice\", \"Bob\", \"Arun\", \"Charlie\", \"Anita\"]\n",
    "for n in names_starting_with(names, \"A\"):\n",
    "    print(n)"
   ]
  },
  {
   "cell_type": "markdown",
   "id": "7358a70c-1b5f-4efe-ab6a-4293067beac8",
   "metadata": {},
   "source": [
    "##### Sliding window generator"
   ]
  },
  {
   "cell_type": "code",
   "execution_count": 84,
   "id": "1c73072c-2f19-46bf-a3d9-826b5c9e61ad",
   "metadata": {},
   "outputs": [],
   "source": [
    "def sliding_window(values, size):\n",
    "    times = len(values) - size\n",
    "    for i in range(times + 1):\n",
    "        yield tuple(values[i:i + size])"
   ]
  },
  {
   "cell_type": "code",
   "execution_count": 86,
   "id": "08d16949-83b8-42ca-b8cf-65cb4fe7d21a",
   "metadata": {},
   "outputs": [
    {
     "name": "stdout",
     "output_type": "stream",
     "text": [
      "(1, 2, 3)\n",
      "(2, 3, 4)\n",
      "(3, 4, 5)\n"
     ]
    }
   ],
   "source": [
    "for window in sliding_window([1, 2, 3, 4, 5], 3):\n",
    "    print(window)"
   ]
  },
  {
   "cell_type": "code",
   "execution_count": 88,
   "id": "91058db3-694e-4d8f-ae29-4bbf0fee76f9",
   "metadata": {},
   "outputs": [
    {
     "name": "stdout",
     "output_type": "stream",
     "text": [
      "('c', 'o', 'm', 'p')\n",
      "('o', 'm', 'p', 'u')\n",
      "('m', 'p', 'u', 't')\n",
      "('p', 'u', 't', 'e')\n",
      "('u', 't', 'e', 'r')\n"
     ]
    }
   ],
   "source": [
    "for window in sliding_window('computer', 4):\n",
    "    print(window) "
   ]
  },
  {
   "cell_type": "markdown",
   "id": "cbb5ce5d-9050-40ee-a048-85f75bf37549",
   "metadata": {},
   "source": [
    "##### Chunking using generators"
   ]
  },
  {
   "cell_type": "code",
   "execution_count": 91,
   "id": "b55481a7-934a-43ed-bfe4-f5125794f033",
   "metadata": {},
   "outputs": [],
   "source": [
    "import re"
   ]
  },
  {
   "cell_type": "code",
   "execution_count": 93,
   "id": "532971aa-b518-488f-a545-816511ae123b",
   "metadata": {},
   "outputs": [],
   "source": [
    "def chunk_paragraph(para, chunk_size, include_index=True):\n",
    "    # Split the text in sentences\n",
    "    pattern = r'[^.?!]*[.!?]'\n",
    "    sentences = re.findall(pattern, para)\n",
    "\n",
    "    # remove whitespaces from sentences\n",
    "    sentences = [s.strip() for s in sentences if s.strip()]\n",
    "\n",
    "    # yield the chunks\n",
    "    for i in range(0, len(sentences), chunk_size):\n",
    "        chunk = \" \".join(sentences[i:i + chunk_size])\n",
    "        if(include_index):\n",
    "            yield f\"Chunk {(i//chunk_size) + 1 } : {chunk}\"\n",
    "        else:\n",
    "            yield chunk"
   ]
  },
  {
   "cell_type": "code",
   "execution_count": 101,
   "id": "6075384b-1fb1-4f2f-8923-3918331b1941",
   "metadata": {},
   "outputs": [
    {
     "name": "stdout",
     "output_type": "stream",
     "text": [
      "Chunk 1 : Python is easy to learn.\n",
      "Chunk 2 : It is also powerful!\n",
      "Chunk 3 : Many developers love it.\n",
      "Chunk 4 : Do you use it daily?\n",
      "Chunk 5 : It is used in data science, web development, and automation.\n"
     ]
    }
   ],
   "source": [
    "text = (\n",
    "    \"Python is easy to learn. It is also powerful! \"\n",
    "    \"Many developers love it. Do you use it daily? \"\n",
    "    \"It is used in data science, web development, and automation.\"\n",
    ")\n",
    "\n",
    "for chunk in chunk_paragraph(text, chunk_size=1, include_index=True):\n",
    "    print(chunk)"
   ]
  },
  {
   "cell_type": "code",
   "execution_count": 105,
   "id": "e93ab068-fd4f-473e-bfaf-57b268b611f6",
   "metadata": {},
   "outputs": [],
   "source": [
    "g = chunk_paragraph(text, chunk_size=1, include_index=True)"
   ]
  },
  {
   "cell_type": "code",
   "execution_count": 107,
   "id": "9f538d01-9660-4e8a-9d2b-f3e4e2cde6bc",
   "metadata": {},
   "outputs": [
    {
     "data": {
      "text/plain": [
       "'Chunk 1 : Python is easy to learn.'"
      ]
     },
     "execution_count": 107,
     "metadata": {},
     "output_type": "execute_result"
    }
   ],
   "source": [
    "next(g)"
   ]
  },
  {
   "cell_type": "code",
   "execution_count": 109,
   "id": "d39cdccc-b6e2-4939-a55f-278ea9937b61",
   "metadata": {},
   "outputs": [
    {
     "data": {
      "text/plain": [
       "'Chunk 2 : It is also powerful!'"
      ]
     },
     "execution_count": 109,
     "metadata": {},
     "output_type": "execute_result"
    }
   ],
   "source": [
    "next(g)"
   ]
  },
  {
   "cell_type": "code",
   "execution_count": 111,
   "id": "5dd92d26-ffdf-4fb1-94ca-753069dd29c1",
   "metadata": {},
   "outputs": [
    {
     "data": {
      "text/plain": [
       "'Chunk 3 : Many developers love it.'"
      ]
     },
     "execution_count": 111,
     "metadata": {},
     "output_type": "execute_result"
    }
   ],
   "source": [
    "next(g)"
   ]
  },
  {
   "cell_type": "code",
   "execution_count": 113,
   "id": "c4cafafe-2fda-4721-82d1-4dbea42d2bbd",
   "metadata": {},
   "outputs": [
    {
     "data": {
      "text/plain": [
       "'Chunk 4 : Do you use it daily?'"
      ]
     },
     "execution_count": 113,
     "metadata": {},
     "output_type": "execute_result"
    }
   ],
   "source": [
    "next(g)"
   ]
  },
  {
   "cell_type": "code",
   "execution_count": 115,
   "id": "a6f27ba5-764c-45f9-8c6c-100ebc84f791",
   "metadata": {},
   "outputs": [
    {
     "data": {
      "text/plain": [
       "'Chunk 5 : It is used in data science, web development, and automation.'"
      ]
     },
     "execution_count": 115,
     "metadata": {},
     "output_type": "execute_result"
    }
   ],
   "source": [
    "next(g)"
   ]
  },
  {
   "cell_type": "code",
   "execution_count": 117,
   "id": "fe2a7edb-f0ee-4358-aaae-d753b9c115af",
   "metadata": {},
   "outputs": [
    {
     "ename": "StopIteration",
     "evalue": "",
     "output_type": "error",
     "traceback": [
      "\u001b[1;31m---------------------------------------------------------------------------\u001b[0m",
      "\u001b[1;31mStopIteration\u001b[0m                             Traceback (most recent call last)",
      "Cell \u001b[1;32mIn[117], line 1\u001b[0m\n\u001b[1;32m----> 1\u001b[0m \u001b[38;5;28mnext\u001b[39m(g)\n",
      "\u001b[1;31mStopIteration\u001b[0m: "
     ]
    }
   ],
   "source": [
    "next(g)"
   ]
  },
  {
   "cell_type": "code",
   "execution_count": null,
   "id": "2d572e9a-6381-46b0-b03a-df4136afbf14",
   "metadata": {},
   "outputs": [],
   "source": []
  }
 ],
 "metadata": {
  "kernelspec": {
   "display_name": "Python 3 (ipykernel)",
   "language": "python",
   "name": "python3"
  },
  "language_info": {
   "codemirror_mode": {
    "name": "ipython",
    "version": 3
   },
   "file_extension": ".py",
   "mimetype": "text/x-python",
   "name": "python",
   "nbconvert_exporter": "python",
   "pygments_lexer": "ipython3",
   "version": "3.12.7"
  }
 },
 "nbformat": 4,
 "nbformat_minor": 5
}
